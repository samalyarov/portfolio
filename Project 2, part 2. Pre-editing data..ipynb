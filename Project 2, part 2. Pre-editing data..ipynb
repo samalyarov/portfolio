{
 "cells": [
  {
   "cell_type": "markdown",
   "id": "97d6eb81",
   "metadata": {},
   "source": [
    "<div style=\"border:solid green 3px; padding: 20px\">\n",
    "\n",
    "<b>Привет!</b>\n",
    "\n",
    "Меня зовут Сороколетов Илья и я буду проверять твой проект. \n",
    "\n",
    "Предлагаю общаться на «**ты**», но если тебе будет комфортнее общаться на «**вы**», то сообщи об этом в комментариях)\n",
    "\n",
    "\n",
    "Для твоего удобства, я буду выделять свои комментарии следующим образом:\n",
    "\n",
    "<div class=\"alert alert-danger\">\n",
    "<b>❌ Комментарий ревьюера v1:</b> Самые важные замечания. Они указывают на ключевые моменты, которые влияют на конечный результат проекта. </div>\n",
    "\n",
    "<div class=\"alert alert-warning\">\n",
    "<b>⚠️ Комментарий ревьюера v1:</b> Советы или замечания, которые помогут сделать твою работу лучше, но необязательны к выполнению.\n",
    "\n",
    "</div>\n",
    "\n",
    "<div class=\"alert alert-success\">\n",
    "<b>✔️ Комментарий ревьюера v1:</b> Так я выделяю все остальные комментарии.</div>\n",
    "\n",
    "\n",
    "Пометками <b>v1-v2-v3-...</b> я буду отмечать версию проверки. Так ты сможешь быстро найти мои новые комментарии.\n",
    "\n",
    "Давай работать над проектом в диалоге: если ты что-то меняешь в проекте по моим рекомендациям — пиши об этом. Выбери для своих комментариев какой-то заметный цвет, так мне будет легче отследить изменения, например вот так:\n",
    "    \n",
    "<div class=\"alert alert-info\">\n",
    "<b>Комментарий студента:</b>\n",
    "<br>\n",
    "</div>\n",
    "\n",
    "<b>Пожалуйста, не перемещай, не изменяй и не удаляй мои комментарии.</b> Если ты оставляешь свои комментарии, то делай это под моими, чтобы сообщения были расположены в хронологическом порядке. Всё это поможет выполнить повторную проверку твоего проекта быстрее. \n",
    "\n",
    "\n",
    "Перед отправкой работы я рекомендую нажимать Kernel -> Restart & Run All. Это перезапустит ядро и по очереди выполнит все ячейки. Так ты сможешь проверить, что всё работает корректно. Кнопка Kernel находится в панели сверху\n",
    "\n",
    "Обязательно задавай вопросы если они возникнут, а я перехожу к проверке)\n",
    "\n",
    "P.S. На всякий случай, я оставлю пустой шаблон для твоих комментариев ниже. Кликни два раза на мой комментарий, скопируй последние четыре строчки кода и вставляй их в пустую ячейку там, где ты хочешь оставить комментарий. Не забудь только перед этим сменить тип ячейки на Markdown. Быстро это можно сделать так: кликнуть на ячейку - нажать ESC - нажать M. \n",
    "    \n",
    "    \n",
    "<div class=\"alert alert-info\">\n",
    "<b>Комментарий студента:</b>\n",
    "<br>\n",
    "</div>"
   ]
  },
  {
   "cell_type": "markdown",
   "id": "c81daeeb",
   "metadata": {
    "deletable": false,
    "id": "c81daeeb"
   },
   "source": [
    "# Исследование надежности заемщиков\n"
   ]
  },
  {
   "cell_type": "markdown",
   "id": "827c20bf",
   "metadata": {
    "id": "827c20bf"
   },
   "source": [
    "Во второй части проекта вы выполните шаги 3 и 4. Их вручную проверит ревьюер.\n",
    "Чтобы вам не пришлось писать код заново для шагов 1 и 2, мы добавили авторские решения в ячейки с кодом. \n",
    "\n"
   ]
  },
  {
   "cell_type": "markdown",
   "id": "744d7639",
   "metadata": {
    "deletable": false,
    "id": "744d7639"
   },
   "source": [
    "## Откройте таблицу и изучите общую информацию о данных"
   ]
  },
  {
   "cell_type": "markdown",
   "id": "e7a14c31",
   "metadata": {
    "deletable": false,
    "id": "e7a14c31"
   },
   "source": [
    "**Задание 1. Импортируйте библиотеку pandas. Считайте данные из csv-файла в датафрейм и сохраните в переменную `data`. Путь к файлу:**\n",
    "\n",
    "`/datasets/data.csv`"
   ]
  },
  {
   "cell_type": "code",
   "execution_count": 1,
   "id": "7bcf75c9",
   "metadata": {
    "deletable": false,
    "id": "7bcf75c9"
   },
   "outputs": [],
   "source": [
    "import pandas as pd\n",
    "\n",
    "try:\n",
    "    data = pd.read_csv('/datasets/data.csv')\n",
    "except:\n",
    "    data = pd.read_csv('https://code.s3.yandex.net/datasets/data.csv')"
   ]
  },
  {
   "cell_type": "markdown",
   "id": "b8038fe3",
   "metadata": {
    "deletable": false,
    "id": "b8038fe3"
   },
   "source": [
    "**Задание 2. Выведите первые 20 строчек датафрейма `data` на экран.**"
   ]
  },
  {
   "cell_type": "code",
   "execution_count": 2,
   "id": "2a7cab99",
   "metadata": {
    "deletable": false,
    "id": "2a7cab99",
    "outputId": "1a8f3ef2-d323-4ec2-ddf7-89670b5944c4"
   },
   "outputs": [
    {
     "data": {
      "text/html": [
       "<div>\n",
       "<style scoped>\n",
       "    .dataframe tbody tr th:only-of-type {\n",
       "        vertical-align: middle;\n",
       "    }\n",
       "\n",
       "    .dataframe tbody tr th {\n",
       "        vertical-align: top;\n",
       "    }\n",
       "\n",
       "    .dataframe thead th {\n",
       "        text-align: right;\n",
       "    }\n",
       "</style>\n",
       "<table border=\"1\" class=\"dataframe\">\n",
       "  <thead>\n",
       "    <tr style=\"text-align: right;\">\n",
       "      <th></th>\n",
       "      <th>children</th>\n",
       "      <th>days_employed</th>\n",
       "      <th>dob_years</th>\n",
       "      <th>education</th>\n",
       "      <th>education_id</th>\n",
       "      <th>family_status</th>\n",
       "      <th>family_status_id</th>\n",
       "      <th>gender</th>\n",
       "      <th>income_type</th>\n",
       "      <th>debt</th>\n",
       "      <th>total_income</th>\n",
       "      <th>purpose</th>\n",
       "    </tr>\n",
       "  </thead>\n",
       "  <tbody>\n",
       "    <tr>\n",
       "      <th>0</th>\n",
       "      <td>1</td>\n",
       "      <td>-8437.673028</td>\n",
       "      <td>42</td>\n",
       "      <td>высшее</td>\n",
       "      <td>0</td>\n",
       "      <td>женат / замужем</td>\n",
       "      <td>0</td>\n",
       "      <td>F</td>\n",
       "      <td>сотрудник</td>\n",
       "      <td>0</td>\n",
       "      <td>253875.639453</td>\n",
       "      <td>покупка жилья</td>\n",
       "    </tr>\n",
       "    <tr>\n",
       "      <th>1</th>\n",
       "      <td>1</td>\n",
       "      <td>-4024.803754</td>\n",
       "      <td>36</td>\n",
       "      <td>среднее</td>\n",
       "      <td>1</td>\n",
       "      <td>женат / замужем</td>\n",
       "      <td>0</td>\n",
       "      <td>F</td>\n",
       "      <td>сотрудник</td>\n",
       "      <td>0</td>\n",
       "      <td>112080.014102</td>\n",
       "      <td>приобретение автомобиля</td>\n",
       "    </tr>\n",
       "    <tr>\n",
       "      <th>2</th>\n",
       "      <td>0</td>\n",
       "      <td>-5623.422610</td>\n",
       "      <td>33</td>\n",
       "      <td>Среднее</td>\n",
       "      <td>1</td>\n",
       "      <td>женат / замужем</td>\n",
       "      <td>0</td>\n",
       "      <td>M</td>\n",
       "      <td>сотрудник</td>\n",
       "      <td>0</td>\n",
       "      <td>145885.952297</td>\n",
       "      <td>покупка жилья</td>\n",
       "    </tr>\n",
       "    <tr>\n",
       "      <th>3</th>\n",
       "      <td>3</td>\n",
       "      <td>-4124.747207</td>\n",
       "      <td>32</td>\n",
       "      <td>среднее</td>\n",
       "      <td>1</td>\n",
       "      <td>женат / замужем</td>\n",
       "      <td>0</td>\n",
       "      <td>M</td>\n",
       "      <td>сотрудник</td>\n",
       "      <td>0</td>\n",
       "      <td>267628.550329</td>\n",
       "      <td>дополнительное образование</td>\n",
       "    </tr>\n",
       "    <tr>\n",
       "      <th>4</th>\n",
       "      <td>0</td>\n",
       "      <td>340266.072047</td>\n",
       "      <td>53</td>\n",
       "      <td>среднее</td>\n",
       "      <td>1</td>\n",
       "      <td>гражданский брак</td>\n",
       "      <td>1</td>\n",
       "      <td>F</td>\n",
       "      <td>пенсионер</td>\n",
       "      <td>0</td>\n",
       "      <td>158616.077870</td>\n",
       "      <td>сыграть свадьбу</td>\n",
       "    </tr>\n",
       "    <tr>\n",
       "      <th>5</th>\n",
       "      <td>0</td>\n",
       "      <td>-926.185831</td>\n",
       "      <td>27</td>\n",
       "      <td>высшее</td>\n",
       "      <td>0</td>\n",
       "      <td>гражданский брак</td>\n",
       "      <td>1</td>\n",
       "      <td>M</td>\n",
       "      <td>компаньон</td>\n",
       "      <td>0</td>\n",
       "      <td>255763.565419</td>\n",
       "      <td>покупка жилья</td>\n",
       "    </tr>\n",
       "    <tr>\n",
       "      <th>6</th>\n",
       "      <td>0</td>\n",
       "      <td>-2879.202052</td>\n",
       "      <td>43</td>\n",
       "      <td>высшее</td>\n",
       "      <td>0</td>\n",
       "      <td>женат / замужем</td>\n",
       "      <td>0</td>\n",
       "      <td>F</td>\n",
       "      <td>компаньон</td>\n",
       "      <td>0</td>\n",
       "      <td>240525.971920</td>\n",
       "      <td>операции с жильем</td>\n",
       "    </tr>\n",
       "    <tr>\n",
       "      <th>7</th>\n",
       "      <td>0</td>\n",
       "      <td>-152.779569</td>\n",
       "      <td>50</td>\n",
       "      <td>СРЕДНЕЕ</td>\n",
       "      <td>1</td>\n",
       "      <td>женат / замужем</td>\n",
       "      <td>0</td>\n",
       "      <td>M</td>\n",
       "      <td>сотрудник</td>\n",
       "      <td>0</td>\n",
       "      <td>135823.934197</td>\n",
       "      <td>образование</td>\n",
       "    </tr>\n",
       "    <tr>\n",
       "      <th>8</th>\n",
       "      <td>2</td>\n",
       "      <td>-6929.865299</td>\n",
       "      <td>35</td>\n",
       "      <td>ВЫСШЕЕ</td>\n",
       "      <td>0</td>\n",
       "      <td>гражданский брак</td>\n",
       "      <td>1</td>\n",
       "      <td>F</td>\n",
       "      <td>сотрудник</td>\n",
       "      <td>0</td>\n",
       "      <td>95856.832424</td>\n",
       "      <td>на проведение свадьбы</td>\n",
       "    </tr>\n",
       "    <tr>\n",
       "      <th>9</th>\n",
       "      <td>0</td>\n",
       "      <td>-2188.756445</td>\n",
       "      <td>41</td>\n",
       "      <td>среднее</td>\n",
       "      <td>1</td>\n",
       "      <td>женат / замужем</td>\n",
       "      <td>0</td>\n",
       "      <td>M</td>\n",
       "      <td>сотрудник</td>\n",
       "      <td>0</td>\n",
       "      <td>144425.938277</td>\n",
       "      <td>покупка жилья для семьи</td>\n",
       "    </tr>\n",
       "    <tr>\n",
       "      <th>10</th>\n",
       "      <td>2</td>\n",
       "      <td>-4171.483647</td>\n",
       "      <td>36</td>\n",
       "      <td>высшее</td>\n",
       "      <td>0</td>\n",
       "      <td>женат / замужем</td>\n",
       "      <td>0</td>\n",
       "      <td>M</td>\n",
       "      <td>компаньон</td>\n",
       "      <td>0</td>\n",
       "      <td>113943.491460</td>\n",
       "      <td>покупка недвижимости</td>\n",
       "    </tr>\n",
       "    <tr>\n",
       "      <th>11</th>\n",
       "      <td>0</td>\n",
       "      <td>-792.701887</td>\n",
       "      <td>40</td>\n",
       "      <td>среднее</td>\n",
       "      <td>1</td>\n",
       "      <td>женат / замужем</td>\n",
       "      <td>0</td>\n",
       "      <td>F</td>\n",
       "      <td>сотрудник</td>\n",
       "      <td>0</td>\n",
       "      <td>77069.234271</td>\n",
       "      <td>покупка коммерческой недвижимости</td>\n",
       "    </tr>\n",
       "    <tr>\n",
       "      <th>12</th>\n",
       "      <td>0</td>\n",
       "      <td>NaN</td>\n",
       "      <td>65</td>\n",
       "      <td>среднее</td>\n",
       "      <td>1</td>\n",
       "      <td>гражданский брак</td>\n",
       "      <td>1</td>\n",
       "      <td>M</td>\n",
       "      <td>пенсионер</td>\n",
       "      <td>0</td>\n",
       "      <td>NaN</td>\n",
       "      <td>сыграть свадьбу</td>\n",
       "    </tr>\n",
       "    <tr>\n",
       "      <th>13</th>\n",
       "      <td>0</td>\n",
       "      <td>-1846.641941</td>\n",
       "      <td>54</td>\n",
       "      <td>неоконченное высшее</td>\n",
       "      <td>2</td>\n",
       "      <td>женат / замужем</td>\n",
       "      <td>0</td>\n",
       "      <td>F</td>\n",
       "      <td>сотрудник</td>\n",
       "      <td>0</td>\n",
       "      <td>130458.228857</td>\n",
       "      <td>приобретение автомобиля</td>\n",
       "    </tr>\n",
       "    <tr>\n",
       "      <th>14</th>\n",
       "      <td>0</td>\n",
       "      <td>-1844.956182</td>\n",
       "      <td>56</td>\n",
       "      <td>высшее</td>\n",
       "      <td>0</td>\n",
       "      <td>гражданский брак</td>\n",
       "      <td>1</td>\n",
       "      <td>F</td>\n",
       "      <td>компаньон</td>\n",
       "      <td>1</td>\n",
       "      <td>165127.911772</td>\n",
       "      <td>покупка жилой недвижимости</td>\n",
       "    </tr>\n",
       "    <tr>\n",
       "      <th>15</th>\n",
       "      <td>1</td>\n",
       "      <td>-972.364419</td>\n",
       "      <td>26</td>\n",
       "      <td>среднее</td>\n",
       "      <td>1</td>\n",
       "      <td>женат / замужем</td>\n",
       "      <td>0</td>\n",
       "      <td>F</td>\n",
       "      <td>сотрудник</td>\n",
       "      <td>0</td>\n",
       "      <td>116820.904450</td>\n",
       "      <td>строительство собственной недвижимости</td>\n",
       "    </tr>\n",
       "    <tr>\n",
       "      <th>16</th>\n",
       "      <td>0</td>\n",
       "      <td>-1719.934226</td>\n",
       "      <td>35</td>\n",
       "      <td>среднее</td>\n",
       "      <td>1</td>\n",
       "      <td>женат / замужем</td>\n",
       "      <td>0</td>\n",
       "      <td>F</td>\n",
       "      <td>сотрудник</td>\n",
       "      <td>0</td>\n",
       "      <td>289202.704229</td>\n",
       "      <td>недвижимость</td>\n",
       "    </tr>\n",
       "    <tr>\n",
       "      <th>17</th>\n",
       "      <td>0</td>\n",
       "      <td>-2369.999720</td>\n",
       "      <td>33</td>\n",
       "      <td>высшее</td>\n",
       "      <td>0</td>\n",
       "      <td>гражданский брак</td>\n",
       "      <td>1</td>\n",
       "      <td>M</td>\n",
       "      <td>сотрудник</td>\n",
       "      <td>0</td>\n",
       "      <td>90410.586745</td>\n",
       "      <td>строительство недвижимости</td>\n",
       "    </tr>\n",
       "    <tr>\n",
       "      <th>18</th>\n",
       "      <td>0</td>\n",
       "      <td>400281.136913</td>\n",
       "      <td>53</td>\n",
       "      <td>среднее</td>\n",
       "      <td>1</td>\n",
       "      <td>вдовец / вдова</td>\n",
       "      <td>2</td>\n",
       "      <td>F</td>\n",
       "      <td>пенсионер</td>\n",
       "      <td>0</td>\n",
       "      <td>56823.777243</td>\n",
       "      <td>на покупку подержанного автомобиля</td>\n",
       "    </tr>\n",
       "    <tr>\n",
       "      <th>19</th>\n",
       "      <td>0</td>\n",
       "      <td>-10038.818549</td>\n",
       "      <td>48</td>\n",
       "      <td>СРЕДНЕЕ</td>\n",
       "      <td>1</td>\n",
       "      <td>в разводе</td>\n",
       "      <td>3</td>\n",
       "      <td>F</td>\n",
       "      <td>сотрудник</td>\n",
       "      <td>0</td>\n",
       "      <td>242831.107982</td>\n",
       "      <td>на покупку своего автомобиля</td>\n",
       "    </tr>\n",
       "  </tbody>\n",
       "</table>\n",
       "</div>"
      ],
      "text/plain": [
       "    children  days_employed  dob_years            education  education_id  \\\n",
       "0          1   -8437.673028         42               высшее             0   \n",
       "1          1   -4024.803754         36              среднее             1   \n",
       "2          0   -5623.422610         33              Среднее             1   \n",
       "3          3   -4124.747207         32              среднее             1   \n",
       "4          0  340266.072047         53              среднее             1   \n",
       "5          0    -926.185831         27               высшее             0   \n",
       "6          0   -2879.202052         43               высшее             0   \n",
       "7          0    -152.779569         50              СРЕДНЕЕ             1   \n",
       "8          2   -6929.865299         35               ВЫСШЕЕ             0   \n",
       "9          0   -2188.756445         41              среднее             1   \n",
       "10         2   -4171.483647         36               высшее             0   \n",
       "11         0    -792.701887         40              среднее             1   \n",
       "12         0            NaN         65              среднее             1   \n",
       "13         0   -1846.641941         54  неоконченное высшее             2   \n",
       "14         0   -1844.956182         56               высшее             0   \n",
       "15         1    -972.364419         26              среднее             1   \n",
       "16         0   -1719.934226         35              среднее             1   \n",
       "17         0   -2369.999720         33               высшее             0   \n",
       "18         0  400281.136913         53              среднее             1   \n",
       "19         0  -10038.818549         48              СРЕДНЕЕ             1   \n",
       "\n",
       "       family_status  family_status_id gender income_type  debt  \\\n",
       "0    женат / замужем                 0      F   сотрудник     0   \n",
       "1    женат / замужем                 0      F   сотрудник     0   \n",
       "2    женат / замужем                 0      M   сотрудник     0   \n",
       "3    женат / замужем                 0      M   сотрудник     0   \n",
       "4   гражданский брак                 1      F   пенсионер     0   \n",
       "5   гражданский брак                 1      M   компаньон     0   \n",
       "6    женат / замужем                 0      F   компаньон     0   \n",
       "7    женат / замужем                 0      M   сотрудник     0   \n",
       "8   гражданский брак                 1      F   сотрудник     0   \n",
       "9    женат / замужем                 0      M   сотрудник     0   \n",
       "10   женат / замужем                 0      M   компаньон     0   \n",
       "11   женат / замужем                 0      F   сотрудник     0   \n",
       "12  гражданский брак                 1      M   пенсионер     0   \n",
       "13   женат / замужем                 0      F   сотрудник     0   \n",
       "14  гражданский брак                 1      F   компаньон     1   \n",
       "15   женат / замужем                 0      F   сотрудник     0   \n",
       "16   женат / замужем                 0      F   сотрудник     0   \n",
       "17  гражданский брак                 1      M   сотрудник     0   \n",
       "18    вдовец / вдова                 2      F   пенсионер     0   \n",
       "19         в разводе                 3      F   сотрудник     0   \n",
       "\n",
       "     total_income                                 purpose  \n",
       "0   253875.639453                           покупка жилья  \n",
       "1   112080.014102                 приобретение автомобиля  \n",
       "2   145885.952297                           покупка жилья  \n",
       "3   267628.550329              дополнительное образование  \n",
       "4   158616.077870                         сыграть свадьбу  \n",
       "5   255763.565419                           покупка жилья  \n",
       "6   240525.971920                       операции с жильем  \n",
       "7   135823.934197                             образование  \n",
       "8    95856.832424                   на проведение свадьбы  \n",
       "9   144425.938277                 покупка жилья для семьи  \n",
       "10  113943.491460                    покупка недвижимости  \n",
       "11   77069.234271       покупка коммерческой недвижимости  \n",
       "12            NaN                         сыграть свадьбу  \n",
       "13  130458.228857                 приобретение автомобиля  \n",
       "14  165127.911772              покупка жилой недвижимости  \n",
       "15  116820.904450  строительство собственной недвижимости  \n",
       "16  289202.704229                            недвижимость  \n",
       "17   90410.586745              строительство недвижимости  \n",
       "18   56823.777243      на покупку подержанного автомобиля  \n",
       "19  242831.107982            на покупку своего автомобиля  "
      ]
     },
     "execution_count": 2,
     "metadata": {},
     "output_type": "execute_result"
    }
   ],
   "source": [
    "data.head(20)"
   ]
  },
  {
   "cell_type": "markdown",
   "id": "1c12e233",
   "metadata": {
    "deletable": false,
    "id": "1c12e233"
   },
   "source": [
    "**Задание 3. Выведите основную информацию о датафрейме с помощью метода `info()`.**"
   ]
  },
  {
   "cell_type": "code",
   "execution_count": 3,
   "id": "2b757bca",
   "metadata": {
    "deletable": false,
    "id": "2b757bca",
    "outputId": "15376089-8dad-46c9-b520-c05248d43158"
   },
   "outputs": [
    {
     "name": "stdout",
     "output_type": "stream",
     "text": [
      "<class 'pandas.core.frame.DataFrame'>\n",
      "RangeIndex: 21525 entries, 0 to 21524\n",
      "Data columns (total 12 columns):\n",
      " #   Column            Non-Null Count  Dtype  \n",
      "---  ------            --------------  -----  \n",
      " 0   children          21525 non-null  int64  \n",
      " 1   days_employed     19351 non-null  float64\n",
      " 2   dob_years         21525 non-null  int64  \n",
      " 3   education         21525 non-null  object \n",
      " 4   education_id      21525 non-null  int64  \n",
      " 5   family_status     21525 non-null  object \n",
      " 6   family_status_id  21525 non-null  int64  \n",
      " 7   gender            21525 non-null  object \n",
      " 8   income_type       21525 non-null  object \n",
      " 9   debt              21525 non-null  int64  \n",
      " 10  total_income      19351 non-null  float64\n",
      " 11  purpose           21525 non-null  object \n",
      "dtypes: float64(2), int64(5), object(5)\n",
      "memory usage: 2.0+ MB\n"
     ]
    }
   ],
   "source": [
    "data.info()"
   ]
  },
  {
   "cell_type": "markdown",
   "id": "333ec665",
   "metadata": {
    "deletable": false,
    "id": "333ec665"
   },
   "source": [
    "## Предобработка данных"
   ]
  },
  {
   "cell_type": "markdown",
   "id": "02d92d53",
   "metadata": {
    "deletable": false,
    "id": "02d92d53"
   },
   "source": [
    "### Удаление пропусков"
   ]
  },
  {
   "cell_type": "markdown",
   "id": "cd84967c",
   "metadata": {
    "deletable": false,
    "id": "cd84967c"
   },
   "source": [
    "**Задание 4. Выведите количество пропущенных значений для каждого столбца. Используйте комбинацию двух методов.**"
   ]
  },
  {
   "cell_type": "code",
   "execution_count": 4,
   "id": "7f9b2309",
   "metadata": {
    "deletable": false,
    "id": "7f9b2309",
    "outputId": "81f4d817-781c-465c-ed15-91ce4446810d"
   },
   "outputs": [
    {
     "data": {
      "text/plain": [
       "children               0\n",
       "days_employed       2174\n",
       "dob_years              0\n",
       "education              0\n",
       "education_id           0\n",
       "family_status          0\n",
       "family_status_id       0\n",
       "gender                 0\n",
       "income_type            0\n",
       "debt                   0\n",
       "total_income        2174\n",
       "purpose                0\n",
       "dtype: int64"
      ]
     },
     "execution_count": 4,
     "metadata": {},
     "output_type": "execute_result"
    }
   ],
   "source": [
    "data.isna().sum()"
   ]
  },
  {
   "cell_type": "markdown",
   "id": "db86e27b",
   "metadata": {
    "deletable": false,
    "id": "db86e27b"
   },
   "source": [
    "**Задание 5. В двух столбцах есть пропущенные значения. Один из них — `days_employed`. Пропуски в этом столбце вы обработаете на следующем этапе. Другой столбец с пропущенными значениями — `total_income` — хранит данные о доходах. На сумму дохода сильнее всего влияет тип занятости, поэтому заполнить пропуски в этом столбце нужно медианным значением по каждому типу из столбца `income_type`. Например, у человека с типом занятости `сотрудник` пропуск в столбце `total_income` должен быть заполнен медианным доходом среди всех записей с тем же типом.**"
   ]
  },
  {
   "cell_type": "code",
   "execution_count": 5,
   "id": "42006a93",
   "metadata": {
    "deletable": false,
    "id": "42006a93"
   },
   "outputs": [],
   "source": [
    "for t in data['income_type'].unique():\n",
    "    data.loc[(data['income_type'] == t) & (data['total_income'].isna()), 'total_income'] = \\\n",
    "    data.loc[(data['income_type'] == t), 'total_income'].median()"
   ]
  },
  {
   "cell_type": "markdown",
   "id": "89da5ece",
   "metadata": {
    "deletable": false,
    "id": "89da5ece"
   },
   "source": [
    "### Обработка аномальных значений"
   ]
  },
  {
   "cell_type": "markdown",
   "id": "57964554",
   "metadata": {
    "deletable": false,
    "id": "57964554"
   },
   "source": [
    "**Задание 6. В данных могут встречаться артефакты (аномалии) — значения, которые не отражают действительность и появились по какой-то ошибке. таким артефактом будет отрицательное количество дней трудового стажа в столбце `days_employed`. Для реальных данных это нормально. Обработайте значения в этом столбце: замените все отрицательные значения положительными с помощью метода `abs()`.**"
   ]
  },
  {
   "cell_type": "code",
   "execution_count": 6,
   "id": "f6f055bf",
   "metadata": {
    "deletable": false,
    "id": "f6f055bf"
   },
   "outputs": [],
   "source": [
    "data['days_employed'] = data['days_employed'].abs()"
   ]
  },
  {
   "cell_type": "markdown",
   "id": "6107dd2f",
   "metadata": {
    "deletable": false,
    "id": "6107dd2f"
   },
   "source": [
    "**Задание 7. Для каждого типа занятости выведите медианное значение трудового стажа `days_employed` в днях.**"
   ]
  },
  {
   "cell_type": "code",
   "execution_count": 7,
   "id": "85a5faf6",
   "metadata": {
    "deletable": false,
    "id": "85a5faf6",
    "outputId": "801ef80e-522b-4668-f34e-565af7432bcf"
   },
   "outputs": [
    {
     "data": {
      "text/plain": [
       "income_type\n",
       "безработный        366413.652744\n",
       "в декрете            3296.759962\n",
       "госслужащий          2689.368353\n",
       "компаньон            1547.382223\n",
       "пенсионер          365213.306266\n",
       "предприниматель       520.848083\n",
       "сотрудник            1574.202821\n",
       "студент               578.751554\n",
       "Name: days_employed, dtype: float64"
      ]
     },
     "execution_count": 7,
     "metadata": {},
     "output_type": "execute_result"
    }
   ],
   "source": [
    "data.groupby('income_type')['days_employed'].agg('median')"
   ]
  },
  {
   "cell_type": "markdown",
   "id": "38d1a030",
   "metadata": {
    "deletable": false,
    "id": "38d1a030"
   },
   "source": [
    "У двух типов (безработные и пенсионеры) получатся аномально большие значения. Исправить такие значения сложно, поэтому оставьте их как есть. Тем более этот столбец не понадобится вам для исследования."
   ]
  },
  {
   "cell_type": "markdown",
   "id": "d8a9f147",
   "metadata": {
    "deletable": false,
    "id": "d8a9f147"
   },
   "source": [
    "**Задание 8. Выведите перечень уникальных значений столбца `children`.**"
   ]
  },
  {
   "cell_type": "code",
   "execution_count": 8,
   "id": "ef5056eb",
   "metadata": {
    "deletable": false,
    "id": "ef5056eb",
    "outputId": "6975b15c-7f95-4697-d16d-a0c79b657b03"
   },
   "outputs": [
    {
     "data": {
      "text/plain": [
       "array([ 1,  0,  3,  2, -1,  4, 20,  5])"
      ]
     },
     "execution_count": 8,
     "metadata": {},
     "output_type": "execute_result"
    }
   ],
   "source": [
    "data['children'].unique()"
   ]
  },
  {
   "cell_type": "markdown",
   "id": "40b9ebf2",
   "metadata": {
    "deletable": false,
    "id": "40b9ebf2"
   },
   "source": [
    "**Задание 9. В столбце `children` есть два аномальных значения. Удалите строки, в которых встречаются такие аномальные значения из датафрейма `data`.**"
   ]
  },
  {
   "cell_type": "code",
   "execution_count": 9,
   "id": "3ff9801d",
   "metadata": {
    "deletable": false,
    "id": "3ff9801d"
   },
   "outputs": [],
   "source": [
    "data = data[(data['children'] != -1) & (data['children'] != 20)]"
   ]
  },
  {
   "cell_type": "markdown",
   "id": "bbc4d0ce",
   "metadata": {
    "deletable": false,
    "id": "bbc4d0ce"
   },
   "source": [
    "**Задание 10. Ещё раз выведите перечень уникальных значений столбца `children`, чтобы убедиться, что артефакты удалены.**"
   ]
  },
  {
   "cell_type": "code",
   "execution_count": 10,
   "id": "ad4fa8b7",
   "metadata": {
    "deletable": false,
    "id": "ad4fa8b7",
    "outputId": "b2097101-d49d-44d9-901b-32a65c9463d1"
   },
   "outputs": [
    {
     "data": {
      "text/plain": [
       "array([1, 0, 3, 2, 4, 5])"
      ]
     },
     "execution_count": 10,
     "metadata": {},
     "output_type": "execute_result"
    }
   ],
   "source": [
    "data['children'].unique()"
   ]
  },
  {
   "cell_type": "markdown",
   "id": "75440b63",
   "metadata": {
    "deletable": false,
    "id": "75440b63"
   },
   "source": [
    "### Удаление пропусков (продолжение)"
   ]
  },
  {
   "cell_type": "markdown",
   "id": "f4ea573f",
   "metadata": {
    "deletable": false,
    "id": "f4ea573f"
   },
   "source": [
    "**Задание 11. Заполните пропуски в столбце `days_employed` медианными значениями по каждого типа занятости `income_type`.**"
   ]
  },
  {
   "cell_type": "code",
   "execution_count": 11,
   "id": "af6b1a7e",
   "metadata": {
    "deletable": false,
    "id": "af6b1a7e"
   },
   "outputs": [],
   "source": [
    "for t in data['income_type'].unique():\n",
    "    data.loc[(data['income_type'] == t) & (data['days_employed'].isna()), 'days_employed'] = \\\n",
    "    data.loc[(data['income_type'] == t), 'days_employed'].median()"
   ]
  },
  {
   "cell_type": "markdown",
   "id": "2753f40d",
   "metadata": {
    "deletable": false,
    "id": "2753f40d"
   },
   "source": [
    "**Задание 12. Убедитесь, что все пропуски заполнены. Проверьте себя и ещё раз выведите количество пропущенных значений для каждого столбца с помощью двух методов.**"
   ]
  },
  {
   "cell_type": "code",
   "execution_count": 12,
   "id": "55f78bc2",
   "metadata": {
    "deletable": false,
    "id": "55f78bc2",
    "outputId": "8da1e4e1-358e-4e87-98c9-f261bce0a7b2"
   },
   "outputs": [
    {
     "data": {
      "text/plain": [
       "children            0\n",
       "days_employed       0\n",
       "dob_years           0\n",
       "education           0\n",
       "education_id        0\n",
       "family_status       0\n",
       "family_status_id    0\n",
       "gender              0\n",
       "income_type         0\n",
       "debt                0\n",
       "total_income        0\n",
       "purpose             0\n",
       "dtype: int64"
      ]
     },
     "execution_count": 12,
     "metadata": {},
     "output_type": "execute_result"
    }
   ],
   "source": [
    "data.isna().sum()"
   ]
  },
  {
   "cell_type": "markdown",
   "id": "ddc81e43",
   "metadata": {
    "deletable": false,
    "id": "ddc81e43"
   },
   "source": [
    "### Изменение типов данных"
   ]
  },
  {
   "cell_type": "markdown",
   "id": "42d19d24",
   "metadata": {
    "deletable": false,
    "id": "42d19d24"
   },
   "source": [
    "**Задание 13. Замените вещественный тип данных в столбце `total_income` на целочисленный с помощью метода `astype()`.**"
   ]
  },
  {
   "cell_type": "code",
   "execution_count": 13,
   "id": "920b65ad",
   "metadata": {
    "deletable": false,
    "id": "920b65ad"
   },
   "outputs": [],
   "source": [
    "data['total_income'] = data['total_income'].astype(int)"
   ]
  },
  {
   "cell_type": "markdown",
   "id": "80c420ba",
   "metadata": {
    "deletable": false,
    "id": "80c420ba"
   },
   "source": [
    "### Обработка дубликатов"
   ]
  },
  {
   "cell_type": "markdown",
   "id": "dc587695",
   "metadata": {
    "deletable": false,
    "id": "dc587695"
   },
   "source": [
    "**Задание 14. Выведите на экран количество строк-дубликатов в данных. Если такие строки присутствуют, удалите их.**"
   ]
  },
  {
   "cell_type": "code",
   "execution_count": 14,
   "id": "3ee445e4",
   "metadata": {
    "deletable": false,
    "id": "3ee445e4",
    "outputId": "9684deba-1934-42d1-99e1-cda61740f822"
   },
   "outputs": [
    {
     "data": {
      "text/plain": [
       "54"
      ]
     },
     "execution_count": 14,
     "metadata": {},
     "output_type": "execute_result"
    }
   ],
   "source": [
    "data.duplicated().sum()"
   ]
  },
  {
   "cell_type": "code",
   "execution_count": 15,
   "id": "8575fe05",
   "metadata": {
    "deletable": false,
    "id": "8575fe05"
   },
   "outputs": [],
   "source": [
    "data = data.drop_duplicates()"
   ]
  },
  {
   "cell_type": "markdown",
   "id": "9771a76c",
   "metadata": {
    "deletable": false,
    "id": "9771a76c"
   },
   "source": [
    "**Задание 15. Обработайте неявные дубликаты в столбце `education`. В этом столбце есть одни и те же значения, но записанные по-разному: с использованием заглавных и строчных букв. Приведите их к нижнему регистру. Проверьте остальные столбцы.**"
   ]
  },
  {
   "cell_type": "code",
   "execution_count": 16,
   "id": "a9f8e2bf",
   "metadata": {
    "deletable": false,
    "id": "a9f8e2bf"
   },
   "outputs": [],
   "source": [
    "data['education'] = data['education'].str.lower()"
   ]
  },
  {
   "cell_type": "markdown",
   "id": "9904cf55",
   "metadata": {
    "deletable": false,
    "id": "9904cf55"
   },
   "source": [
    "### Категоризация данных"
   ]
  },
  {
   "cell_type": "markdown",
   "id": "72fcc8a2",
   "metadata": {
    "deletable": false,
    "id": "72fcc8a2"
   },
   "source": [
    "**Задание 16. На основании диапазонов, указанных ниже, создайте в датафрейме `data` столбец `total_income_category` с категориями:**\n",
    "\n",
    "- 0–30000 — `'E'`;\n",
    "- 30001–50000 — `'D'`;\n",
    "- 50001–200000 — `'C'`;\n",
    "- 200001–1000000 — `'B'`;\n",
    "- 1000001 и выше — `'A'`.\n",
    "\n",
    "\n",
    "**Например, кредитополучателю с доходом 25000 нужно назначить категорию `'E'`, а клиенту, получающему 235000, — `'B'`. Используйте собственную функцию с именем `categorize_income()` и метод `apply()`.**"
   ]
  },
  {
   "cell_type": "code",
   "execution_count": 17,
   "id": "e1771346",
   "metadata": {
    "deletable": false,
    "id": "e1771346"
   },
   "outputs": [],
   "source": [
    "def categorize_income(income):\n",
    "    try:\n",
    "        if 0 <= income <= 30000:\n",
    "            return 'E'\n",
    "        elif 30001 <= income <= 50000:\n",
    "            return 'D'\n",
    "        elif 50001 <= income <= 200000:\n",
    "            return 'C'\n",
    "        elif 200001 <= income <= 1000000:\n",
    "            return 'B'\n",
    "        elif income >= 1000001:\n",
    "            return 'A'\n",
    "    except:\n",
    "        pass"
   ]
  },
  {
   "cell_type": "code",
   "execution_count": 18,
   "id": "d5f3586d",
   "metadata": {
    "deletable": false,
    "id": "d5f3586d"
   },
   "outputs": [],
   "source": [
    "data['total_income_category'] = data['total_income'].apply(categorize_income)"
   ]
  },
  {
   "cell_type": "markdown",
   "id": "dde49b5c",
   "metadata": {
    "deletable": false,
    "id": "dde49b5c"
   },
   "source": [
    "**Задание 17. Выведите на экран перечень уникальных целей взятия кредита из столбца `purpose`.**"
   ]
  },
  {
   "cell_type": "code",
   "execution_count": 19,
   "id": "f67ce9b3",
   "metadata": {
    "deletable": false,
    "id": "f67ce9b3",
    "outputId": "673c12d9-7d7e-4ae0-9812-c622c89dd244"
   },
   "outputs": [
    {
     "data": {
      "text/plain": [
       "array(['покупка жилья', 'приобретение автомобиля',\n",
       "       'дополнительное образование', 'сыграть свадьбу',\n",
       "       'операции с жильем', 'образование', 'на проведение свадьбы',\n",
       "       'покупка жилья для семьи', 'покупка недвижимости',\n",
       "       'покупка коммерческой недвижимости', 'покупка жилой недвижимости',\n",
       "       'строительство собственной недвижимости', 'недвижимость',\n",
       "       'строительство недвижимости', 'на покупку подержанного автомобиля',\n",
       "       'на покупку своего автомобиля',\n",
       "       'операции с коммерческой недвижимостью',\n",
       "       'строительство жилой недвижимости', 'жилье',\n",
       "       'операции со своей недвижимостью', 'автомобили',\n",
       "       'заняться образованием', 'сделка с подержанным автомобилем',\n",
       "       'получение образования', 'автомобиль', 'свадьба',\n",
       "       'получение дополнительного образования', 'покупка своего жилья',\n",
       "       'операции с недвижимостью', 'получение высшего образования',\n",
       "       'свой автомобиль', 'сделка с автомобилем',\n",
       "       'профильное образование', 'высшее образование',\n",
       "       'покупка жилья для сдачи', 'на покупку автомобиля', 'ремонт жилью',\n",
       "       'заняться высшим образованием'], dtype=object)"
      ]
     },
     "execution_count": 19,
     "metadata": {},
     "output_type": "execute_result"
    }
   ],
   "source": [
    "data['purpose'].unique()"
   ]
  },
  {
   "cell_type": "markdown",
   "id": "85d0aef0",
   "metadata": {
    "deletable": false,
    "id": "85d0aef0"
   },
   "source": [
    "**Задание 18. Создайте функцию, которая на основании данных из столбца `purpose` сформирует новый столбец `purpose_category`, в который войдут следующие категории:**\n",
    "\n",
    "- `'операции с автомобилем'`,\n",
    "- `'операции с недвижимостью'`,\n",
    "- `'проведение свадьбы'`,\n",
    "- `'получение образования'`.\n",
    "\n",
    "**Например, если в столбце `purpose` находится подстрока `'на покупку автомобиля'`, то в столбце `purpose_category` должна появиться строка `'операции с автомобилем'`.**\n",
    "\n",
    "**Используйте собственную функцию с именем `categorize_purpose()` и метод `apply()`. Изучите данные в столбце `purpose` и определите, какие подстроки помогут вам правильно определить категорию.**"
   ]
  },
  {
   "cell_type": "code",
   "execution_count": 20,
   "id": "e149fab4",
   "metadata": {
    "deletable": false,
    "id": "e149fab4"
   },
   "outputs": [],
   "source": [
    "def categorize_purpose(row):\n",
    "    try:\n",
    "        if 'автом' in row:\n",
    "            return 'операции с автомобилем'\n",
    "        elif 'жил' in row or 'недвиж' in row:\n",
    "            return 'операции с недвижимостью'\n",
    "        elif 'свад' in row:\n",
    "            return 'проведение свадьбы'\n",
    "        elif 'образов' in row:\n",
    "            return 'получение образования'\n",
    "    except:\n",
    "        return 'нет категории'"
   ]
  },
  {
   "cell_type": "code",
   "execution_count": 21,
   "id": "bf36e69b",
   "metadata": {
    "deletable": false,
    "id": "bf36e69b"
   },
   "outputs": [],
   "source": [
    "data['purpose_category'] = data['purpose'].apply(categorize_purpose)"
   ]
  },
  {
   "cell_type": "markdown",
   "id": "09b242bf",
   "metadata": {
    "deletable": false,
    "editable": false,
    "id": "09b242bf"
   },
   "source": [
    "## Исследуйте данные и ответьте на вопросы"
   ]
  },
  {
   "cell_type": "markdown",
   "id": "c5d66278",
   "metadata": {
    "deletable": false,
    "editable": false,
    "id": "c5d66278"
   },
   "source": [
    "**Задание 19. Есть ли зависимость между количеством детей и возвратом кредита в срок?**"
   ]
  },
  {
   "cell_type": "code",
   "execution_count": 22,
   "id": "c84b2a60",
   "metadata": {},
   "outputs": [
    {
     "data": {
      "text/plain": [
       "(21348, 14)"
      ]
     },
     "execution_count": 22,
     "metadata": {},
     "output_type": "execute_result"
    }
   ],
   "source": [
    "data.shape"
   ]
  },
  {
   "cell_type": "markdown",
   "id": "14e9ab12",
   "metadata": {},
   "source": [
    "Приведём показатель в бинарный вид, для того, чтобы посмотреть есть ли разница между теми, у кого есть дети и теми, у кого детей нет и визуализируем результат:"
   ]
  },
  {
   "cell_type": "code",
   "execution_count": 23,
   "id": "84c17087",
   "metadata": {},
   "outputs": [
    {
     "data": {
      "text/plain": [
       "has_children\n",
       "0    7.535266\n",
       "1    9.239055\n",
       "Name: debt, dtype: float64"
      ]
     },
     "execution_count": 23,
     "metadata": {},
     "output_type": "execute_result"
    }
   ],
   "source": [
    "def children_binary(child_num):\n",
    "    if child_num == 0:\n",
    "        return 0\n",
    "    else:\n",
    "        return 1\n",
    "    \n",
    "data['has_children'] = data['children'].apply(children_binary)\n",
    "children_debt = data.groupby('has_children')['debt'].mean()\n",
    "children_debt*100"
   ]
  },
  {
   "cell_type": "code",
   "execution_count": 24,
   "id": "60fbf559",
   "metadata": {},
   "outputs": [
    {
     "name": "stdout",
     "output_type": "stream",
     "text": [
      "У людей в категории \"1\"\" отношение среднего группы к общему = 1.138772253076448\n",
      "У людей в категории \"0\"\" отношение среднего группы к общему = 0.928769413445342\n"
     ]
    }
   ],
   "source": [
    "debt_mean = data['debt'].mean()\n",
    "for category in data['has_children'].unique():\n",
    "    relation = data.loc[data['has_children'] == category]['debt'].mean() / debt_mean\n",
    "    print(f'У людей в категории \"{category}\"\" отношение среднего группы к общему = {relation}')"
   ]
  },
  {
   "cell_type": "code",
   "execution_count": 25,
   "id": "e3c9ba7a",
   "metadata": {},
   "outputs": [
    {
     "data": {
      "text/plain": [
       "<AxesSubplot:xlabel='has_children', ylabel='debt'>"
      ]
     },
     "execution_count": 25,
     "metadata": {},
     "output_type": "execute_result"
    },
    {
     "data": {
      "image/png": "[encoded data removed]",
      "text/plain": [
       "<Figure size 504x288 with 1 Axes>"
      ]
     },
     "metadata": {
      "needs_background": "light"
     },
     "output_type": "display_data"
    }
   ],
   "source": [
    "import seaborn as sns\n",
    "import matplotlib.pyplot as plt\n",
    "\n",
    "plt.figure(figsize=(7, 4))\n",
    "sns.barplot(data=data, y='debt', x='has_children')"
   ]
  },
  {
   "cell_type": "markdown",
   "id": "74ab3513",
   "metadata": {},
   "source": [
    "Видим, что **в среднем, люди имеющие детей незначительно чаще других имели задолженности по возврату кредитов**, однако учитывая относительно небольшое различие можем предположить, что это отклонение может быть вызвано какими-то другими факторами, более актуальными для тех, у кого есть дети или просто ошибкой выборки.\n",
    "\n",
    "Давайте посмотрим **различия по количеству детей:**"
   ]
  },
  {
   "cell_type": "code",
   "execution_count": 26,
   "id": "28af3f15",
   "metadata": {},
   "outputs": [
    {
     "data": {
      "text/plain": [
       "<AxesSubplot:xlabel='children', ylabel='debt'>"
      ]
     },
     "execution_count": 26,
     "metadata": {},
     "output_type": "execute_result"
    },
    {
     "data": {
      "image/png": "[encoded data removed]",
      "text/plain": [
       "<Figure size 504x288 with 1 Axes>"
      ]
     },
     "metadata": {
      "needs_background": "light"
     },
     "output_type": "display_data"
    }
   ],
   "source": [
    "plt.figure(figsize=(7, 4))\n",
    "sns.barplot(data=data, y='debt', x='children')"
   ]
  },
  {
   "cell_type": "code",
   "execution_count": 27,
   "id": "05139a3f",
   "metadata": {},
   "outputs": [
    {
     "data": {
      "text/plain": [
       "children\n",
       "0    7.535266\n",
       "1    9.232689\n",
       "2    9.454191\n",
       "3    8.181818\n",
       "4    9.756098\n",
       "5    0.000000\n",
       "Name: debt, dtype: float64"
      ]
     },
     "execution_count": 27,
     "metadata": {},
     "output_type": "execute_result"
    }
   ],
   "source": [
    "children_debt_num = data.groupby('children')['debt'].mean()\n",
    "children_debt_num * 100"
   ]
  },
  {
   "cell_type": "markdown",
   "id": "f7d51d48",
   "metadata": {},
   "source": [
    "В целом - данные совпадают с предыдущей гипотезой. Однако, есть интересный кейс с людьми, имеющими четырёх детей - наличие определённого количества статистических выбросов у тех, кто имеет 4 детей."
   ]
  },
  {
   "cell_type": "code",
   "execution_count": 28,
   "id": "59ace1ef",
   "metadata": {},
   "outputs": [
    {
     "data": {
      "text/plain": [
       "Text(0.5, 1.0, 'Наличие задолженности в группах по кол-ву детей')"
      ]
     },
     "execution_count": 28,
     "metadata": {},
     "output_type": "execute_result"
    },
    {
     "data": {
      "image/png": "[encoded data removed]",
      "text/plain": [
       "<Figure size 720x432 with 1 Axes>"
      ]
     },
     "metadata": {
      "needs_background": "light"
     },
     "output_type": "display_data"
    }
   ],
   "source": [
    "fig, ax = plt.subplots(figsize=(10, 6))\n",
    "ax = sns.violinplot(x=\"children\", y=\"debt\",  data=data)\n",
    "ax.set_xlabel(\"Количество детей\",size = 20,alpha=0.8)\n",
    "ax.set_ylabel(\"Имели ли задолженность\",size = 20,alpha=0.8)\n",
    "ax.set_title(\"Наличие задолженности в группах по кол-ву детей\",size=20)"
   ]
  },
  {
   "cell_type": "markdown",
   "id": "d909c702",
   "metadata": {},
   "source": [
    "Давайте посмотрим, **сколько всего людей попало в каждую группу:**"
   ]
  },
  {
   "cell_type": "code",
   "execution_count": 29,
   "id": "87ad49e3",
   "metadata": {},
   "outputs": [
    {
     "name": "stdout",
     "output_type": "stream",
     "text": [
      "Число наблюдений с числом детей равным 1: 4809\n",
      "Число наблюдений с числом детей равным 0: 14107\n",
      "Число наблюдений с числом детей равным 3: 330\n",
      "Число наблюдений с числом детей равным 2: 2052\n",
      "Число наблюдений с числом детей равным 4: 41\n",
      "Число наблюдений с числом детей равным 5: 9\n"
     ]
    }
   ],
   "source": [
    "for num in data['children'].unique():\n",
    "    sample_size = data[data['children'] == num]['children'].count()\n",
    "    print(f'Число наблюдений с числом детей равным {num}: {sample_size}')"
   ]
  },
  {
   "cell_type": "markdown",
   "id": "6c5fb4e2",
   "metadata": {},
   "source": [
    "Из этого делаем вывод, что число людей в выборке с 4 и 5 детьми крайне мало, а значит мы не можем делать статистически значимые выводы на основании этих групп"
   ]
  },
  {
   "cell_type": "code",
   "execution_count": 30,
   "id": "ff26344b",
   "metadata": {},
   "outputs": [
    {
     "name": "stdout",
     "output_type": "stream",
     "text": [
      "У людей с количеством детей = \"1\"\" отношение среднего группы к общему = 1.1379875205122034\n",
      "У людей с количеством детей = \"0\"\" отношение среднего группы к общему = 0.928769413445342\n",
      "У людей с количеством детей = \"3\"\" отношение среднего группы к общему = 1.0084610539575898\n",
      "У людей с количеством детей = \"2\"\" отношение среднего группы к общему = 1.16528908877274\n",
      "У людей с количеством детей = \"4\"\" отношение среднего группы к общему = 1.2025009857488875\n",
      "У людей с количеством детей = \"5\"\" отношение среднего группы к общему = 0.0\n"
     ]
    }
   ],
   "source": [
    "for category in data['children'].unique():\n",
    "    relation = data.loc[data['children'] == category]['debt'].mean() / debt_mean\n",
    "    print(f'У людей с количеством детей = \"{category}\"\" отношение среднего группы к общему = {relation}')"
   ]
  },
  {
   "cell_type": "markdown",
   "id": "3a6b99ec",
   "metadata": {
    "deletable": false,
    "id": "3a6b99ec"
   },
   "source": [
    "**Вывод: в среднем, люди имеющие детей незначительно чаще других имели задолженности по возврату кредитов**, однако учитывая относительно небольшое различие можем предположить, что это отклонение может быть вызвано какими-то другими факторами, более актуальными для тех, у кого есть дети или просто ошибкой выборки.\n",
    "\n",
    "Гипотеза о влиянии ***числа*** детей также не подтвердилась - есть определённые выбросы среди людей, имеющих 4 детей, однако ввиду недостаточного количества наблюдений мы не можем делать статистически значимые выводы"
   ]
  },
  {
   "cell_type": "markdown",
   "id": "265ad8c5",
   "metadata": {},
   "source": [
    "<div class=\"alert alert-success\">\n",
    "<b>✔️ Комментарий ревьюера v1:</b> \n",
    "<br>Верно! Шикарный анализ\n",
    "</div>"
   ]
  },
  {
   "cell_type": "markdown",
   "id": "97be82ca",
   "metadata": {
    "deletable": false,
    "editable": false,
    "id": "97be82ca"
   },
   "source": [
    "**Задание 20. Есть ли зависимость между семейным положением и возвратом кредита в срок?**"
   ]
  },
  {
   "cell_type": "markdown",
   "id": "4572cee3",
   "metadata": {},
   "source": [
    "Процедура в значительной степени будет аналогична предыдущей.\n",
    "\n",
    "Для начала давайте посмотрим, сколько наблюдений у нас есть в различных группах чтобы понять, можем ли мы делать какие-либо значимые выводы:"
   ]
  },
  {
   "cell_type": "code",
   "execution_count": 31,
   "id": "2e6e62aa",
   "metadata": {},
   "outputs": [
    {
     "name": "stdout",
     "output_type": "stream",
     "text": [
      "Число наблюдений с семейным положением = женат / замужем: 12266\n",
      "Число наблюдений с семейным положением = гражданский брак: 4146\n",
      "Число наблюдений с семейным положением = вдовец / вдова: 951\n",
      "Число наблюдений с семейным положением = в разводе: 1189\n",
      "Число наблюдений с семейным положением = Не женат / не замужем: 2796\n"
     ]
    }
   ],
   "source": [
    "for num in data['family_status'].unique():\n",
    "    sample_size = data[data['family_status'] == num]['family_status'].count()\n",
    "    print(f'Число наблюдений с семейным положением = {num}: {sample_size}')"
   ]
  },
  {
   "cell_type": "markdown",
   "id": "ba9ede0b",
   "metadata": {},
   "source": [
    "В целом, **число наблюдений скорее достаточное**, а значит выводы мы делать можем. Перейдём к непосредственному анализу показателей:"
   ]
  },
  {
   "cell_type": "code",
   "execution_count": 32,
   "id": "dc3f7ee8",
   "metadata": {
    "id": "dc3f7ee8"
   },
   "outputs": [
    {
     "name": "stdout",
     "output_type": "stream",
     "text": [
      "family_status\n",
      "Не женат / не замужем    9.763948\n",
      "в разводе                7.064760\n",
      "вдовец / вдова           6.624606\n",
      "гражданский брак         9.286059\n",
      "женат / замужем          7.557476\n",
      "Name: debt, dtype: float64\n"
     ]
    },
    {
     "data": {
      "text/plain": [
       "Text(0.5, 1.0, 'Наличие задолженности в группах семейному положению')"
      ]
     },
     "execution_count": 32,
     "metadata": {},
     "output_type": "execute_result"
    },
    {
     "data": {
      "image/png": "[encoded data removed]",
      "text/plain": [
       "<Figure size 720x432 with 1 Axes>"
      ]
     },
     "metadata": {
      "needs_background": "light"
     },
     "output_type": "display_data"
    }
   ],
   "source": [
    "print(data.groupby('family_status')['debt'].mean() *100)\n",
    "\n",
    "fig, ax = plt.subplots(figsize=(10, 6))\n",
    "ax = sns.violinplot(x=\"family_status\", y=\"debt\",  data=data)\n",
    "ax.set_xlabel(\"Семейное положение\",size = 20,alpha=0.8)\n",
    "ax.set_ylabel(\"Имели ли задолженность\",size = 20,alpha=0.8)\n",
    "ax.set_title(\"Наличие задолженности в группах семейному положению\",size=20)"
   ]
  },
  {
   "cell_type": "markdown",
   "id": "fe56b427",
   "metadata": {},
   "source": [
    "Пока что мы видим две группы с несколько большим числом задолженностей - не женатые и живущие в гражданском браке. Давайте объединим их в одну группу и посмотрим общую разницу:"
   ]
  },
  {
   "cell_type": "code",
   "execution_count": 33,
   "id": "4a31bd5c",
   "metadata": {},
   "outputs": [
    {
     "data": {
      "text/plain": [
       "fam_stat_risk\n",
       "группа риска    9.286059\n",
       "прочие          7.830485\n",
       "Name: debt, dtype: float64"
      ]
     },
     "execution_count": 33,
     "metadata": {},
     "output_type": "execute_result"
    }
   ],
   "source": [
    "def fam_stat_binary(row):\n",
    "    if \"не женат\" in row or \"гражданский брак\" in row:\n",
    "        return \"группа риска\"\n",
    "    else:\n",
    "        return \"прочие\"\n",
    "    \n",
    "data['fam_stat_risk'] = data['family_status'].apply(fam_stat_binary)\n",
    "data_family_risk = data.groupby('fam_stat_risk')['debt'].mean()\n",
    "data_family_risk * 100"
   ]
  },
  {
   "cell_type": "code",
   "execution_count": 34,
   "id": "97e32413",
   "metadata": {},
   "outputs": [
    {
     "data": {
      "text/plain": [
       "<AxesSubplot:xlabel='fam_stat_risk', ylabel='debt'>"
      ]
     },
     "execution_count": 34,
     "metadata": {},
     "output_type": "execute_result"
    },
    {
     "data": {
      "image/png": "[encoded data removed]",
      "text/plain": [
       "<Figure size 504x288 with 1 Axes>"
      ]
     },
     "metadata": {
      "needs_background": "light"
     },
     "output_type": "display_data"
    }
   ],
   "source": [
    "plt.figure(figsize=(7, 4))\n",
    "sns.barplot(data=data, y='debt', x='fam_stat_risk')"
   ]
  },
  {
   "cell_type": "code",
   "execution_count": 35,
   "id": "f0d9fd91",
   "metadata": {},
   "outputs": [
    {
     "name": "stdout",
     "output_type": "stream",
     "text": [
      "У представителей категории \"женат / замужем\"\" отношение среднего группы к общему = 0.9315069086368409\n",
      "У представителей категории \"гражданский брак\"\" отношение среднего группы к общему = 1.144565729621695\n",
      "У представителей категории \"вдовец / вдова\"\" отношение среднего группы к общему = 0.8165247229730221\n",
      "У представителей категории \"в разводе\"\" отношение среднего группы к общему = 0.8707765758871253\n",
      "У представителей категории \"Не женат / не замужем\"\" отношение среднего группы к общему = 1.203468663580767\n"
     ]
    }
   ],
   "source": [
    "for category in data['family_status'].unique():\n",
    "    relation = data.loc[data['family_status'] == category]['debt'].mean() / debt_mean\n",
    "    print(f'У представителей категории \"{category}\"\" отношение среднего группы к общему = {relation}')"
   ]
  },
  {
   "cell_type": "markdown",
   "id": "1cef7837",
   "metadata": {
    "deletable": false,
    "id": "1cef7837"
   },
   "source": [
    "**Вывод:** Присутствует незначительная разница между людьми с разным семейным положением - в условную \"группу риска\" (группу людей, имеющих задолженности) можно отнести неженатых, а также живущих в гражданском браке.\n",
    "\n",
    "При этом появляется **гипотеза о том, что ключевое влияние может оказывать не само семейное положение, а другой фактор - уровень дохода (который может быть ниже у ещё неженатых (более молодые), а также живущих в гражданском браке.**\n",
    "\n",
    "Влияние дохода мы проверим следующим шагом, однако давайте посмотрим на наличие потенциальной связи между этими двумя показателями:"
   ]
  },
  {
   "cell_type": "code",
   "execution_count": 36,
   "id": "5e528c48",
   "metadata": {},
   "outputs": [
    {
     "name": "stdout",
     "output_type": "stream",
     "text": [
      "Для людей с семейным положением = женат / замужем: значение медианного дохода составляет 142902.5, среднего - 166743.3466492744\n",
      "Для людей с семейным положением = гражданский брак: значение медианного дохода составляет 142594.0, среднего - 164734.59044862518\n",
      "Для людей с семейным положением = вдовец / вдова: значение медианного дохода составляет 127310.0, среднего - 142559.78969505784\n",
      "Для людей с семейным положением = в разводе: значение медианного дохода составляет 143503.0, среднего - 167955.22708158116\n",
      "Для людей с семейным положением = Не женат / не замужем: значение медианного дохода составляет 142594.0, среднего - 166552.38447782546\n"
     ]
    }
   ],
   "source": [
    "data_family_income_meadian = data.groupby('family_status')['total_income'].median()\n",
    "data_family_income_mean = data.groupby('family_status')['total_income'].mean()\n",
    "for num in data['family_status'].unique():\n",
    "    print(f'Для людей с семейным положением = {num}: значение медианного дохода составляет {data_family_income_meadian[num]}, среднего - {data_family_income_mean[num]}')"
   ]
  },
  {
   "cell_type": "markdown",
   "id": "ddc10efc",
   "metadata": {},
   "source": [
    "Видим, что **особой разницы между этими показателями нет** - несколько меньше доход у вдов и вдовцов, однако  они в то же время демонстрируют самую низкую долю задолженностей"
   ]
  },
  {
   "cell_type": "markdown",
   "id": "52bf6619",
   "metadata": {},
   "source": [
    "<div class=\"alert alert-success\">\n",
    "<b>✔️ Комментарий ревьюера v1:</b> \n",
    "<br>Тут всё правильно\n",
    "</div>"
   ]
  },
  {
   "cell_type": "markdown",
   "id": "1e8b2fca",
   "metadata": {
    "deletable": false,
    "editable": false,
    "id": "1e8b2fca"
   },
   "source": [
    "**Задание 21. Есть ли зависимость между уровнем дохода и возвратом кредита в срок?**"
   ]
  },
  {
   "cell_type": "markdown",
   "id": "a98f80cb",
   "metadata": {},
   "source": [
    "Снова проводим аналогичную процедуру:"
   ]
  },
  {
   "cell_type": "markdown",
   "id": "893470cd",
   "metadata": {},
   "source": [
    "Для начала вспомним заданные ранее диапазоны дохода:\n",
    "- 0–30000 — `'E'`;\n",
    "- 30001–50000 — `'D'`;\n",
    "- 50001–200000 — `'C'`;\n",
    "- 200001–1000000 — `'B'`;\n",
    "- 1000001 и выше — `'A'`."
   ]
  },
  {
   "cell_type": "code",
   "execution_count": 37,
   "id": "cd7e3720",
   "metadata": {
    "id": "cd7e3720"
   },
   "outputs": [
    {
     "name": "stdout",
     "output_type": "stream",
     "text": [
      "Число наблюдений с уровнем дохода = B: 5014\n",
      "Число наблюдений с уровнем дохода = C: 15938\n",
      "Число наблюдений с уровнем дохода = D: 349\n",
      "Число наблюдений с уровнем дохода = E: 22\n",
      "Число наблюдений с уровнем дохода = A: 25\n"
     ]
    }
   ],
   "source": [
    "for num in data['total_income_category'].unique():\n",
    "    sample_size = data[data['total_income_category'] == num]['total_income_category'].count()\n",
    "    print(f'Число наблюдений с уровнем дохода = {num}: {sample_size}')"
   ]
  },
  {
   "cell_type": "markdown",
   "id": "39e61ef0",
   "metadata": {},
   "source": [
    "Видим, что **наблюдений с низким доходом (0-30000) и высоким (1000001 и выше) очень мало**, а значит мы не можем сделать по этим группам статистически значимых выводов.\n",
    "\n",
    "**С группой \"D\" (30001- 50000) также стоит быть осторожным** - их не так мало (349), однако потенциальная ошибка выборки при анализе этой группы будет достаточно велика"
   ]
  },
  {
   "cell_type": "code",
   "execution_count": 38,
   "id": "ad9ad986",
   "metadata": {},
   "outputs": [
    {
     "name": "stdout",
     "output_type": "stream",
     "text": [
      "total_income_category\n",
      "D    6.017192\n",
      "B    7.060231\n",
      "A    8.000000\n",
      "C    8.489145\n",
      "E    9.090909\n",
      "Name: debt, dtype: float64\n"
     ]
    },
    {
     "data": {
      "text/plain": [
       "<AxesSubplot:xlabel='total_income_category', ylabel='debt'>"
      ]
     },
     "execution_count": 38,
     "metadata": {},
     "output_type": "execute_result"
    },
    {
     "data": {
      "image/png": "[encoded data removed]",
      "text/plain": [
       "<Figure size 504x288 with 1 Axes>"
      ]
     },
     "metadata": {
      "needs_background": "light"
     },
     "output_type": "display_data"
    }
   ],
   "source": [
    "print(data.groupby('total_income_category')['debt'].mean().sort_values() *100)\n",
    "\n",
    "plt.figure(figsize=(7, 4))\n",
    "sns.barplot(data=data, y='debt', x='total_income_category')"
   ]
  },
  {
   "cell_type": "markdown",
   "id": "a7083bc8",
   "metadata": {},
   "source": [
    "Давайте посмотрим, как средее число невыплаченных долгов каждой группы относится к среднему по всей базе:"
   ]
  },
  {
   "cell_type": "code",
   "execution_count": 39,
   "id": "e1f64656",
   "metadata": {},
   "outputs": [
    {
     "name": "stdout",
     "output_type": "stream",
     "text": [
      "У представителей категории B отношение среднего группы к общему = 0.8702183539668604\n",
      "У представителей категории C отношение среднего группы к общему = 1.0463410902002765\n",
      "У представителей категории D отношение среднего группы к общему = 0.7416571265972722\n",
      "У представителей категории E отношение среднего группы к общему = 1.1205122821750997\n",
      "У представителей категории A отношение среднего группы к общему = 0.9860508083140878\n"
     ]
    }
   ],
   "source": [
    "for category in data['total_income_category'].unique():\n",
    "    relation = data.loc[data['total_income_category'] == category]['debt'].mean() / debt_mean\n",
    "    print(f'У представителей категории {category} отношение среднего группы к общему = {relation}')"
   ]
  },
  {
   "cell_type": "markdown",
   "id": "e8593def",
   "metadata": {
    "deletable": false,
    "id": "e8593def"
   },
   "source": [
    "**Вывод:** Сравнивая категории B и C можем сделать вывод о том, что **у людей с бОльшим доходом (категория B) несколько меньше задолженностей по кредитам (категория B) - примерно на 13% ниже, чем в среднем** по нашей базе данных, а **у людей с доходом ниже (категория С) их несколько больше, чем в среднем (на 4.6%)**\n",
    "\n",
    "**Показатель категории D (30001 - 50000) ещё ниже (на 26%)**, в нашей выборке люди с этим доходом имеют меньше всего задолженностей, однако мы не можем отрицать и гипотезу, нуждающуюся в дальнейшей проверке - что люди этой категории (относительно небольшой доход) зачастую ещё не брали кредитов. Также **стоит учитывать сравнительно небольшой объём выборки - на больших данных можно было бы сделать чуть более валидный вывод.**\n",
    "\n",
    "Как обозначалось ранее, **по категориям \"Е\" и \"А\" мы не можем делать статистически значимых выводов - слишком малый объём выборки**"
   ]
  },
  {
   "cell_type": "markdown",
   "id": "320e3d35",
   "metadata": {},
   "source": [
    "<div class=\"alert alert-success\">\n",
    "<b>✔️ Комментарий ревьюера v1:</b> \n",
    "<br>Согласен! Идём дальше)\n",
    "</div>"
   ]
  },
  {
   "cell_type": "markdown",
   "id": "99ecbd1f",
   "metadata": {
    "deletable": false,
    "editable": false,
    "id": "99ecbd1f"
   },
   "source": [
    "**Задание 22. Как разные цели кредита влияют на его возврат в срок?**"
   ]
  },
  {
   "cell_type": "markdown",
   "id": "c76061e9",
   "metadata": {
    "id": "2b687290"
   },
   "source": [
    "Продолжим аналогичную процедуру. Для начала вспомним - на какие категории мы разбили цели:\n",
    "- `'операции с автомобилем'`,\n",
    "- `'операции с недвижимостью'`,\n",
    "- `'проведение свадьбы'`,\n",
    "- `'получение образования'`."
   ]
  },
  {
   "cell_type": "code",
   "execution_count": 40,
   "id": "0e9be5b2",
   "metadata": {},
   "outputs": [
    {
     "name": "stdout",
     "output_type": "stream",
     "text": [
      "Число наблюдений с целью кредита = операции с недвижимостью: 10754\n",
      "Число наблюдений с целью кредита = операции с автомобилем: 4281\n",
      "Число наблюдений с целью кредита = получение образования: 3989\n",
      "Число наблюдений с целью кредита = проведение свадьбы: 2324\n"
     ]
    }
   ],
   "source": [
    "for num in data['purpose_category'].unique():\n",
    "    sample_size = data[data['purpose_category'] == num]['purpose_category'].count()\n",
    "    print(f'Число наблюдений с целью кредита = {num}: {sample_size}')"
   ]
  },
  {
   "cell_type": "markdown",
   "id": "b3b5798c",
   "metadata": {},
   "source": [
    "Видим достаточно большое количество наблюдений по каждой категории - а значит, можем делать по ним статистически значимые выводы. Перейдём к непосредственному анализу:"
   ]
  },
  {
   "cell_type": "code",
   "execution_count": 41,
   "id": "c2356357",
   "metadata": {},
   "outputs": [
    {
     "name": "stdout",
     "output_type": "stream",
     "text": [
      "purpose_category\n",
      "операции с недвижимостью    7.253115\n",
      "проведение свадьбы          7.874355\n",
      "получение образования       9.250439\n",
      "операции с автомобилем      9.343611\n",
      "Name: debt, dtype: float64\n"
     ]
    },
    {
     "data": {
      "text/plain": [
       "<AxesSubplot:xlabel='purpose_category', ylabel='debt'>"
      ]
     },
     "execution_count": 41,
     "metadata": {},
     "output_type": "execute_result"
    },
    {
     "data": {
      "image/png": "[encoded data removed]",
      "text/plain": [
       "<Figure size 1080x288 with 1 Axes>"
      ]
     },
     "metadata": {
      "needs_background": "light"
     },
     "output_type": "display_data"
    }
   ],
   "source": [
    "print(data.groupby('purpose_category')['debt'].mean().sort_values() *100)\n",
    "\n",
    "plt.figure(figsize=(15, 4))\n",
    "sns.barplot(data=data, y='debt', x='purpose_category')"
   ]
  },
  {
   "cell_type": "markdown",
   "id": "bd41e2f3",
   "metadata": {},
   "source": [
    "На полученных данных видим **две зоны риска - операции с автомобилем и получение образование, люди, имеющие такую цель получения кредитов как правило имеют и больше задолженностей.** \n",
    "\n",
    "Давайте посмотрим насколько они отклоняются от среднего показателя по всей базе данных:"
   ]
  },
  {
   "cell_type": "code",
   "execution_count": 42,
   "id": "d61e59d5",
   "metadata": {},
   "outputs": [
    {
     "name": "stdout",
     "output_type": "stream",
     "text": [
      "У представителей категории \"операции с недвижимостью\"\" отношение среднего группы к общему = 0.8939925033533899\n",
      "У представителей категории \"операции с автомобилем\"\" отношение среднего группы к общему = 1.151659435078355\n",
      "У представителей категории \"получение образования\"\" отношение среднего группы к общему = 1.1401753204684708\n",
      "У представителей категории \"проведение свадьбы\"\" отношение среднего группы к общему = 0.9705642099907381\n"
     ]
    }
   ],
   "source": [
    "for category in data['purpose_category'].unique():\n",
    "    relation = data.loc[data['purpose_category'] == category]['debt'].mean() / debt_mean\n",
    "    print(f'У представителей категории \"{category}\"\" отношение среднего группы к общему = {relation}')"
   ]
  },
  {
   "cell_type": "markdown",
   "id": "b4bb2ce6",
   "metadata": {
    "deletable": false,
    "id": "b4bb2ce6"
   },
   "source": [
    "**Вывод:** анализ показал наличие влияние цели кредита на его возврат в срок:\n",
    "\n",
    "**Люди, бравшие кредит на операции с автомобилем на 15% чаще среднего задерживали выплаты по своему кредиту. Люди, бравшие кредит на получение образование - на 14%.**\n",
    "\n",
    "При этом **самым надёжным направлением кредитования являются операции с недвижимостью** - представители этой категории на 11% реже среднего задерживали свои выплаты.\n",
    "\n",
    "**Кредиты на проведение свадьбы** демонстрируют показатели, приближенные к средним (на 3% ниже)."
   ]
  },
  {
   "cell_type": "markdown",
   "id": "0a05ad31",
   "metadata": {},
   "source": [
    "<div class=\"alert alert-success\">\n",
    "<b>✔️ Комментарий ревьюера v1:</b>\n",
    "<br>Абсолютно верно!\n",
    "</div>"
   ]
  },
  {
   "cell_type": "markdown",
   "id": "09c3ac4c",
   "metadata": {
    "deletable": false,
    "editable": false,
    "id": "09c3ac4c"
   },
   "source": [
    "**Задание 23. Приведите возможные причины появления пропусков в исходных данных.**"
   ]
  },
  {
   "cell_type": "markdown",
   "id": "9da2ceda",
   "metadata": {
    "deletable": false,
    "id": "9da2ceda"
   },
   "source": [
    "*Ответ:* Есть две основные причины пропусков:\n",
    "\n",
    "- **Случайные пропуски** (не связанные с каким-то параметром - а именно случайные пропуски).\n",
    "- **Неслучайные** (связанные с определёнными показателями):\n",
    "    - Например, если я пошёл к врачу с сердечными проблемами и имею излишний вес, то шанс того, что меня заставят померять мой вес выше, чем если я выгляжу стандартно, а это значит, что у людей с обычным весом будет больше доля пропусков. \n",
    "    - Точно так же люди с высоким доходом чаще скрывают свой доход при различных операциях\n",
    "    \n",
    "**Если говорить о причинах их появления** - то она зачастую зависит от каких-то причин, иногда связанных с переменной (не хочу получать рассылку - не оставил свой имейл, не хочу раскрывать доход - не указал его), иногда - с оператором (человеческая ошибка того, кто заполнял базу данных - просто забыл проставить (или машинная ошибка - какой-нибудь условный integer overflow).\n",
    "\n",
    "**Если же говорить конкретно про наши данные** - то наши пропуски были в столбцах \"days employed\". Возможно, это связано с тем, что кто-то не хотел указывать число своих проработанных дней (для того, чтобы скрыть их малое число и нестабильную рабочую историю) или же просто забыл их указать (либо сам, либо клерк, переносящий анкету в базу данных). Второе очень даже вероятно - может, человек просто не помнил дату своего трудоустройства и оставил поле пустым."
   ]
  },
  {
   "cell_type": "markdown",
   "id": "a5eb8e36",
   "metadata": {},
   "source": [
    "<div class=\"alert alert-success\">\n",
    "<b>✔️ Комментарий ревьюера v1:</b> \n",
    "<br>Верно 👍\n",
    "</div>"
   ]
  },
  {
   "cell_type": "markdown",
   "id": "7b0487d6",
   "metadata": {
    "deletable": false,
    "editable": false,
    "id": "7b0487d6"
   },
   "source": [
    "**Задание 24. Объясните, почему заполнить пропуски медианным значением — лучшее решение для количественных переменных.**"
   ]
  },
  {
   "cell_type": "markdown",
   "id": "7ecf2b8e",
   "metadata": {
    "deletable": false,
    "id": "7ecf2b8e"
   },
   "source": [
    "*Ответ:* Не всегда это является лучшим решением, нужно смотреть на данные и их природу - смотря что изучаем)\n",
    "\n",
    "Но как правило медиана даёт наилучшее представление о природе данных в целом, в виду того, что среднее значение более подвержено влиянию на него выбросов (1000 человек получает по 1 000 рублей, один человек получает 1 миллиард - в среднем все миллионеры). А за счёт медианы мы поймаем число \"по центру\", а значит в окружении наиболее распространённых значений.\n",
    "\n",
    "Иногда можно использовать и среднее и моду и более сложные аналитические инструменты - но это уже зависит от природы данных и задач :)"
   ]
  },
  {
   "cell_type": "markdown",
   "id": "ed60f410",
   "metadata": {},
   "source": [
    "<div class=\"alert alert-success\">\n",
    "<b>✔️ Комментарий ревьюера v1:</b> \n",
    "<br>Верно 👍\n",
    "</div>"
   ]
  },
  {
   "cell_type": "markdown",
   "id": "6db5255a",
   "metadata": {
    "deletable": false,
    "editable": false,
    "id": "6db5255a"
   },
   "source": [
    "## Общий вывод."
   ]
  },
  {
   "cell_type": "markdown",
   "id": "bad65432",
   "metadata": {
    "id": "bad65432"
   },
   "source": [
    "Напишите ваш общий вывод.\n",
    "\n",
    "- Проведённый анализ на основании данных показал наличие **наиболее статистически значимого фактора, влияющего на риск невыплаты кредита - причина, на которую берётся этот кредит.** \n",
    "    - **Кредиты на операции с автомобилем имеют долю наличия задержек на 15% выше среднего**, на **получение образования - на 14%.**\n",
    "    - В то же время **операции с недвижимостью являются наиболее безопасным направлением** - у этой категории **доля задержек с выплатами на 11% ниже среднего показателя.**\n",
    "\n",
    "\n",
    "- **Люди с доходом 200.000 - 1.000.000 рублей в месяц на 13% реже среднего задерживают выплаты по кредитам**, что может говорить о положительной корреляции уровня дохода и безопасности кредитования. В то же время этот вывод требует дальнейшей проверки ввиду небольшой выборки людей с очень высоким доходом. \n",
    "    - **Положительный результат также показала группа людей с доходом от 30 до 50 тыс. рублей (на 26% меньше невыплат)**, однако ввиду небольшого количества наблюдений этот вывод также нуждается в дальнейшей проверке.\n",
    "\n",
    "\n",
    "- **Среди людей, имеющих детей доля задолженностей на 13% выше среднего,** однако более детальный анализ показывает лишь незначительные различия между людьми с разным количеством детей.\n",
    "    \n",
    "    \n",
    "- Анализ влияния семейного положения показал существование определённой **группы риска - людей, находящихся в гражданском браке (доля задолженностей на 14% выше среднего)**, а также **людей, которые не женаты/не замужем (на 20% выше среднего).** \n",
    "    - В то же время **самой \"безопасной\" группой являются вдовы и вдовцы (доля задолженностей на 19% ниже среднего показателя по базе)**\n",
    "\n"
   ]
  },
  {
   "cell_type": "markdown",
   "id": "c111d8a6",
   "metadata": {},
   "source": [
    "<div class=\"alert alert-success\">\n",
    "<b>✔️ Комментарий ревьюера v1:</b> \n",
    "<br>Отличный общий вывод 👏🏻👏🏻👏🏻\n",
    "</div>"
   ]
  },
  {
   "cell_type": "markdown",
   "id": "9ac01e10",
   "metadata": {},
   "source": [
    "<div class=\"alert alert-success\">\n",
    "<b>✔️ Итоговый комментарий ревьюера v1:</b>\n",
    "<br>Я бы мог принять твою работу с первого раза, но хочу дать тебе возможность задать мне вопросы) Если вопросов нет, то я с радостью приму проект)\n",
    "</div>\n",
    "\n",
    "<div class=\"alert alert-info\">\n",
    "<b>Комментарий студента:</b>\n",
    "<br>Напишу тогда сюда комментарий :) Особо вопросов нет, пока что всё более-менее понятно. Но кое-что всё таки спрошу - интересно.\n",
    "    <ol>\n",
    "    <li>Есть ли в коде какие-то, если не ошибки, то возможно \"неэлегантные\" решения - что-то, что в идеале можно было бы сделать по другому?</li>\n",
    "    <li>Есть ли какие-то общие рекомендации по поводу того, что прочитать по вопросу написания кода - помимо содержание непосредственно курса.)</li>\n",
    "    <li>Общий вопрос из интереса, может уже упоминалось где-то, но пропустил - это реальные данные?) Или нарисованные в образовательных целях. Интересно)</li>\n",
    "</div>"
   ]
  },
  {
   "cell_type": "markdown",
   "id": "ac9d838b",
   "metadata": {},
   "source": [
    "<div class=\"alert alert-success\">\n",
    "<b>✔️ Комментарий ревьюера v2:</b>\n",
    "<br>1. Можно рассчитать долю должников используя метод pivot_table\n",
    "    \n",
    "    data.pivot_table(index=['children'], values='debt', aggfunc=['count', 'sum', 'mean'])\n",
    "<br>2. Слишком общий вопрос) Если с точки зрения правописания и общепринятых стандартов, то вот\n",
    "    \n",
    "    https://pythonworld.ru/osnovy/pep-8-rukovodstvo-po-napisaniyu-koda-na-python.html\n",
    "    \n",
    "<br>Если тебя интересуют какие-то интересные функции или решения, то тут нужно указывать детальнее. От себя могу посоветовать тебе изучить функцию transform, в курсе она вроде бы не изучается. С её помощью можно очень лаконично заменить пропуски с группировкой по типу занятости\n",
    "    \n",
    "    data['total_income'] = df['total_income'].fillna(df.groupby('income_type')['total_income'].transform(\"median\"))\n",
    "<br>Она создаёт новый столбец, который содержит столько же строк, сколько и изначальный, но только вместо оригинальных значений в каждой строке содержится медиана посчитанная по заданной группе. После этого вместо пропусков в оригинальном столбце мы подставляем значения из созданного столбца, то есть медианы в зависимости от группы.\n",
    "<br>Подробнее про эту функцию можно почитать здесь\n",
    "    \n",
    "    https://dfedorov.spb.ru/pandas/Понимание%20функции%20transform%20в%20Pandas.html\n",
    "<br>3. Вот тут не смогу ответить, потому что не знаю) Но уверен, что даже если это реальные данные, то их меняли под задачи учебного проекта)\n",
    "</div>"
   ]
  },
  {
   "cell_type": "markdown",
   "id": "0ecd5294",
   "metadata": {},
   "source": [
    "<div class=\"alert alert-success\">\n",
    "<b>✔️ Итоговый комментарий ревьюера v2:</b>\n",
    "<br>Рад был поработать над проверкой твоего проекта) Желаю удачи в дальнейшем обучении! 😉\n",
    "</div>"
   ]
  }
 ],
 "metadata": {
  "ExecuteTimeLog": [
   {
    "duration": 450,
    "start_time": "2022-07-01T01:10:38.824Z"
   },
   {
    "duration": 20,
    "start_time": "2022-07-01T01:10:40.819Z"
   },
   {
    "duration": 13,
    "start_time": "2022-07-01T01:10:57.661Z"
   },
   {
    "duration": 9,
    "start_time": "2022-07-01T01:11:10.355Z"
   },
   {
    "duration": 29,
    "start_time": "2022-07-01T01:11:34.607Z"
   },
   {
    "duration": 3,
    "start_time": "2022-07-01T01:11:37.483Z"
   },
   {
    "duration": 7,
    "start_time": "2022-07-01T01:11:38.879Z"
   },
   {
    "duration": 4,
    "start_time": "2022-07-01T01:11:41.745Z"
   },
   {
    "duration": 6,
    "start_time": "2022-07-01T01:11:49.033Z"
   },
   {
    "duration": 4,
    "start_time": "2022-07-01T01:11:49.974Z"
   },
   {
    "duration": 29,
    "start_time": "2022-07-01T01:11:53.267Z"
   },
   {
    "duration": 12,
    "start_time": "2022-07-01T01:11:56.032Z"
   },
   {
    "duration": 4,
    "start_time": "2022-07-01T01:11:59.230Z"
   },
   {
    "duration": 17,
    "start_time": "2022-07-01T01:12:00.113Z"
   },
   {
    "duration": 15,
    "start_time": "2022-07-01T01:12:00.532Z"
   },
   {
    "duration": 10,
    "start_time": "2022-07-01T01:12:01.989Z"
   },
   {
    "duration": 3,
    "start_time": "2022-07-01T01:12:06.527Z"
   },
   {
    "duration": 8,
    "start_time": "2022-07-01T01:12:07.063Z"
   },
   {
    "duration": 6,
    "start_time": "2022-07-01T01:12:09.653Z"
   },
   {
    "duration": 4,
    "start_time": "2022-07-01T01:12:15.473Z"
   },
   {
    "duration": 8,
    "start_time": "2022-07-01T01:12:16.581Z"
   },
   {
    "duration": 44,
    "start_time": "2022-07-02T02:51:33.967Z"
   },
   {
    "duration": 482,
    "start_time": "2022-07-02T06:56:37.267Z"
   },
   {
    "duration": 21,
    "start_time": "2022-07-02T06:56:37.751Z"
   },
   {
    "duration": 22,
    "start_time": "2022-07-02T06:56:38.413Z"
   },
   {
    "duration": 14,
    "start_time": "2022-07-02T06:56:38.536Z"
   },
   {
    "duration": 42,
    "start_time": "2022-07-02T06:56:38.611Z"
   },
   {
    "duration": 3,
    "start_time": "2022-07-02T06:56:38.703Z"
   },
   {
    "duration": 10,
    "start_time": "2022-07-02T06:56:38.766Z"
   },
   {
    "duration": 4,
    "start_time": "2022-07-02T06:56:38.876Z"
   },
   {
    "duration": 7,
    "start_time": "2022-07-02T06:56:39.375Z"
   },
   {
    "duration": 5,
    "start_time": "2022-07-02T06:56:39.660Z"
   },
   {
    "duration": 32,
    "start_time": "2022-07-02T06:56:40.298Z"
   },
   {
    "duration": 9,
    "start_time": "2022-07-02T06:56:40.361Z"
   },
   {
    "duration": 4,
    "start_time": "2022-07-02T06:56:40.470Z"
   },
   {
    "duration": 19,
    "start_time": "2022-07-02T06:56:40.563Z"
   },
   {
    "duration": 17,
    "start_time": "2022-07-02T06:56:40.592Z"
   },
   {
    "duration": 12,
    "start_time": "2022-07-02T06:56:40.656Z"
   },
   {
    "duration": 5,
    "start_time": "2022-07-02T06:56:40.764Z"
   },
   {
    "duration": 9,
    "start_time": "2022-07-02T06:56:40.797Z"
   },
   {
    "duration": 6,
    "start_time": "2022-07-02T06:56:41.222Z"
   },
   {
    "duration": 3,
    "start_time": "2022-07-02T06:56:41.513Z"
   },
   {
    "duration": 8,
    "start_time": "2022-07-02T06:56:41.974Z"
   },
   {
    "duration": 13,
    "start_time": "2022-07-02T06:56:48.258Z"
   },
   {
    "duration": 20,
    "start_time": "2022-07-02T06:56:52.358Z"
   },
   {
    "duration": 878,
    "start_time": "2022-07-02T06:57:02.990Z"
   },
   {
    "duration": 8,
    "start_time": "2022-07-02T06:57:48.923Z"
   },
   {
    "duration": 8,
    "start_time": "2022-07-02T06:57:58.372Z"
   },
   {
    "duration": 8,
    "start_time": "2022-07-02T06:58:02.549Z"
   },
   {
    "duration": 5,
    "start_time": "2022-07-02T06:58:05.827Z"
   },
   {
    "duration": 8,
    "start_time": "2022-07-02T06:58:10.357Z"
   },
   {
    "duration": 9,
    "start_time": "2022-07-02T06:58:14.117Z"
   },
   {
    "duration": 279,
    "start_time": "2022-07-02T07:00:53.810Z"
   },
   {
    "duration": 252,
    "start_time": "2022-07-02T07:01:00.530Z"
   },
   {
    "duration": 9,
    "start_time": "2022-07-02T07:01:09.577Z"
   },
   {
    "duration": 45,
    "start_time": "2022-07-02T07:01:51.945Z"
   },
   {
    "duration": 45,
    "start_time": "2022-07-02T07:01:54.399Z"
   },
   {
    "duration": 10,
    "start_time": "2022-07-02T07:01:56.774Z"
   },
   {
    "duration": 17,
    "start_time": "2022-07-02T07:02:05.314Z"
   },
   {
    "duration": 13,
    "start_time": "2022-07-02T07:02:10.948Z"
   },
   {
    "duration": 14,
    "start_time": "2022-07-02T07:02:59.340Z"
   },
   {
    "duration": 15,
    "start_time": "2022-07-02T07:03:40.948Z"
   },
   {
    "duration": 18,
    "start_time": "2022-07-02T07:07:34.208Z"
   },
   {
    "duration": 270,
    "start_time": "2022-07-02T07:07:44.453Z"
   },
   {
    "duration": 254,
    "start_time": "2022-07-02T07:07:50.023Z"
   },
   {
    "duration": 10,
    "start_time": "2022-07-02T07:08:06.258Z"
   },
   {
    "duration": 4,
    "start_time": "2022-07-02T07:08:08.023Z"
   },
   {
    "duration": 375,
    "start_time": "2022-07-02T07:10:07.448Z"
   },
   {
    "duration": 342,
    "start_time": "2022-07-02T07:10:41.427Z"
   },
   {
    "duration": 10,
    "start_time": "2022-07-02T07:11:26.848Z"
   },
   {
    "duration": 9,
    "start_time": "2022-07-02T07:11:32.759Z"
   },
   {
    "duration": 9,
    "start_time": "2022-07-02T07:11:48.735Z"
   },
   {
    "duration": 8,
    "start_time": "2022-07-02T07:11:53.466Z"
   },
   {
    "duration": 5,
    "start_time": "2022-07-02T07:13:04.372Z"
   },
   {
    "duration": 7,
    "start_time": "2022-07-02T07:13:10.477Z"
   },
   {
    "duration": 9,
    "start_time": "2022-07-02T07:15:06.376Z"
   },
   {
    "duration": 10,
    "start_time": "2022-07-02T07:15:15.590Z"
   },
   {
    "duration": 7,
    "start_time": "2022-07-02T07:15:18.977Z"
   },
   {
    "duration": 437,
    "start_time": "2022-07-02T07:16:40.659Z"
   },
   {
    "duration": 11,
    "start_time": "2022-07-02T07:17:12.285Z"
   },
   {
    "duration": 69,
    "start_time": "2022-07-02T07:17:22.184Z"
   },
   {
    "duration": 6,
    "start_time": "2022-07-02T07:17:40.061Z"
   },
   {
    "duration": 11,
    "start_time": "2022-07-02T07:18:34.705Z"
   },
   {
    "duration": 11,
    "start_time": "2022-07-02T07:19:09.023Z"
   },
   {
    "duration": 7,
    "start_time": "2022-07-02T07:19:11.680Z"
   },
   {
    "duration": 11,
    "start_time": "2022-07-02T07:19:33.626Z"
   },
   {
    "duration": 48,
    "start_time": "2022-07-02T07:20:35.885Z"
   },
   {
    "duration": 58,
    "start_time": "2022-07-02T07:20:41.952Z"
   },
   {
    "duration": 12,
    "start_time": "2022-07-02T07:20:45.600Z"
   },
   {
    "duration": 48,
    "start_time": "2022-07-02T07:21:19.021Z"
   },
   {
    "duration": 48,
    "start_time": "2022-07-02T07:22:16.599Z"
   },
   {
    "duration": 14,
    "start_time": "2022-07-02T07:22:23.231Z"
   },
   {
    "duration": 15,
    "start_time": "2022-07-02T07:22:32.131Z"
   },
   {
    "duration": 12,
    "start_time": "2022-07-02T07:22:35.650Z"
   },
   {
    "duration": 11,
    "start_time": "2022-07-02T07:26:05.247Z"
   },
   {
    "duration": 439,
    "start_time": "2022-07-02T07:26:56.900Z"
   },
   {
    "duration": 1014,
    "start_time": "2022-07-02T07:27:49.687Z"
   },
   {
    "duration": 18,
    "start_time": "2022-07-02T07:27:57.019Z"
   },
   {
    "duration": 18,
    "start_time": "2022-07-02T07:28:28.149Z"
   },
   {
    "duration": 469,
    "start_time": "2022-07-02T07:29:19.824Z"
   },
   {
    "duration": 49,
    "start_time": "2022-07-02T07:34:05.046Z"
   },
   {
    "duration": 14,
    "start_time": "2022-07-02T07:34:19.847Z"
   },
   {
    "duration": 240,
    "start_time": "2022-07-02T07:34:45.596Z"
   },
   {
    "duration": 17,
    "start_time": "2022-07-02T07:39:04.484Z"
   },
   {
    "duration": 924,
    "start_time": "2022-07-02T07:39:35.787Z"
   },
   {
    "duration": 407,
    "start_time": "2022-07-02T07:40:26.502Z"
   },
   {
    "duration": 21,
    "start_time": "2022-07-02T07:40:26.911Z"
   },
   {
    "duration": 13,
    "start_time": "2022-07-02T07:40:26.934Z"
   },
   {
    "duration": 12,
    "start_time": "2022-07-02T07:40:26.948Z"
   },
   {
    "duration": 34,
    "start_time": "2022-07-02T07:40:26.961Z"
   },
   {
    "duration": 4,
    "start_time": "2022-07-02T07:40:26.996Z"
   },
   {
    "duration": 11,
    "start_time": "2022-07-02T07:40:27.002Z"
   },
   {
    "duration": 5,
    "start_time": "2022-07-02T07:40:27.015Z"
   },
   {
    "duration": 10,
    "start_time": "2022-07-02T07:40:27.021Z"
   },
   {
    "duration": 5,
    "start_time": "2022-07-02T07:40:27.051Z"
   },
   {
    "duration": 33,
    "start_time": "2022-07-02T07:40:27.058Z"
   },
   {
    "duration": 9,
    "start_time": "2022-07-02T07:40:27.092Z"
   },
   {
    "duration": 5,
    "start_time": "2022-07-02T07:40:27.103Z"
   },
   {
    "duration": 43,
    "start_time": "2022-07-02T07:40:27.110Z"
   },
   {
    "duration": 24,
    "start_time": "2022-07-02T07:40:27.155Z"
   },
   {
    "duration": 15,
    "start_time": "2022-07-02T07:40:27.181Z"
   },
   {
    "duration": 4,
    "start_time": "2022-07-02T07:40:27.198Z"
   },
   {
    "duration": 13,
    "start_time": "2022-07-02T07:40:27.204Z"
   },
   {
    "duration": 11,
    "start_time": "2022-07-02T07:40:27.218Z"
   },
   {
    "duration": 22,
    "start_time": "2022-07-02T07:40:27.231Z"
   },
   {
    "duration": 14,
    "start_time": "2022-07-02T07:40:27.254Z"
   },
   {
    "duration": 4,
    "start_time": "2022-07-02T07:40:27.270Z"
   },
   {
    "duration": 18,
    "start_time": "2022-07-02T07:40:27.275Z"
   },
   {
    "duration": 941,
    "start_time": "2022-07-02T07:40:27.294Z"
   },
   {
    "duration": 394,
    "start_time": "2022-07-02T07:40:28.237Z"
   },
   {
    "duration": 9,
    "start_time": "2022-07-02T07:40:28.633Z"
   },
   {
    "duration": 448,
    "start_time": "2022-07-02T07:40:28.653Z"
   },
   {
    "duration": 18,
    "start_time": "2022-07-02T07:40:29.105Z"
   },
   {
    "duration": 38,
    "start_time": "2022-07-02T07:40:29.124Z"
   },
   {
    "duration": 421,
    "start_time": "2022-07-02T07:40:29.164Z"
   },
   {
    "duration": 15,
    "start_time": "2022-07-02T07:40:29.587Z"
   },
   {
    "duration": 280,
    "start_time": "2022-07-02T07:40:29.604Z"
   },
   {
    "duration": 501,
    "start_time": "2022-07-02T07:41:51.840Z"
   },
   {
    "duration": 22,
    "start_time": "2022-07-02T07:41:52.343Z"
   },
   {
    "duration": 15,
    "start_time": "2022-07-02T07:41:52.366Z"
   },
   {
    "duration": 10,
    "start_time": "2022-07-02T07:41:52.383Z"
   },
   {
    "duration": 33,
    "start_time": "2022-07-02T07:41:52.395Z"
   },
   {
    "duration": 24,
    "start_time": "2022-07-02T07:41:52.429Z"
   },
   {
    "duration": 12,
    "start_time": "2022-07-02T07:41:52.455Z"
   },
   {
    "duration": 4,
    "start_time": "2022-07-02T07:41:52.469Z"
   },
   {
    "duration": 11,
    "start_time": "2022-07-02T07:41:52.475Z"
   },
   {
    "duration": 5,
    "start_time": "2022-07-02T07:41:52.489Z"
   },
   {
    "duration": 60,
    "start_time": "2022-07-02T07:41:52.496Z"
   },
   {
    "duration": 11,
    "start_time": "2022-07-02T07:41:52.557Z"
   },
   {
    "duration": 8,
    "start_time": "2022-07-02T07:41:52.570Z"
   },
   {
    "duration": 34,
    "start_time": "2022-07-02T07:41:52.579Z"
   },
   {
    "duration": 18,
    "start_time": "2022-07-02T07:41:52.614Z"
   },
   {
    "duration": 27,
    "start_time": "2022-07-02T07:41:52.634Z"
   },
   {
    "duration": 5,
    "start_time": "2022-07-02T07:41:52.664Z"
   },
   {
    "duration": 16,
    "start_time": "2022-07-02T07:41:52.670Z"
   },
   {
    "duration": 9,
    "start_time": "2022-07-02T07:41:52.687Z"
   },
   {
    "duration": 23,
    "start_time": "2022-07-02T07:41:52.698Z"
   },
   {
    "duration": 27,
    "start_time": "2022-07-02T07:41:52.722Z"
   },
   {
    "duration": 18,
    "start_time": "2022-07-02T07:41:52.750Z"
   },
   {
    "duration": 22,
    "start_time": "2022-07-02T07:41:52.769Z"
   },
   {
    "duration": 930,
    "start_time": "2022-07-02T07:41:52.793Z"
   },
   {
    "duration": 360,
    "start_time": "2022-07-02T07:41:53.725Z"
   },
   {
    "duration": 8,
    "start_time": "2022-07-02T07:41:54.087Z"
   },
   {
    "duration": 467,
    "start_time": "2022-07-02T07:41:54.097Z"
   },
   {
    "duration": 18,
    "start_time": "2022-07-02T07:41:54.567Z"
   },
   {
    "duration": 19,
    "start_time": "2022-07-02T07:41:54.586Z"
   },
   {
    "duration": 459,
    "start_time": "2022-07-02T07:41:54.607Z"
   },
   {
    "duration": 14,
    "start_time": "2022-07-02T07:41:55.068Z"
   },
   {
    "duration": 355,
    "start_time": "2022-07-02T07:41:55.084Z"
   },
   {
    "duration": 106,
    "start_time": "2022-07-02T07:41:55.441Z"
   },
   {
    "duration": 0,
    "start_time": "2022-07-02T07:41:55.552Z"
   },
   {
    "duration": 0,
    "start_time": "2022-07-02T07:41:55.553Z"
   },
   {
    "duration": 22,
    "start_time": "2022-07-02T07:42:01.147Z"
   },
   {
    "duration": 150,
    "start_time": "2022-07-02T07:42:17.999Z"
   },
   {
    "duration": 9,
    "start_time": "2022-07-02T07:42:22.601Z"
   },
   {
    "duration": 12,
    "start_time": "2022-07-02T07:42:32.895Z"
   },
   {
    "duration": 10,
    "start_time": "2022-07-02T07:42:40.097Z"
   },
   {
    "duration": 13,
    "start_time": "2022-07-02T07:44:27.805Z"
   },
   {
    "duration": 13,
    "start_time": "2022-07-02T07:44:50.022Z"
   },
   {
    "duration": 20,
    "start_time": "2022-07-02T07:47:11.644Z"
   },
   {
    "duration": 259,
    "start_time": "2022-07-02T07:49:46.403Z"
   },
   {
    "duration": 312,
    "start_time": "2022-07-02T07:49:52.964Z"
   },
   {
    "duration": 382,
    "start_time": "2022-07-02T07:50:24.790Z"
   },
   {
    "duration": 13,
    "start_time": "2022-07-02T07:50:42.553Z"
   },
   {
    "duration": 306,
    "start_time": "2022-07-02T07:50:47.598Z"
   },
   {
    "duration": 62,
    "start_time": "2022-07-02T07:50:50.949Z"
   },
   {
    "duration": 303,
    "start_time": "2022-07-02T07:50:54.329Z"
   },
   {
    "duration": 4,
    "start_time": "2022-07-02T07:53:19.089Z"
   },
   {
    "duration": 4,
    "start_time": "2022-07-02T07:54:23.017Z"
   },
   {
    "duration": 4,
    "start_time": "2022-07-02T07:54:29.941Z"
   },
   {
    "duration": 5,
    "start_time": "2022-07-02T07:57:32.855Z"
   },
   {
    "duration": 5,
    "start_time": "2022-07-02T07:57:46.344Z"
   },
   {
    "duration": 25,
    "start_time": "2022-07-02T07:58:55.967Z"
   },
   {
    "duration": 1056,
    "start_time": "2022-07-02T07:59:12.722Z"
   },
   {
    "duration": 14,
    "start_time": "2022-07-02T07:59:28.645Z"
   },
   {
    "duration": 12,
    "start_time": "2022-07-02T07:59:39.340Z"
   },
   {
    "duration": 18,
    "start_time": "2022-07-02T08:00:33.629Z"
   },
   {
    "duration": 19,
    "start_time": "2022-07-02T08:01:11.621Z"
   },
   {
    "duration": 21,
    "start_time": "2022-07-02T08:01:29.626Z"
   },
   {
    "duration": 19,
    "start_time": "2022-07-02T08:01:56.989Z"
   },
   {
    "duration": 16,
    "start_time": "2022-07-02T08:06:02.391Z"
   },
   {
    "duration": 18,
    "start_time": "2022-07-02T08:06:10.717Z"
   },
   {
    "duration": 330,
    "start_time": "2022-07-02T08:07:05.398Z"
   },
   {
    "duration": 334,
    "start_time": "2022-07-02T08:07:10.497Z"
   },
   {
    "duration": 320,
    "start_time": "2022-07-02T08:07:15.983Z"
   },
   {
    "duration": 313,
    "start_time": "2022-07-02T08:07:18.489Z"
   },
   {
    "duration": 18,
    "start_time": "2022-07-02T08:09:20.441Z"
   },
   {
    "duration": 17,
    "start_time": "2022-07-02T08:09:31.044Z"
   },
   {
    "duration": 14,
    "start_time": "2022-07-02T08:33:19.276Z"
   },
   {
    "duration": 18,
    "start_time": "2022-07-02T08:33:32.865Z"
   },
   {
    "duration": 14,
    "start_time": "2022-07-02T08:33:39.178Z"
   },
   {
    "duration": 10,
    "start_time": "2022-07-02T08:34:38.084Z"
   },
   {
    "duration": 9,
    "start_time": "2022-07-02T08:34:46.917Z"
   },
   {
    "duration": 1270,
    "start_time": "2022-07-02T08:37:00.171Z"
   },
   {
    "duration": 1049,
    "start_time": "2022-07-02T08:37:05.356Z"
   },
   {
    "duration": 1092,
    "start_time": "2022-07-02T08:37:13.337Z"
   },
   {
    "duration": 1328,
    "start_time": "2022-07-02T08:37:22.104Z"
   },
   {
    "duration": 11,
    "start_time": "2022-07-02T08:37:28.088Z"
   },
   {
    "duration": 22,
    "start_time": "2022-07-02T08:37:45.377Z"
   },
   {
    "duration": 524,
    "start_time": "2022-07-02T10:12:37.705Z"
   },
   {
    "duration": 22,
    "start_time": "2022-07-02T10:12:38.231Z"
   },
   {
    "duration": 14,
    "start_time": "2022-07-02T10:12:38.255Z"
   },
   {
    "duration": 10,
    "start_time": "2022-07-02T10:12:38.271Z"
   },
   {
    "duration": 60,
    "start_time": "2022-07-02T10:12:38.282Z"
   },
   {
    "duration": 3,
    "start_time": "2022-07-02T10:12:38.344Z"
   },
   {
    "duration": 10,
    "start_time": "2022-07-02T10:12:38.348Z"
   },
   {
    "duration": 4,
    "start_time": "2022-07-02T10:12:38.360Z"
   },
   {
    "duration": 11,
    "start_time": "2022-07-02T10:12:38.365Z"
   },
   {
    "duration": 4,
    "start_time": "2022-07-02T10:12:38.380Z"
   },
   {
    "duration": 64,
    "start_time": "2022-07-02T10:12:38.386Z"
   },
   {
    "duration": 11,
    "start_time": "2022-07-02T10:12:38.451Z"
   },
   {
    "duration": 3,
    "start_time": "2022-07-02T10:12:38.464Z"
   },
   {
    "duration": 18,
    "start_time": "2022-07-02T10:12:38.469Z"
   },
   {
    "duration": 38,
    "start_time": "2022-07-02T10:12:38.489Z"
   },
   {
    "duration": 12,
    "start_time": "2022-07-02T10:12:38.528Z"
   },
   {
    "duration": 5,
    "start_time": "2022-07-02T10:12:38.542Z"
   },
   {
    "duration": 12,
    "start_time": "2022-07-02T10:12:38.549Z"
   },
   {
    "duration": 8,
    "start_time": "2022-07-02T10:12:38.562Z"
   },
   {
    "duration": 4,
    "start_time": "2022-07-02T10:12:38.572Z"
   },
   {
    "duration": 13,
    "start_time": "2022-07-02T10:12:38.577Z"
   },
   {
    "duration": 4,
    "start_time": "2022-07-02T10:12:38.592Z"
   },
   {
    "duration": 14,
    "start_time": "2022-07-02T10:12:38.627Z"
   },
   {
    "duration": 14,
    "start_time": "2022-07-02T10:12:38.642Z"
   },
   {
    "duration": 1099,
    "start_time": "2022-07-02T10:12:38.658Z"
   },
   {
    "duration": 356,
    "start_time": "2022-07-02T10:12:39.759Z"
   },
   {
    "duration": 13,
    "start_time": "2022-07-02T10:12:40.117Z"
   },
   {
    "duration": 405,
    "start_time": "2022-07-02T10:12:40.133Z"
   },
   {
    "duration": 13,
    "start_time": "2022-07-02T10:12:40.540Z"
   },
   {
    "duration": 12,
    "start_time": "2022-07-02T10:12:40.554Z"
   },
   {
    "duration": 18,
    "start_time": "2022-07-02T10:12:40.568Z"
   },
   {
    "duration": 452,
    "start_time": "2022-07-02T10:12:40.587Z"
   },
   {
    "duration": 13,
    "start_time": "2022-07-02T10:12:41.041Z"
   },
   {
    "duration": 255,
    "start_time": "2022-07-02T10:12:41.056Z"
   },
   {
    "duration": 33,
    "start_time": "2022-07-02T10:12:41.313Z"
   },
   {
    "duration": 12,
    "start_time": "2022-07-02T10:12:41.347Z"
   },
   {
    "duration": 16,
    "start_time": "2022-07-02T10:12:41.360Z"
   },
   {
    "duration": 449,
    "start_time": "2022-07-02T10:12:41.378Z"
   },
   {
    "duration": 25,
    "start_time": "2022-07-02T10:12:41.828Z"
   },
   {
    "duration": 19,
    "start_time": "2022-07-02T10:12:41.855Z"
   },
   {
    "duration": 350,
    "start_time": "2022-07-02T10:12:41.876Z"
   },
   {
    "duration": 18,
    "start_time": "2022-07-02T10:12:42.228Z"
   },
   {
    "duration": 742,
    "start_time": "2022-07-04T11:02:09.024Z"
   },
   {
    "duration": 22,
    "start_time": "2022-07-04T11:02:09.768Z"
   },
   {
    "duration": 20,
    "start_time": "2022-07-04T11:02:09.791Z"
   },
   {
    "duration": 21,
    "start_time": "2022-07-04T11:02:09.813Z"
   },
   {
    "duration": 33,
    "start_time": "2022-07-04T11:02:09.836Z"
   },
   {
    "duration": 4,
    "start_time": "2022-07-04T11:02:09.871Z"
   },
   {
    "duration": 55,
    "start_time": "2022-07-04T11:02:09.876Z"
   },
   {
    "duration": 12,
    "start_time": "2022-07-04T11:02:09.933Z"
   },
   {
    "duration": 21,
    "start_time": "2022-07-04T11:02:09.946Z"
   },
   {
    "duration": 16,
    "start_time": "2022-07-04T11:02:09.971Z"
   },
   {
    "duration": 49,
    "start_time": "2022-07-04T11:02:09.989Z"
   },
   {
    "duration": 9,
    "start_time": "2022-07-04T11:02:10.040Z"
   },
   {
    "duration": 17,
    "start_time": "2022-07-04T11:02:10.050Z"
   },
   {
    "duration": 30,
    "start_time": "2022-07-04T11:02:10.069Z"
   },
   {
    "duration": 23,
    "start_time": "2022-07-04T11:02:10.101Z"
   },
   {
    "duration": 14,
    "start_time": "2022-07-04T11:02:10.125Z"
   },
   {
    "duration": 27,
    "start_time": "2022-07-04T11:02:10.141Z"
   },
   {
    "duration": 18,
    "start_time": "2022-07-04T11:02:10.170Z"
   },
   {
    "duration": 11,
    "start_time": "2022-07-04T11:02:10.190Z"
   },
   {
    "duration": 7,
    "start_time": "2022-07-04T11:02:10.203Z"
   },
   {
    "duration": 30,
    "start_time": "2022-07-04T11:02:10.212Z"
   },
   {
    "duration": 7,
    "start_time": "2022-07-04T11:02:10.244Z"
   },
   {
    "duration": 25,
    "start_time": "2022-07-04T11:02:10.253Z"
   },
   {
    "duration": 24,
    "start_time": "2022-07-04T11:02:10.280Z"
   },
   {
    "duration": 1202,
    "start_time": "2022-07-04T11:02:10.307Z"
   },
   {
    "duration": 389,
    "start_time": "2022-07-04T11:02:11.511Z"
   },
   {
    "duration": 8,
    "start_time": "2022-07-04T11:02:11.903Z"
   },
   {
    "duration": 432,
    "start_time": "2022-07-04T11:02:11.914Z"
   },
   {
    "duration": 13,
    "start_time": "2022-07-04T11:02:12.348Z"
   },
   {
    "duration": 12,
    "start_time": "2022-07-04T11:02:12.363Z"
   },
   {
    "duration": 16,
    "start_time": "2022-07-04T11:02:12.376Z"
   },
   {
    "duration": 547,
    "start_time": "2022-07-04T11:02:12.394Z"
   },
   {
    "duration": 13,
    "start_time": "2022-07-04T11:02:12.942Z"
   },
   {
    "duration": 275,
    "start_time": "2022-07-04T11:02:12.956Z"
   },
   {
    "duration": 33,
    "start_time": "2022-07-04T11:02:13.233Z"
   },
   {
    "duration": 13,
    "start_time": "2022-07-04T11:02:13.268Z"
   },
   {
    "duration": 18,
    "start_time": "2022-07-04T11:02:13.282Z"
   },
   {
    "duration": 357,
    "start_time": "2022-07-04T11:02:13.302Z"
   },
   {
    "duration": 19,
    "start_time": "2022-07-04T11:02:13.661Z"
   },
   {
    "duration": 18,
    "start_time": "2022-07-04T11:02:13.682Z"
   },
   {
    "duration": 355,
    "start_time": "2022-07-04T11:02:13.701Z"
   },
   {
    "duration": 16,
    "start_time": "2022-07-04T11:02:14.057Z"
   },
   {
    "duration": 472,
    "start_time": "2022-07-04T16:34:01.494Z"
   },
   {
    "duration": 22,
    "start_time": "2022-07-04T16:34:01.968Z"
   },
   {
    "duration": 15,
    "start_time": "2022-07-04T16:34:01.991Z"
   },
   {
    "duration": 24,
    "start_time": "2022-07-04T16:34:02.008Z"
   },
   {
    "duration": 42,
    "start_time": "2022-07-04T16:34:02.034Z"
   },
   {
    "duration": 3,
    "start_time": "2022-07-04T16:34:02.078Z"
   },
   {
    "duration": 13,
    "start_time": "2022-07-04T16:34:02.082Z"
   },
   {
    "duration": 11,
    "start_time": "2022-07-04T16:34:02.096Z"
   },
   {
    "duration": 18,
    "start_time": "2022-07-04T16:34:02.109Z"
   },
   {
    "duration": 5,
    "start_time": "2022-07-04T16:34:02.129Z"
   },
   {
    "duration": 43,
    "start_time": "2022-07-04T16:34:02.136Z"
   },
   {
    "duration": 9,
    "start_time": "2022-07-04T16:34:02.180Z"
   },
   {
    "duration": 10,
    "start_time": "2022-07-04T16:34:02.190Z"
   },
   {
    "duration": 34,
    "start_time": "2022-07-04T16:34:02.202Z"
   },
   {
    "duration": 17,
    "start_time": "2022-07-04T16:34:02.238Z"
   },
   {
    "duration": 11,
    "start_time": "2022-07-04T16:34:02.257Z"
   },
   {
    "duration": 6,
    "start_time": "2022-07-04T16:34:02.270Z"
   },
   {
    "duration": 11,
    "start_time": "2022-07-04T16:34:02.278Z"
   },
   {
    "duration": 6,
    "start_time": "2022-07-04T16:34:02.290Z"
   },
   {
    "duration": 27,
    "start_time": "2022-07-04T16:34:02.297Z"
   },
   {
    "duration": 11,
    "start_time": "2022-07-04T16:34:02.326Z"
   },
   {
    "duration": 6,
    "start_time": "2022-07-04T16:34:02.338Z"
   },
   {
    "duration": 25,
    "start_time": "2022-07-04T16:34:02.346Z"
   },
   {
    "duration": 20,
    "start_time": "2022-07-04T16:34:02.373Z"
   },
   {
    "duration": 1001,
    "start_time": "2022-07-04T16:34:02.395Z"
   },
   {
    "duration": 357,
    "start_time": "2022-07-04T16:34:03.398Z"
   },
   {
    "duration": 8,
    "start_time": "2022-07-04T16:34:03.757Z"
   },
   {
    "duration": 460,
    "start_time": "2022-07-04T16:34:03.767Z"
   },
   {
    "duration": 13,
    "start_time": "2022-07-04T16:34:04.229Z"
   },
   {
    "duration": 19,
    "start_time": "2022-07-04T16:34:04.243Z"
   },
   {
    "duration": 31,
    "start_time": "2022-07-04T16:34:04.264Z"
   },
   {
    "duration": 436,
    "start_time": "2022-07-04T16:34:04.297Z"
   },
   {
    "duration": 16,
    "start_time": "2022-07-04T16:34:04.735Z"
   },
   {
    "duration": 294,
    "start_time": "2022-07-04T16:34:04.753Z"
   },
   {
    "duration": 25,
    "start_time": "2022-07-04T16:34:05.049Z"
   },
   {
    "duration": 13,
    "start_time": "2022-07-04T16:34:05.076Z"
   },
   {
    "duration": 39,
    "start_time": "2022-07-04T16:34:05.090Z"
   },
   {
    "duration": 353,
    "start_time": "2022-07-04T16:34:05.131Z"
   },
   {
    "duration": 18,
    "start_time": "2022-07-04T16:34:05.486Z"
   },
   {
    "duration": 30,
    "start_time": "2022-07-04T16:34:05.506Z"
   },
   {
    "duration": 358,
    "start_time": "2022-07-04T16:34:05.539Z"
   },
   {
    "duration": 24,
    "start_time": "2022-07-04T16:34:05.899Z"
   }
  ],
  "colab": {
   "name": "dpp_template_part2.ipynb",
   "provenance": []
  },
  "kernelspec": {
   "display_name": "Python 3 (ipykernel)",
   "language": "python",
   "name": "python3"
  },
  "language_info": {
   "codemirror_mode": {
    "name": "ipython",
    "version": 3
   },
   "file_extension": ".py",
   "mimetype": "text/x-python",
   "name": "python",
   "nbconvert_exporter": "python",
   "pygments_lexer": "ipython3",
   "version": "3.9.5"
  },
  "toc": {
   "base_numbering": 1,
   "nav_menu": {},
   "number_sections": true,
   "sideBar": true,
   "skip_h1_title": true,
   "title_cell": "Table of Contents",
   "title_sidebar": "Contents",
   "toc_cell": false,
   "toc_position": {},
   "toc_section_display": true,
   "toc_window_display": false
  }
 },
 "nbformat": 4,
 "nbformat_minor": 5
}
