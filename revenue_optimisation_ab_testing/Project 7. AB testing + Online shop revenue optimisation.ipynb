{
 "cells": [
  {
   "cell_type": "markdown",
   "metadata": {},
   "source": [
    "<div class=\"alert alert-success\">\n",
    "<b>Комментарий ревьюера v 2.0 ✔️:</b> Отлично, Семен! Ты здорово поработал над всеми комментариями и теперь твой проект принят.\n",
    "    \n",
    "Спасибо за работу и успехов в следующих проектах!)"
   ]
  },
  {
   "cell_type": "markdown",
   "metadata": {},
   "source": [
    "<div style=\"border:solid green 2px; padding: 20px\">\n",
    "<b>Привет!</b>\n",
    "\n",
    "Меня зовут [], и я буду проверять твой проект. Предлагаю общаться на «ты» :) Но если это не удобно - дай знать, и мы перейдем на \"вы\". \n",
    "\n",
    "Моя основная цель — не указать на совершенные тобою ошибки, а поделиться своим опытом и помочь тебе стать аналитиком данных. Ты уже проделал большую работу над проектом, но давай сделаем его еще лучше. Ниже ты найдешь мои комментарии - **пожалуйста, не перемещай, не изменяй и не удаляй их**. Увидев у тебя ошибку, в первый раз я лишь укажу на ее наличие и дам тебе возможность самому найти и исправить ее. На реальной работе твой начальник будет поступать так же, а я пытаюсь подготовить тебя именно к работе аналитиком. Но если ты пока не справишься с такой задачей - при следующей проверке я дам более точную подсказку. Я буду использовать цветовую разметку:\n",
    "\n",
    "<div class=\"alert alert-danger\">\n",
    "<b>Комментарий ревьюера ❌:</b> Так выделены самые важные замечания. Без их отработки проект не будет принят. </div>\n",
    "\n",
    "<div class=\"alert alert-warning\">\n",
    "<b>Комментарий ревьюера ⚠️:</b> Так выделены небольшие замечания. Я надеюсь, что их ты тоже учтешь - твой проект от этого станет только лучше. Но настаивать на их отработке не буду.\n",
    "\n",
    "</div>\n",
    "\n",
    "<div class=\"alert alert-success\">\n",
    "<b>Комментарий ревьюера ✔️:</b> Так я выделяю все остальные комментарии.</div>\n",
    "\n",
    "Давай работать над проектом в диалоге: **если ты что-то меняешь в проекте или отвечаешь на мои комментарии — пиши об этом.** Мне будет легче отследить изменения, если ты выделишь свои комментарии:\n",
    "<div class=\"alert alert-info\"> <b>Комментарий студента:</b> Например, вот так.</div>\n",
    "\n",
    "Всё это поможет выполнить повторную проверку твоего проекта оперативнее. "
   ]
  },
  {
   "cell_type": "markdown",
   "metadata": {
    "toc": true
   },
   "source": [
    "<h1>Table of Contents<span class=\"tocSkip\"></span></h1>\n",
    "<div class=\"toc\"><ul class=\"toc-item\"><li><span><a href=\"#Описание-проекта\" data-toc-modified-id=\"Описание-проекта-1\"><span class=\"toc-item-num\">1&nbsp;&nbsp;</span>Описание проекта</a></span><ul class=\"toc-item\"><li><span><a href=\"#Контекст-и-используемые-данные\" data-toc-modified-id=\"Контекст-и-используемые-данные-1.1\"><span class=\"toc-item-num\">1.1&nbsp;&nbsp;</span>Контекст и используемые данные</a></span></li><li><span><a href=\"#Решённые-в-ходе-работы-задачи\" data-toc-modified-id=\"Решённые-в-ходе-работы-задачи-1.2\"><span class=\"toc-item-num\">1.2&nbsp;&nbsp;</span>Решённые в ходе работы задачи</a></span></li></ul></li><li><span><a href=\"#Предварительный-этап---подготовка-к-исследованию\" data-toc-modified-id=\"Предварительный-этап---подготовка-к-исследованию-2\"><span class=\"toc-item-num\">2&nbsp;&nbsp;</span>Предварительный этап - подготовка к исследованию</a></span><ul class=\"toc-item\"><li><span><a href=\"#Загрузка-и-настройка-необходимых-библиотек\" data-toc-modified-id=\"Загрузка-и-настройка-необходимых-библиотек-2.1\"><span class=\"toc-item-num\">2.1&nbsp;&nbsp;</span>Загрузка и настройка необходимых библиотек</a></span></li><li><span><a href=\"#Загрузка-данных-и-первичный-exploratory-анализ\" data-toc-modified-id=\"Загрузка-данных-и-первичный-exploratory-анализ-2.2\"><span class=\"toc-item-num\">2.2&nbsp;&nbsp;</span>Загрузка данных и первичный exploratory-анализ</a></span></li></ul></li><li><span><a href=\"#Этап-№1.-Приоритизация-гипотез\" data-toc-modified-id=\"Этап-№1.-Приоритизация-гипотез-3\"><span class=\"toc-item-num\">3&nbsp;&nbsp;</span>Этап №1. Приоритизация гипотез</a></span><ul class=\"toc-item\"><li><span><a href=\"#Примените-фреймворк-ICE-для-приоритизации-гипотез.-Отсортируйте-их-по-убыванию-приоритета.\" data-toc-modified-id=\"Примените-фреймворк-ICE-для-приоритизации-гипотез.-Отсортируйте-их-по-убыванию-приоритета.-3.1\"><span class=\"toc-item-num\">3.1&nbsp;&nbsp;</span>Примените фреймворк ICE для приоритизации гипотез. Отсортируйте их по убыванию приоритета.</a></span></li><li><span><a href=\"#Примените-фреймворк-RICE-для-приоритизации-гипотез.-Отсортируйте-их-по-убыванию-приоритета.\" data-toc-modified-id=\"Примените-фреймворк-RICE-для-приоритизации-гипотез.-Отсортируйте-их-по-убыванию-приоритета.-3.2\"><span class=\"toc-item-num\">3.2&nbsp;&nbsp;</span>Примените фреймворк RICE для приоритизации гипотез. Отсортируйте их по убыванию приоритета.</a></span></li><li><span><a href=\"#Укажите,-как-изменилась-приоритизация-гипотез-при-применении-RICE-вместо-ICE.-Объясните,-почему-так-произошло\" data-toc-modified-id=\"Укажите,-как-изменилась-приоритизация-гипотез-при-применении-RICE-вместо-ICE.-Объясните,-почему-так-произошло-3.3\"><span class=\"toc-item-num\">3.3&nbsp;&nbsp;</span>Укажите, как изменилась приоритизация гипотез при применении RICE вместо ICE. Объясните, почему так произошло</a></span></li></ul></li><li><span><a href=\"#Этап-№2.-Анализ-А/В-теста\" data-toc-modified-id=\"Этап-№2.-Анализ-А/В-теста-4\"><span class=\"toc-item-num\">4&nbsp;&nbsp;</span>Этап №2. Анализ А/В теста</a></span><ul class=\"toc-item\"><li><span><a href=\"#Расчёт-объёма-выборки\" data-toc-modified-id=\"Расчёт-объёма-выборки-4.1\"><span class=\"toc-item-num\">4.1&nbsp;&nbsp;</span>Расчёт объёма выборки</a></span></li><li><span><a href=\"#Учёт-выбросов\" data-toc-modified-id=\"Учёт-выбросов-4.2\"><span class=\"toc-item-num\">4.2&nbsp;&nbsp;</span>Учёт выбросов</a></span></li><li><span><a href=\"#Анализ-результатов-теста\" data-toc-modified-id=\"Анализ-результатов-теста-4.3\"><span class=\"toc-item-num\">4.3&nbsp;&nbsp;</span>Анализ результатов теста</a></span><ul class=\"toc-item\"><li><span><a href=\"#Постройте-график-кумулятивной-выручки-по-группам.-Сделайте-выводы-и-предположения.\" data-toc-modified-id=\"Постройте-график-кумулятивной-выручки-по-группам.-Сделайте-выводы-и-предположения.-4.3.1\"><span class=\"toc-item-num\">4.3.1&nbsp;&nbsp;</span>Постройте график кумулятивной выручки по группам. Сделайте выводы и предположения.</a></span></li><li><span><a href=\"#Постройте-график-кумулятивного-среднего-чека-по-группам.-Сделайте-выводы-и-предположения.\" data-toc-modified-id=\"Постройте-график-кумулятивного-среднего-чека-по-группам.-Сделайте-выводы-и-предположения.-4.3.2\"><span class=\"toc-item-num\">4.3.2&nbsp;&nbsp;</span>Постройте график кумулятивного среднего чека по группам. Сделайте выводы и предположения.</a></span></li><li><span><a href=\"#Постройте-график-кумулятивного-среднего-количества-заказов-по-группам.-Сделайте-выводы-и-предположения.\" data-toc-modified-id=\"Постройте-график-кумулятивного-среднего-количества-заказов-по-группам.-Сделайте-выводы-и-предположения.-4.3.3\"><span class=\"toc-item-num\">4.3.3&nbsp;&nbsp;</span>Постройте график кумулятивного среднего количества заказов по группам. Сделайте выводы и предположения.</a></span></li></ul></li><li><span><a href=\"#Расчёт-статистической-значимости-результатов-теста\" data-toc-modified-id=\"Расчёт-статистической-значимости-результатов-теста-4.4\"><span class=\"toc-item-num\">4.4&nbsp;&nbsp;</span>Расчёт статистической значимости результатов теста</a></span><ul class=\"toc-item\"><li><span><a href=\"#Посчитайте-статистическую-значимость-различий-в-среднем-количестве-заказов-между-группами-по-«сырым»-данным.-Сделайте-выводы-и-предположения.\" data-toc-modified-id=\"Посчитайте-статистическую-значимость-различий-в-среднем-количестве-заказов-между-группами-по-«сырым»-данным.-Сделайте-выводы-и-предположения.-4.4.1\"><span class=\"toc-item-num\">4.4.1&nbsp;&nbsp;</span>Посчитайте статистическую значимость различий в среднем количестве заказов между группами по «сырым» данным. Сделайте выводы и предположения.</a></span></li><li><span><a href=\"#Посчитайте-статистическую-значимость-различий-в-среднем-количестве-заказов-между-группами-по-«очищенным»-данным.-Сделайте-выводы-и-предположения.\" data-toc-modified-id=\"Посчитайте-статистическую-значимость-различий-в-среднем-количестве-заказов-между-группами-по-«очищенным»-данным.-Сделайте-выводы-и-предположения.-4.4.2\"><span class=\"toc-item-num\">4.4.2&nbsp;&nbsp;</span>Посчитайте статистическую значимость различий в среднем количестве заказов между группами по «очищенным» данным. Сделайте выводы и предположения.</a></span></li><li><span><a href=\"#Посчитайте-статистическую-значимость-различий-в-среднем-чеке-заказа-между-группами-по-«сырым»-данным.-Сделайте-выводы-и-предположения.\" data-toc-modified-id=\"Посчитайте-статистическую-значимость-различий-в-среднем-чеке-заказа-между-группами-по-«сырым»-данным.-Сделайте-выводы-и-предположения.-4.4.3\"><span class=\"toc-item-num\">4.4.3&nbsp;&nbsp;</span>Посчитайте статистическую значимость различий в среднем чеке заказа между группами по «сырым» данным. Сделайте выводы и предположения.</a></span></li><li><span><a href=\"#Посчитайте-статистическую-значимость-различий-в-среднем-чеке-заказа-между-группами-по-«очищенным»-данным.-Сделайте-выводы-и-предположения.\" data-toc-modified-id=\"Посчитайте-статистическую-значимость-различий-в-среднем-чеке-заказа-между-группами-по-«очищенным»-данным.-Сделайте-выводы-и-предположения.-4.4.4\"><span class=\"toc-item-num\">4.4.4&nbsp;&nbsp;</span>Посчитайте статистическую значимость различий в среднем чеке заказа между группами по «очищенным» данным. Сделайте выводы и предположения.</a></span></li></ul></li><li><span><a href=\"#Общие-выводы\" data-toc-modified-id=\"Общие-выводы-4.5\"><span class=\"toc-item-num\">4.5&nbsp;&nbsp;</span>Общие выводы</a></span></li></ul></li></ul></div>"
   ]
  },
  {
   "cell_type": "markdown",
   "metadata": {},
   "source": [
    "## Описание проекта"
   ]
  },
  {
   "cell_type": "markdown",
   "metadata": {},
   "source": [
    "### Контекст и используемые данные"
   ]
  },
  {
   "cell_type": "markdown",
   "metadata": {},
   "source": [
    "**Контекст:** Вы — аналитик крупного интернет-магазина. Вместе с отделом маркетинга вы подготовили список гипотез для увеличения выручки. Приоритизируйте гипотезы, запустите A/B-тест и проанализируйте результаты."
   ]
  },
  {
   "cell_type": "markdown",
   "metadata": {},
   "source": [
    "**Файлы. используемые в исследовании:**\n",
    "- **Файл /datasets/hypothesis.csv.** Содержание файла:\n",
    "    - `Hypothesis` — краткое описание гипотезы;\n",
    "    - `Reach` — охват пользователей по 10-балльной шкале;\n",
    "    - `Impact` — влияние на пользователей по 10-балльной шкале;\n",
    "    - `Confidence` — уверенность в гипотезе по 10-балльной шкале;\n",
    "    - `Efforts` — затраты ресурсов на проверку гипотезы по 10-балльной шкале. Чем больше значение Efforts, тем дороже проверка гипотезы.\n",
    "    \n",
    "- **Файл /datasets/orders.csv.** Содержание файла:\n",
    "    - `transactionId` — идентификатор заказа;\n",
    "    - `visitorId` — идентификатор пользователя, совершившего заказ;\n",
    "    - `date` — дата, когда был совершён заказ;\n",
    "    - `revenue` — выручка заказа;\n",
    "    - `group` — группа A/B-теста, в которую попал заказ.\n",
    "    \n",
    "- **Файл /datasets/visitors.csv.** Содержание файла:\n",
    "    - `date` — дата;\n",
    "    - `group` — группа A/B-теста;\n",
    "    - `visitors` — количество пользователей в указанную дату в указанной группе A/B-теста"
   ]
  },
  {
   "cell_type": "markdown",
   "metadata": {},
   "source": [
    "### Решённые в ходе работы задачи"
   ]
  },
  {
   "cell_type": "markdown",
   "metadata": {},
   "source": [
    "Содержательная часть работы структурирована **в соответствии с предварительно согласованными задачами.**\n",
    "\n",
    "При этом **большая часть расчётов/постройки графиков выполнялась посредством функций** - что теоретически должно помочь с дальнейшим применением материалов работы (можно создать отдельную библиотеку для внутреннего пользования, чтобы строить подобные таблицы/графики более оперативно)\n",
    "\n",
    "**Задачи проекта:**\n",
    "\n",
    "- **Часть 1. Приоритизация гипотез.**\n",
    "    - [x] Примените фреймворк ICE для приоритизации гипотез. Отсортируйте их по убыванию приоритета.\n",
    "    - [x] Примените фреймворк RICE для приоритизации гипотез. Отсортируйте их по убыванию приоритета.\n",
    "    - [x] Укажите, как изменилась приоритизация гипотез при применении RICE вместо ICE. Объясните, почему так произошло.\n",
    "    \n",
    "- **Часть 2. Анализ А/В теста.**\n",
    "    - [x] Постройте график кумулятивной выручки по группам. Сделайте выводы и предположения.\n",
    "    - [x] Постройте график кумулятивного среднего чека по группам. Сделайте выводы и предположения.\n",
    "    - [x] Постройте график относительного изменения кумулятивного среднего чека группы B к группе A. Сделайте выводы и предположения.\n",
    "    - [x] Постройте график кумулятивного среднего количества заказов по группам. Сделайте выводы и предположения.\n",
    "    - [x] Постройте график относительного изменения кумулятивного среднего количества заказов группы B к группе A. Сделайте выводы и предположения.\n",
    "    - [x] Постройте точечный график количества заказов по пользователям. Сделайте выводы и предположения.\n",
    "    - [x] Посчитайте 95-й и 99-й перцентили количества заказов на пользователя. Выберите границу для определения аномальных пользователей.\n",
    "    - [x] Постройте точечный график стоимостей заказов. Сделайте выводы и предположения.\n",
    "    - [x] Посчитайте 95-й и 99-й перцентили стоимости заказов. Выберите границу для определения аномальных заказов.\n",
    "    - [x] Посчитайте статистическую значимость различий в среднем количестве заказов между группами по «сырым» данным. Сделайте выводы и предположения.\n",
    "    - Посчитайте статистическую значимость различий в среднем чеке заказа между группами по «сырым» данным. Сделайте выводы и предположения.\n",
    "    - [x] Посчитайте статистическую значимость различий в среднем количестве заказов между группами по «очищенным» данным. Сделайте выводы и предположения.\n",
    "    - [x] Посчитайте статистическую значимость различий в среднем чеке заказа между группами по «очищенным» данным. Сделайте выводы и предположения.\n",
    "    - [x] Примите решение по результатам теста и объясните его. Варианты решений: 1. Остановить тест, зафиксировать победу одной из групп. 2. Остановить тест, зафиксировать отсутствие различий между группами. 3. Продолжить тест."
   ]
  },
  {
   "cell_type": "markdown",
   "metadata": {},
   "source": [
    "<div class=\"alert alert-success\">\n",
    "<b>Комментарий ревьюера ✔️:</b> Коротко обозначил основные цели и шаги проекта </div>"
   ]
  },
  {
   "cell_type": "markdown",
   "metadata": {},
   "source": [
    "## Предварительный этап - подготовка к исследованию"
   ]
  },
  {
   "cell_type": "markdown",
   "metadata": {},
   "source": [
    "### Загрузка и настройка необходимых библиотек"
   ]
  },
  {
   "cell_type": "code",
   "execution_count": 4,
   "metadata": {},
   "outputs": [
    {
     "name": "stdout",
     "output_type": "stream",
     "text": [
      "Загрузка завершена\n"
     ]
    }
   ],
   "source": [
    "import pandas as pd\n",
    "import numpy as np\n",
    "import matplotlib.pyplot as plt\n",
    "import seaborn as sns\n",
    "import datetime as dt\n",
    "import scipy.stats as stats\n",
    "\n",
    "#Настройки pandas\n",
    "pd.set_option('display.max_columns', 40) #Отображаем все колонки\n",
    "pd.set_option('display.max_colwidth', None) #Отображаем колонки полностью\n",
    "pd.set_option('display.float_format', lambda x: '%.2f' % x) # Отображаем большие числа без точки\n",
    "\n",
    "print(\"Загрузка завершена\")"
   ]
  },
  {
   "cell_type": "markdown",
   "metadata": {},
   "source": [
    "### Загрузка данных и первичный exploratory-анализ"
   ]
  },
  {
   "cell_type": "code",
   "execution_count": 5,
   "metadata": {},
   "outputs": [],
   "source": [
    "#Загружаем данные из имеющихся в доступе CSV-файлов:\n",
    "\n",
    "hypotheses = pd.read_csv('/datasets/hypothesis.csv')\n",
    "orders = pd.read_csv('/datasets/orders.csv')\n",
    "visitors = pd.read_csv('/datasets/visitors.csv')"
   ]
  },
  {
   "cell_type": "code",
   "execution_count": 6,
   "metadata": {
    "scrolled": true
   },
   "outputs": [
    {
     "name": "stdout",
     "output_type": "stream",
     "text": [
      "Размер датафрейма hypotheses составляет 9 строк и 5 столбцов\n"
     ]
    },
    {
     "data": {
      "text/html": [
       "<div>\n",
       "<style scoped>\n",
       "    .dataframe tbody tr th:only-of-type {\n",
       "        vertical-align: middle;\n",
       "    }\n",
       "\n",
       "    .dataframe tbody tr th {\n",
       "        vertical-align: top;\n",
       "    }\n",
       "\n",
       "    .dataframe thead th {\n",
       "        text-align: right;\n",
       "    }\n",
       "</style>\n",
       "<table border=\"1\" class=\"dataframe\">\n",
       "  <thead>\n",
       "    <tr style=\"text-align: right;\">\n",
       "      <th></th>\n",
       "      <th>Hypothesis</th>\n",
       "      <th>Reach</th>\n",
       "      <th>Impact</th>\n",
       "      <th>Confidence</th>\n",
       "      <th>Efforts</th>\n",
       "    </tr>\n",
       "  </thead>\n",
       "  <tbody>\n",
       "    <tr>\n",
       "      <th>0</th>\n",
       "      <td>Добавить два новых канала привлечения трафика, что позволит привлекать на 30% больше пользователей</td>\n",
       "      <td>3</td>\n",
       "      <td>10</td>\n",
       "      <td>8</td>\n",
       "      <td>6</td>\n",
       "    </tr>\n",
       "    <tr>\n",
       "      <th>1</th>\n",
       "      <td>Запустить собственную службу доставки, что сократит срок доставки заказов</td>\n",
       "      <td>2</td>\n",
       "      <td>5</td>\n",
       "      <td>4</td>\n",
       "      <td>10</td>\n",
       "    </tr>\n",
       "  </tbody>\n",
       "</table>\n",
       "</div>"
      ],
      "text/plain": [
       "                                                                                           Hypothesis  \\\n",
       "0  Добавить два новых канала привлечения трафика, что позволит привлекать на 30% больше пользователей   \n",
       "1                           Запустить собственную службу доставки, что сократит срок доставки заказов   \n",
       "\n",
       "   Reach  Impact  Confidence  Efforts  \n",
       "0      3      10           8        6  \n",
       "1      2       5           4       10  "
      ]
     },
     "metadata": {},
     "output_type": "display_data"
    },
    {
     "name": "stdout",
     "output_type": "stream",
     "text": [
      "\n",
      "Размер датафрейма orders составляет 1197 строк и 5 столбцов\n"
     ]
    },
    {
     "data": {
      "text/html": [
       "<div>\n",
       "<style scoped>\n",
       "    .dataframe tbody tr th:only-of-type {\n",
       "        vertical-align: middle;\n",
       "    }\n",
       "\n",
       "    .dataframe tbody tr th {\n",
       "        vertical-align: top;\n",
       "    }\n",
       "\n",
       "    .dataframe thead th {\n",
       "        text-align: right;\n",
       "    }\n",
       "</style>\n",
       "<table border=\"1\" class=\"dataframe\">\n",
       "  <thead>\n",
       "    <tr style=\"text-align: right;\">\n",
       "      <th></th>\n",
       "      <th>transactionId</th>\n",
       "      <th>visitorId</th>\n",
       "      <th>date</th>\n",
       "      <th>revenue</th>\n",
       "      <th>group</th>\n",
       "    </tr>\n",
       "  </thead>\n",
       "  <tbody>\n",
       "    <tr>\n",
       "      <th>0</th>\n",
       "      <td>3667963787</td>\n",
       "      <td>3312258926</td>\n",
       "      <td>2019-08-15</td>\n",
       "      <td>1650</td>\n",
       "      <td>B</td>\n",
       "    </tr>\n",
       "    <tr>\n",
       "      <th>1</th>\n",
       "      <td>2804400009</td>\n",
       "      <td>3642806036</td>\n",
       "      <td>2019-08-15</td>\n",
       "      <td>730</td>\n",
       "      <td>B</td>\n",
       "    </tr>\n",
       "  </tbody>\n",
       "</table>\n",
       "</div>"
      ],
      "text/plain": [
       "   transactionId   visitorId        date  revenue group\n",
       "0     3667963787  3312258926  2019-08-15     1650     B\n",
       "1     2804400009  3642806036  2019-08-15      730     B"
      ]
     },
     "metadata": {},
     "output_type": "display_data"
    },
    {
     "name": "stdout",
     "output_type": "stream",
     "text": [
      "\n",
      "Размер датафрейма visitors составляет 62 строк и 3 столбцов\n"
     ]
    },
    {
     "data": {
      "text/html": [
       "<div>\n",
       "<style scoped>\n",
       "    .dataframe tbody tr th:only-of-type {\n",
       "        vertical-align: middle;\n",
       "    }\n",
       "\n",
       "    .dataframe tbody tr th {\n",
       "        vertical-align: top;\n",
       "    }\n",
       "\n",
       "    .dataframe thead th {\n",
       "        text-align: right;\n",
       "    }\n",
       "</style>\n",
       "<table border=\"1\" class=\"dataframe\">\n",
       "  <thead>\n",
       "    <tr style=\"text-align: right;\">\n",
       "      <th></th>\n",
       "      <th>date</th>\n",
       "      <th>group</th>\n",
       "      <th>visitors</th>\n",
       "    </tr>\n",
       "  </thead>\n",
       "  <tbody>\n",
       "    <tr>\n",
       "      <th>0</th>\n",
       "      <td>2019-08-01</td>\n",
       "      <td>A</td>\n",
       "      <td>719</td>\n",
       "    </tr>\n",
       "    <tr>\n",
       "      <th>1</th>\n",
       "      <td>2019-08-02</td>\n",
       "      <td>A</td>\n",
       "      <td>619</td>\n",
       "    </tr>\n",
       "  </tbody>\n",
       "</table>\n",
       "</div>"
      ],
      "text/plain": [
       "         date group  visitors\n",
       "0  2019-08-01     A       719\n",
       "1  2019-08-02     A       619"
      ]
     },
     "metadata": {},
     "output_type": "display_data"
    },
    {
     "name": "stdout",
     "output_type": "stream",
     "text": [
      "\n"
     ]
    }
   ],
   "source": [
    "#Получаем общую информацию о датасетах:\n",
    "\n",
    "#Общие данные о датафреймах\n",
    "dfs = [hypotheses, orders, visitors]\n",
    "names = ['hypotheses', 'orders', 'visitors']\n",
    "for i, df in enumerate(dfs):\n",
    "    print(f'Размер датафрейма {names[i]} составляет {df.shape[0]} строк и {df.shape[1]} столбцов')\n",
    "    display(df.head(2))\n",
    "    print()"
   ]
  },
  {
   "cell_type": "markdown",
   "metadata": {},
   "source": [
    "<div class=\"alert alert-success\">\n",
    "<b>Комментарий ревьюера ✔️:</b> Молодец, что отображаешь названия гипотез полностью </div>"
   ]
  },
  {
   "cell_type": "markdown",
   "metadata": {},
   "source": [
    "Давайте посмотрим на **тип столбцов в датасетах:**"
   ]
  },
  {
   "cell_type": "code",
   "execution_count": 7,
   "metadata": {},
   "outputs": [
    {
     "name": "stdout",
     "output_type": "stream",
     "text": [
      "Анализируем данные из таблицы hypotheses\n",
      "<class 'pandas.core.frame.DataFrame'>\n",
      "RangeIndex: 9 entries, 0 to 8\n",
      "Data columns (total 5 columns):\n",
      " #   Column      Non-Null Count  Dtype \n",
      "---  ------      --------------  ----- \n",
      " 0   Hypothesis  9 non-null      object\n",
      " 1   Reach       9 non-null      int64 \n",
      " 2   Impact      9 non-null      int64 \n",
      " 3   Confidence  9 non-null      int64 \n",
      " 4   Efforts     9 non-null      int64 \n",
      "dtypes: int64(4), object(1)\n",
      "memory usage: 488.0+ bytes\n",
      "\n",
      "\n",
      "Анализируем данные из таблицы orders\n",
      "<class 'pandas.core.frame.DataFrame'>\n",
      "RangeIndex: 1197 entries, 0 to 1196\n",
      "Data columns (total 5 columns):\n",
      " #   Column         Non-Null Count  Dtype \n",
      "---  ------         --------------  ----- \n",
      " 0   transactionId  1197 non-null   int64 \n",
      " 1   visitorId      1197 non-null   int64 \n",
      " 2   date           1197 non-null   object\n",
      " 3   revenue        1197 non-null   int64 \n",
      " 4   group          1197 non-null   object\n",
      "dtypes: int64(3), object(2)\n",
      "memory usage: 46.9+ KB\n",
      "\n",
      "\n",
      "Анализируем данные из таблицы visitors\n",
      "<class 'pandas.core.frame.DataFrame'>\n",
      "RangeIndex: 62 entries, 0 to 61\n",
      "Data columns (total 3 columns):\n",
      " #   Column    Non-Null Count  Dtype \n",
      "---  ------    --------------  ----- \n",
      " 0   date      62 non-null     object\n",
      " 1   group     62 non-null     object\n",
      " 2   visitors  62 non-null     int64 \n",
      "dtypes: int64(1), object(2)\n",
      "memory usage: 1.6+ KB\n",
      "\n",
      "\n"
     ]
    }
   ],
   "source": [
    "for i, df in enumerate(dfs):\n",
    "    print(f'Анализируем данные из таблицы {names[i]}')\n",
    "    df.info()\n",
    "    print()\n",
    "    print()"
   ]
  },
  {
   "cell_type": "code",
   "execution_count": 8,
   "metadata": {},
   "outputs": [],
   "source": [
    "#Конвертируем столбцы с датой в тип datetime:\n",
    "\n",
    "orders['date'] = pd.to_datetime(orders['date'])\n",
    "visitors['date'] = pd.to_datetime(visitors['date'])"
   ]
  },
  {
   "cell_type": "code",
   "execution_count": 9,
   "metadata": {},
   "outputs": [],
   "source": [
    "#Приведём столбцы таблицы с гипотезами к нижнему регистру (для простоты работы|восприятия):\n",
    "\n",
    "hypotheses.rename(str.lower, axis='columns', inplace=True)"
   ]
  },
  {
   "cell_type": "code",
   "execution_count": 10,
   "metadata": {},
   "outputs": [],
   "source": [
    "#Добавим нижнее подчёркивание в столбцы таблицы orders, состоящие из двух слов (для простоты работы|восприятия в дальнейшем):\n",
    "\n",
    "lower_lining = {'transactionId': 'transaction_id',\n",
    "               'visitorId': 'visitor_id'}\n",
    "\n",
    "orders.rename(lower_lining, axis='columns', inplace=True)"
   ]
  },
  {
   "cell_type": "markdown",
   "metadata": {},
   "source": [
    "<div class=\"alert alert-success\">\n",
    "<b>Комментарий ревьюера ✔️:</b> Хорошие преобразования </div>"
   ]
  },
  {
   "cell_type": "markdown",
   "metadata": {},
   "source": [
    "Проблемы со столбцами решены. Давайте посмотрим, **есть ли в таблицах дубликаты?**"
   ]
  },
  {
   "cell_type": "code",
   "execution_count": 11,
   "metadata": {},
   "outputs": [
    {
     "name": "stdout",
     "output_type": "stream",
     "text": [
      "Число дубликатов в датафрейме hypotheses = 0\n",
      "Число дубликатов в датафрейме orders = 0\n",
      "Число дубликатов в датафрейме visitors = 0\n"
     ]
    }
   ],
   "source": [
    "hypotheses_dubs = hypotheses.duplicated().sum()\n",
    "orders_dubs = orders.duplicated().sum()\n",
    "visitors_dubs = visitors.duplicated().sum()\n",
    "\n",
    "print(f'Число дубликатов в датафрейме hypotheses = {hypotheses_dubs}')\n",
    "print(f'Число дубликатов в датафрейме orders = {orders_dubs}')\n",
    "print(f'Число дубликатов в датафрейме visitors = {visitors_dubs}')"
   ]
  },
  {
   "cell_type": "markdown",
   "metadata": {},
   "source": [
    "Дубликатов в данных нет - хорошие новости. А как обстоят дела с **пропусками?**"
   ]
  },
  {
   "cell_type": "code",
   "execution_count": 12,
   "metadata": {},
   "outputs": [
    {
     "name": "stdout",
     "output_type": "stream",
     "text": [
      "Посмотрим на датафрейм hypotheses\n"
     ]
    },
    {
     "data": {
      "text/plain": [
       "hypothesis    0\n",
       "reach         0\n",
       "impact        0\n",
       "confidence    0\n",
       "efforts       0\n",
       "dtype: int64"
      ]
     },
     "metadata": {},
     "output_type": "display_data"
    },
    {
     "name": "stdout",
     "output_type": "stream",
     "text": [
      "Посмотрим на датафрейм orders\n"
     ]
    },
    {
     "data": {
      "text/plain": [
       "transaction_id    0\n",
       "visitor_id        0\n",
       "date              0\n",
       "revenue           0\n",
       "group             0\n",
       "dtype: int64"
      ]
     },
     "metadata": {},
     "output_type": "display_data"
    },
    {
     "name": "stdout",
     "output_type": "stream",
     "text": [
      "Посмотрим на датафрейм visitors\n"
     ]
    },
    {
     "data": {
      "text/plain": [
       "date        0\n",
       "group       0\n",
       "visitors    0\n",
       "dtype: int64"
      ]
     },
     "metadata": {},
     "output_type": "display_data"
    }
   ],
   "source": [
    "print('Посмотрим на датафрейм hypotheses')\n",
    "display(hypotheses.isna().sum())\n",
    "print('Посмотрим на датафрейм orders')\n",
    "display(orders.isna().sum())\n",
    "print('Посмотрим на датафрейм visitors')\n",
    "display(visitors.isna().sum())"
   ]
  },
  {
   "cell_type": "markdown",
   "metadata": {},
   "source": [
    "По результатам **первичного этапа:**\n",
    "\n",
    "- Были **загружены необходимые для анализа библиотеки** и применены необходимые настройки.\n",
    "- Данные были выгружены из **предложенных таблиц** (`hypotheses`, `orders`, `visitors`). \n",
    "- Данные были сохранены в **таблицы (переменные)** `hypotheses`, `orders` и `visitors` соответственно.\n",
    "- На **этапе предобработки** были произведены следующие операции:\n",
    "    - Столбцы в таблицах были приведены к **нижнему регистру, пробелы были заменены на подчёркивания** (`transactionId => transaction_id`, `visitorId` => `visitor_id`)\n",
    "    - Был **исправлен тип данных в столбцах, которые обозначают время** (`date`)\n",
    "    - Дубликатов и пропусков в таблицах не обнаружено.\n",
    "\n",
    "\n",
    "На этом **обработка данных завершена - можно приступать к анализу.**"
   ]
  },
  {
   "cell_type": "markdown",
   "metadata": {},
   "source": [
    "<div class=\"alert alert-success\">\n",
    "<b>Комментарий ревьюера ✔️:</b> Вся необходимая предобработка данных проведена </div>"
   ]
  },
  {
   "cell_type": "markdown",
   "metadata": {},
   "source": [
    "## Этап №1. Приоритизация гипотез"
   ]
  },
  {
   "cell_type": "markdown",
   "metadata": {},
   "source": [
    "### Примените фреймворк ICE для приоритизации гипотез. Отсортируйте их по убыванию приоритета."
   ]
  },
  {
   "cell_type": "code",
   "execution_count": 13,
   "metadata": {},
   "outputs": [
    {
     "data": {
      "text/html": [
       "<div>\n",
       "<style scoped>\n",
       "    .dataframe tbody tr th:only-of-type {\n",
       "        vertical-align: middle;\n",
       "    }\n",
       "\n",
       "    .dataframe tbody tr th {\n",
       "        vertical-align: top;\n",
       "    }\n",
       "\n",
       "    .dataframe thead th {\n",
       "        text-align: right;\n",
       "    }\n",
       "</style>\n",
       "<table border=\"1\" class=\"dataframe\">\n",
       "  <thead>\n",
       "    <tr style=\"text-align: right;\">\n",
       "      <th></th>\n",
       "      <th>hypothesis</th>\n",
       "      <th>reach</th>\n",
       "      <th>impact</th>\n",
       "      <th>confidence</th>\n",
       "      <th>efforts</th>\n",
       "      <th>ice_rank</th>\n",
       "    </tr>\n",
       "  </thead>\n",
       "  <tbody>\n",
       "    <tr>\n",
       "      <th>8</th>\n",
       "      <td>Запустить акцию, дающую скидку на товар в день рождения</td>\n",
       "      <td>1</td>\n",
       "      <td>9</td>\n",
       "      <td>9</td>\n",
       "      <td>5</td>\n",
       "      <td>16.20</td>\n",
       "    </tr>\n",
       "    <tr>\n",
       "      <th>0</th>\n",
       "      <td>Добавить два новых канала привлечения трафика, что позволит привлекать на 30% больше пользователей</td>\n",
       "      <td>3</td>\n",
       "      <td>10</td>\n",
       "      <td>8</td>\n",
       "      <td>6</td>\n",
       "      <td>13.33</td>\n",
       "    </tr>\n",
       "    <tr>\n",
       "      <th>7</th>\n",
       "      <td>Добавить форму подписки на все основные страницы, чтобы собрать базу клиентов для email-рассылок</td>\n",
       "      <td>10</td>\n",
       "      <td>7</td>\n",
       "      <td>8</td>\n",
       "      <td>5</td>\n",
       "      <td>11.20</td>\n",
       "    </tr>\n",
       "    <tr>\n",
       "      <th>6</th>\n",
       "      <td>Показать на главной странице баннеры с актуальными акциями и распродажами, чтобы увеличить конверсию</td>\n",
       "      <td>5</td>\n",
       "      <td>3</td>\n",
       "      <td>8</td>\n",
       "      <td>3</td>\n",
       "      <td>8.00</td>\n",
       "    </tr>\n",
       "    <tr>\n",
       "      <th>2</th>\n",
       "      <td>Добавить блоки рекомендаций товаров на сайт интернет магазина, чтобы повысить конверсию и средний чек заказа</td>\n",
       "      <td>8</td>\n",
       "      <td>3</td>\n",
       "      <td>7</td>\n",
       "      <td>3</td>\n",
       "      <td>7.00</td>\n",
       "    </tr>\n",
       "    <tr>\n",
       "      <th>1</th>\n",
       "      <td>Запустить собственную службу доставки, что сократит срок доставки заказов</td>\n",
       "      <td>2</td>\n",
       "      <td>5</td>\n",
       "      <td>4</td>\n",
       "      <td>10</td>\n",
       "      <td>2.00</td>\n",
       "    </tr>\n",
       "    <tr>\n",
       "      <th>5</th>\n",
       "      <td>Добавить страницу отзывов клиентов о магазине, что позволит увеличить количество заказов</td>\n",
       "      <td>3</td>\n",
       "      <td>2</td>\n",
       "      <td>2</td>\n",
       "      <td>3</td>\n",
       "      <td>1.33</td>\n",
       "    </tr>\n",
       "    <tr>\n",
       "      <th>3</th>\n",
       "      <td>Изменить структура категорий, что увеличит конверсию, т.к. пользователи быстрее найдут нужный товар</td>\n",
       "      <td>8</td>\n",
       "      <td>3</td>\n",
       "      <td>3</td>\n",
       "      <td>8</td>\n",
       "      <td>1.12</td>\n",
       "    </tr>\n",
       "    <tr>\n",
       "      <th>4</th>\n",
       "      <td>Изменить цвет фона главной страницы, чтобы увеличить вовлеченность пользователей</td>\n",
       "      <td>3</td>\n",
       "      <td>1</td>\n",
       "      <td>1</td>\n",
       "      <td>1</td>\n",
       "      <td>1.00</td>\n",
       "    </tr>\n",
       "  </tbody>\n",
       "</table>\n",
       "</div>"
      ],
      "text/plain": [
       "                                                                                                     hypothesis  \\\n",
       "8                                                       Запустить акцию, дающую скидку на товар в день рождения   \n",
       "0            Добавить два новых канала привлечения трафика, что позволит привлекать на 30% больше пользователей   \n",
       "7              Добавить форму подписки на все основные страницы, чтобы собрать базу клиентов для email-рассылок   \n",
       "6          Показать на главной странице баннеры с актуальными акциями и распродажами, чтобы увеличить конверсию   \n",
       "2  Добавить блоки рекомендаций товаров на сайт интернет магазина, чтобы повысить конверсию и средний чек заказа   \n",
       "1                                     Запустить собственную службу доставки, что сократит срок доставки заказов   \n",
       "5                      Добавить страницу отзывов клиентов о магазине, что позволит увеличить количество заказов   \n",
       "3           Изменить структура категорий, что увеличит конверсию, т.к. пользователи быстрее найдут нужный товар   \n",
       "4                              Изменить цвет фона главной страницы, чтобы увеличить вовлеченность пользователей   \n",
       "\n",
       "   reach  impact  confidence  efforts  ice_rank  \n",
       "8      1       9           9        5     16.20  \n",
       "0      3      10           8        6     13.33  \n",
       "7     10       7           8        5     11.20  \n",
       "6      5       3           8        3      8.00  \n",
       "2      8       3           7        3      7.00  \n",
       "1      2       5           4       10      2.00  \n",
       "5      3       2           2        3      1.33  \n",
       "3      8       3           3        8      1.12  \n",
       "4      3       1           1        1      1.00  "
      ]
     },
     "execution_count": 13,
     "metadata": {},
     "output_type": "execute_result"
    }
   ],
   "source": [
    "#Рассчитаем для каждой гипотезы показатель \"ICE\" на основании формулы. Т.к. под \"Е\" подразумевается \"EFFORTS\" (усилия), \n",
    "#то на него мы делим\n",
    "\n",
    "hypotheses['ice_rank'] = (hypotheses['impact'] * hypotheses['confidence']) / hypotheses['efforts']\n",
    "\n",
    "#Выведем список гипотез по убыванию приоритета:\n",
    "hypotheses = hypotheses.sort_values(by='ice_rank', ascending=False)\n",
    "hypotheses"
   ]
  },
  {
   "cell_type": "markdown",
   "metadata": {},
   "source": [
    "<div class=\"alert alert-success\">\n",
    "<b>Комментарий ревьюера ✔️:</b> Отлично </div>"
   ]
  },
  {
   "cell_type": "markdown",
   "metadata": {},
   "source": [
    "### Примените фреймворк RICE для приоритизации гипотез. Отсортируйте их по убыванию приоритета."
   ]
  },
  {
   "cell_type": "code",
   "execution_count": 14,
   "metadata": {},
   "outputs": [
    {
     "data": {
      "text/html": [
       "<div>\n",
       "<style scoped>\n",
       "    .dataframe tbody tr th:only-of-type {\n",
       "        vertical-align: middle;\n",
       "    }\n",
       "\n",
       "    .dataframe tbody tr th {\n",
       "        vertical-align: top;\n",
       "    }\n",
       "\n",
       "    .dataframe thead th {\n",
       "        text-align: right;\n",
       "    }\n",
       "</style>\n",
       "<table border=\"1\" class=\"dataframe\">\n",
       "  <thead>\n",
       "    <tr style=\"text-align: right;\">\n",
       "      <th></th>\n",
       "      <th>hypothesis</th>\n",
       "      <th>reach</th>\n",
       "      <th>impact</th>\n",
       "      <th>confidence</th>\n",
       "      <th>efforts</th>\n",
       "      <th>ice_rank</th>\n",
       "      <th>rice_rank</th>\n",
       "    </tr>\n",
       "  </thead>\n",
       "  <tbody>\n",
       "    <tr>\n",
       "      <th>7</th>\n",
       "      <td>Добавить форму подписки на все основные страницы, чтобы собрать базу клиентов для email-рассылок</td>\n",
       "      <td>10</td>\n",
       "      <td>7</td>\n",
       "      <td>8</td>\n",
       "      <td>5</td>\n",
       "      <td>11.20</td>\n",
       "      <td>112.00</td>\n",
       "    </tr>\n",
       "    <tr>\n",
       "      <th>2</th>\n",
       "      <td>Добавить блоки рекомендаций товаров на сайт интернет магазина, чтобы повысить конверсию и средний чек заказа</td>\n",
       "      <td>8</td>\n",
       "      <td>3</td>\n",
       "      <td>7</td>\n",
       "      <td>3</td>\n",
       "      <td>7.00</td>\n",
       "      <td>56.00</td>\n",
       "    </tr>\n",
       "    <tr>\n",
       "      <th>0</th>\n",
       "      <td>Добавить два новых канала привлечения трафика, что позволит привлекать на 30% больше пользователей</td>\n",
       "      <td>3</td>\n",
       "      <td>10</td>\n",
       "      <td>8</td>\n",
       "      <td>6</td>\n",
       "      <td>13.33</td>\n",
       "      <td>40.00</td>\n",
       "    </tr>\n",
       "    <tr>\n",
       "      <th>6</th>\n",
       "      <td>Показать на главной странице баннеры с актуальными акциями и распродажами, чтобы увеличить конверсию</td>\n",
       "      <td>5</td>\n",
       "      <td>3</td>\n",
       "      <td>8</td>\n",
       "      <td>3</td>\n",
       "      <td>8.00</td>\n",
       "      <td>40.00</td>\n",
       "    </tr>\n",
       "    <tr>\n",
       "      <th>8</th>\n",
       "      <td>Запустить акцию, дающую скидку на товар в день рождения</td>\n",
       "      <td>1</td>\n",
       "      <td>9</td>\n",
       "      <td>9</td>\n",
       "      <td>5</td>\n",
       "      <td>16.20</td>\n",
       "      <td>16.20</td>\n",
       "    </tr>\n",
       "    <tr>\n",
       "      <th>3</th>\n",
       "      <td>Изменить структура категорий, что увеличит конверсию, т.к. пользователи быстрее найдут нужный товар</td>\n",
       "      <td>8</td>\n",
       "      <td>3</td>\n",
       "      <td>3</td>\n",
       "      <td>8</td>\n",
       "      <td>1.12</td>\n",
       "      <td>9.00</td>\n",
       "    </tr>\n",
       "    <tr>\n",
       "      <th>1</th>\n",
       "      <td>Запустить собственную службу доставки, что сократит срок доставки заказов</td>\n",
       "      <td>2</td>\n",
       "      <td>5</td>\n",
       "      <td>4</td>\n",
       "      <td>10</td>\n",
       "      <td>2.00</td>\n",
       "      <td>4.00</td>\n",
       "    </tr>\n",
       "    <tr>\n",
       "      <th>5</th>\n",
       "      <td>Добавить страницу отзывов клиентов о магазине, что позволит увеличить количество заказов</td>\n",
       "      <td>3</td>\n",
       "      <td>2</td>\n",
       "      <td>2</td>\n",
       "      <td>3</td>\n",
       "      <td>1.33</td>\n",
       "      <td>4.00</td>\n",
       "    </tr>\n",
       "    <tr>\n",
       "      <th>4</th>\n",
       "      <td>Изменить цвет фона главной страницы, чтобы увеличить вовлеченность пользователей</td>\n",
       "      <td>3</td>\n",
       "      <td>1</td>\n",
       "      <td>1</td>\n",
       "      <td>1</td>\n",
       "      <td>1.00</td>\n",
       "      <td>3.00</td>\n",
       "    </tr>\n",
       "  </tbody>\n",
       "</table>\n",
       "</div>"
      ],
      "text/plain": [
       "                                                                                                     hypothesis  \\\n",
       "7              Добавить форму подписки на все основные страницы, чтобы собрать базу клиентов для email-рассылок   \n",
       "2  Добавить блоки рекомендаций товаров на сайт интернет магазина, чтобы повысить конверсию и средний чек заказа   \n",
       "0            Добавить два новых канала привлечения трафика, что позволит привлекать на 30% больше пользователей   \n",
       "6          Показать на главной странице баннеры с актуальными акциями и распродажами, чтобы увеличить конверсию   \n",
       "8                                                       Запустить акцию, дающую скидку на товар в день рождения   \n",
       "3           Изменить структура категорий, что увеличит конверсию, т.к. пользователи быстрее найдут нужный товар   \n",
       "1                                     Запустить собственную службу доставки, что сократит срок доставки заказов   \n",
       "5                      Добавить страницу отзывов клиентов о магазине, что позволит увеличить количество заказов   \n",
       "4                              Изменить цвет фона главной страницы, чтобы увеличить вовлеченность пользователей   \n",
       "\n",
       "   reach  impact  confidence  efforts  ice_rank  rice_rank  \n",
       "7     10       7           8        5     11.20     112.00  \n",
       "2      8       3           7        3      7.00      56.00  \n",
       "0      3      10           8        6     13.33      40.00  \n",
       "6      5       3           8        3      8.00      40.00  \n",
       "8      1       9           9        5     16.20      16.20  \n",
       "3      8       3           3        8      1.12       9.00  \n",
       "1      2       5           4       10      2.00       4.00  \n",
       "5      3       2           2        3      1.33       4.00  \n",
       "4      3       1           1        1      1.00       3.00  "
      ]
     },
     "execution_count": 14,
     "metadata": {},
     "output_type": "execute_result"
    }
   ],
   "source": [
    "#Рассчитаем для каждой гипотезы показатель \"RICE\" на основании формулы. Т.к. под \"Е\" подразумевается \"EFFORTS\" (усилия), \n",
    "#то на него мы делим\n",
    "\n",
    "hypotheses['rice_rank'] = (hypotheses['reach'] * hypotheses['impact'] * hypotheses['confidence']) / hypotheses['efforts']\n",
    "\n",
    "#Выведем список гипотез по убыванию приоритета:\n",
    "hypotheses = hypotheses.sort_values(by='rice_rank', ascending=False)\n",
    "hypotheses"
   ]
  },
  {
   "cell_type": "markdown",
   "metadata": {},
   "source": [
    "### Укажите, как изменилась приоритизация гипотез при применении RICE вместо ICE. Объясните, почему так произошло"
   ]
  },
  {
   "cell_type": "markdown",
   "metadata": {},
   "source": [
    "**Вывод по блоку:**\n",
    "\n",
    "- Применение альтернативной методики ***(RICE вместо ICE)*** оказало влияние на структуру гипотез и их приоритет при тестировании. \n",
    "- Причина - добавление новой переменной в формулу (`Reach`), которая обозначает **\"охват\" гипотезы** - сколько пользователей затронет её имплементация в финальную версию продукта.\n",
    "- **Изменения затронули струткруу гипотез**, в первую очередь для гипотез, которые имеют большой показатель `ICE` - изменив их порядок, вывев на первые места гипотезы, которые затронут большее число людей:\n",
    "    - Гипотеза №7 **(\"Добавить форму подписки на все основные страницы, чтобы собрать базу клиентов для e-mail рассылок\")** вышла на первое место (по рейтингу `ICE` была на третьем)\n",
    "    - Гипотеза №2 **(\"Добавить блоки рекомендаций товаров на сайт интернет-магазина, чтобы повысить конверсию и средний чек заказа\")** вышла с 5 места на второе.\n",
    "    - Гипотеза №0 **(\"Добавить два новых канала привлечения трафика, что позволит привлекать на 30% больше пользователей\")** напротив, перешла со второго места на третье.\n",
    "    - Гипотеза №8 **(\"Запустить акцию, дающую скидку на товар в день рождения\")** упала с первого места на пятое."
   ]
  },
  {
   "cell_type": "markdown",
   "metadata": {},
   "source": [
    "<div class=\"alert alert-warning\">\n",
    "<b>Комментарий ревьюера ⚠️:</b>  Все отлично рассчитано и описано, но лучше например вместо гипотезы 7 - вывести ее название. Поскольку 7 - это не номер гипотезы - это ее индекс. У \"коллег\", все может быть иначе, например список в Ноушен с другой сортировкой, поэтому аналитик должен дать универсальный вывод.\n"
   ]
  },
  {
   "cell_type": "markdown",
   "metadata": {},
   "source": [
    "<div class=\"alert alert-info\"> <b>Комментарий студента:</b> Согласен, написал названия гипотез полностью в выводе </div>"
   ]
  },
  {
   "cell_type": "markdown",
   "metadata": {},
   "source": [
    "<div class=\"alert alert-success\">\n",
    "<b>Комментарий ревьюера v 2.0 ✔️:</b> Отлично!"
   ]
  },
  {
   "cell_type": "markdown",
   "metadata": {},
   "source": [
    "## Этап №2. Анализ А/В теста"
   ]
  },
  {
   "cell_type": "markdown",
   "metadata": {},
   "source": [
    "### Расчёт объёма выборки"
   ]
  },
  {
   "cell_type": "markdown",
   "metadata": {},
   "source": [
    "Для начала давайте рассчитаем, подходит ли имеющийся объём наших выборок (групп) для достижения статистической достоверности информации:"
   ]
  },
  {
   "cell_type": "code",
   "execution_count": 15,
   "metadata": {},
   "outputs": [
    {
     "name": "stdout",
     "output_type": "stream",
     "text": [
      "Всего 58 пользователей попало в обе группы в ходе исследования\n"
     ]
    }
   ],
   "source": [
    "#Для начала проверим, являются ли группы уникальными для пользователей (нет ли пользователей, попавших в 2 группы сразу):\n",
    "visitors_grouped = orders.groupby('visitor_id', as_index=False).agg({'group':'nunique'})\n",
    "visitors_grouped.columns=['visitor_id', 'groups_total']\n",
    "users_in_both_groups = visitors_grouped.query('groups_total > 1')\n",
    "\n",
    "print(f'Всего {users_in_both_groups.shape[0]} пользователей попало в обе группы в ходе исследования')"
   ]
  },
  {
   "cell_type": "markdown",
   "metadata": {},
   "source": [
    "<div class=\"alert alert-success\">\n",
    "<b>Комментарий ревьюера ✔️:</b> Полезная проверка на пересечения </div>"
   ]
  },
  {
   "cell_type": "markdown",
   "metadata": {},
   "source": [
    "А **сколько всего пользователей** попало в обе группы для тестирования?"
   ]
  },
  {
   "cell_type": "code",
   "execution_count": 16,
   "metadata": {},
   "outputs": [
    {
     "name": "stdout",
     "output_type": "stream",
     "text": [
      "В группе А находится 503 пользователей\n",
      "В группе B находится 586 пользователей\n"
     ]
    }
   ],
   "source": [
    "users_group_A = orders.query('group == \"A\"')['visitor_id'].nunique()\n",
    "users_group_B = orders.query('group == \"B\"')['visitor_id'].nunique()\n",
    "\n",
    "print(f'В группе А находится {users_group_A} пользователей')\n",
    "print(f'В группе B находится {users_group_B} пользователей')"
   ]
  },
  {
   "cell_type": "markdown",
   "metadata": {},
   "source": [
    "Предположим, что исходя из имеющихся у нас предполагаемых знаний о конверсии и продолжительности теста - что мы попали в необходимые показатели и АВ тест в целом валиден (без этого предположения не сможем продолжать работу над проектом :))\n",
    "\n",
    "В таком случае, число не слишком большое - **давайте удалим из наших данных эти 58 пользователей** - чтобы они не искажали итоговые показатели."
   ]
  },
  {
   "cell_type": "code",
   "execution_count": 17,
   "metadata": {},
   "outputs": [],
   "source": [
    "orders = orders[np.logical_not(orders['visitor_id'].isin (users_in_both_groups['visitor_id']))]"
   ]
  },
  {
   "cell_type": "markdown",
   "metadata": {},
   "source": [
    "<div class=\"alert alert-success\">\n",
    "<b>Комментарий ревьюера ✔️:</b> Согласен, удаляем </div>"
   ]
  },
  {
   "cell_type": "markdown",
   "metadata": {},
   "source": [
    "### Учёт выбросов"
   ]
  },
  {
   "cell_type": "markdown",
   "metadata": {},
   "source": [
    "Для обеспечения значимости результатов А/В теста **необходимо учесть выбросы, имеющиеся в данных.** Учитывая тестируемые метрики, выбросы могут быть двух основных типов:\n",
    "- Очень дорогие заказы (на крайне большую сумму)\n",
    "- Пользователи с очень большим числом заказов."
   ]
  },
  {
   "cell_type": "markdown",
   "metadata": {},
   "source": [
    "Давайте **визуально посмотрим на распределения** этих показателей. Начнём c дохода c заказа:"
   ]
  },
  {
   "cell_type": "code",
   "execution_count": 18,
   "metadata": {},
   "outputs": [
    {
     "data": {
      "image/png": "[encoded data removed]",
      "text/plain": [
       "<Figure size 1080x576 with 1 Axes>"
      ]
     },
     "metadata": {
      "needs_background": "light"
     },
     "output_type": "display_data"
    }
   ],
   "source": [
    "#Для оси \"Х\" графика построим отдельную Series\n",
    "x_values = pd.Series(range(0,len(orders['revenue'])))\n",
    "\n",
    "# Построим график\n",
    "plt.figure(figsize=(15, 8))\n",
    "plt.xlabel(\"Номер заказа\")\n",
    "plt.ticklabel_format(style='plain', axis='y')\n",
    "plt.ylabel(\"Доход с заказа\")\n",
    "sns.scatterplot(x=x_values, y=orders['revenue'], alpha=0.5);"
   ]
  },
  {
   "cell_type": "code",
   "execution_count": 19,
   "metadata": {},
   "outputs": [
    {
     "data": {
      "image/png": "[encoded data removed]",
      "text/plain": [
       "<Figure size 1080x576 with 1 Axes>"
      ]
     },
     "metadata": {
      "needs_background": "light"
     },
     "output_type": "display_data"
    }
   ],
   "source": [
    "#Давайте немного \"увеличим\" график - посмотрим на показатели за рамками 2 очевидных выбросов\n",
    "# Построим график\n",
    "plt.figure(figsize=(15, 8))\n",
    "plt.xlabel(\"Номер заказа\")\n",
    "plt.ticklabel_format(style='plain', axis='y')\n",
    "plt.ylabel(\"Доход с заказа\")\n",
    "plt.ylim(0, 100000)\n",
    "sns.scatterplot(x=x_values, y=orders['revenue'], alpha=0.5);"
   ]
  },
  {
   "cell_type": "markdown",
   "metadata": {},
   "source": [
    "<div class=\"alert alert-success\">\n",
    "<b>Комментарий ревьюера ✔️:</b> Молодец, что дополнительно приблизил график </div>"
   ]
  },
  {
   "cell_type": "code",
   "execution_count": 20,
   "metadata": {},
   "outputs": [
    {
     "name": "stdout",
     "output_type": "stream",
     "text": [
      "[17990. 26785. 53904.]\n"
     ]
    }
   ],
   "source": [
    "# Давайте посмотрим на числовые показатели - рассчитаем 90, 95 и 99 перцентили для показателя.\n",
    "print(np.percentile(orders['revenue'], [90, 95, 99])) "
   ]
  },
  {
   "cell_type": "markdown",
   "metadata": {},
   "source": [
    "<div class=\"alert alert-success\">\n",
    "<b>Комментарий ревьюера ✔️:</b> Перцентили тут полезны для анализа </div>"
   ]
  },
  {
   "cell_type": "markdown",
   "metadata": {},
   "source": [
    "Определённые выводы можно сделать (заметны 2 заказа, доход от которых значительно превышает средние показатели). \n",
    "\n",
    "**Теперь давайте посмотрим на число заказов на пользователя:**"
   ]
  },
  {
   "cell_type": "code",
   "execution_count": 21,
   "metadata": {},
   "outputs": [],
   "source": [
    "#Построим таблицу с расчётом числа заказов на каждого пользователя:\n",
    "\n",
    "orders_per_user = (\n",
    "    orders.groupby('visitor_id', as_index=False)\n",
    "    .agg({'transaction_id': 'nunique'})\n",
    ")\n",
    "\n",
    "orders_per_user.columns = ['visitor_id', 'transactions']"
   ]
  },
  {
   "cell_type": "code",
   "execution_count": 22,
   "metadata": {},
   "outputs": [
    {
     "data": {
      "image/png": "[encoded data removed]",
      "text/plain": [
       "<Figure size 1080x576 with 1 Axes>"
      ]
     },
     "metadata": {
      "needs_background": "light"
     },
     "output_type": "display_data"
    }
   ],
   "source": [
    "#Построим Series для оси \"Х\"\n",
    "x_values = pd.Series(range(0,len(orders_per_user['visitor_id'])))\n",
    "\n",
    "#Построим график\n",
    "plt.figure(figsize=(15, 8))\n",
    "plt.xlabel(\"Номер пользователя\")\n",
    "plt.ticklabel_format(style='plain', axis='y')\n",
    "plt.ylabel(\"Число заказов у пользователя\")\n",
    "sns.scatterplot(x=x_values, y=orders_per_user['transactions'], alpha=0.5);"
   ]
  },
  {
   "cell_type": "markdown",
   "metadata": {},
   "source": [
    "Мы видим, что подавляющее большинство пользователей совершило 1 заказ, ещё определённое число - от 2 до 4 заказов. При этом **заметны и определённые выбросы - пользователи с гораздо большим числом заказов.**"
   ]
  },
  {
   "cell_type": "markdown",
   "metadata": {},
   "source": [
    "<div class=\"alert alert-success\">\n",
    "<b>Комментарий ревьюера ✔️:</b> Согласен </div>"
   ]
  },
  {
   "cell_type": "code",
   "execution_count": 23,
   "metadata": {},
   "outputs": [
    {
     "name": "stdout",
     "output_type": "stream",
     "text": [
      "[1. 1. 2.]\n"
     ]
    }
   ],
   "source": [
    "# Давайте посмотрим на числовые показатели - рассчитаем 90, 95 и 99 перцентили для показателя.\n",
    "print(np.percentile(orders_per_user['transactions'], [90, 95, 99])) "
   ]
  },
  {
   "cell_type": "markdown",
   "metadata": {},
   "source": [
    "**Давайте уберём 1% наиболее \"выпадающих пользователей\" - как по количеству заказов, так и по сумме заказов.**\n",
    "\n",
    "При этом давайте запишем их ID - это не попадает в рамки текущего проекта, но может быть полезно для отдела продаж или маркетинга в дальнейшем (что это за пользователи, что привело к их \"аномальности\" - да и может пользователю с такими большими покупками может быть интересен более персональный подход)."
   ]
  },
  {
   "cell_type": "markdown",
   "metadata": {},
   "source": [
    "<div class=\"alert alert-success\">\n",
    "<b>Комментарий ревьюера ✔️:</b> Да, 1% вполне допустимая граница для фильтра </div>"
   ]
  },
  {
   "cell_type": "code",
   "execution_count": 24,
   "metadata": {},
   "outputs": [
    {
     "data": {
      "text/html": [
       "<div>\n",
       "<style scoped>\n",
       "    .dataframe tbody tr th:only-of-type {\n",
       "        vertical-align: middle;\n",
       "    }\n",
       "\n",
       "    .dataframe tbody tr th {\n",
       "        vertical-align: top;\n",
       "    }\n",
       "\n",
       "    .dataframe thead th {\n",
       "        text-align: right;\n",
       "    }\n",
       "</style>\n",
       "<table border=\"1\" class=\"dataframe\">\n",
       "  <thead>\n",
       "    <tr style=\"text-align: right;\">\n",
       "      <th></th>\n",
       "      <th>transaction_id</th>\n",
       "      <th>visitor_id</th>\n",
       "      <th>date</th>\n",
       "      <th>revenue</th>\n",
       "      <th>group</th>\n",
       "      <th>transactions</th>\n",
       "    </tr>\n",
       "  </thead>\n",
       "  <tbody>\n",
       "    <tr>\n",
       "      <th>425</th>\n",
       "      <td>590470918.00</td>\n",
       "      <td>1920142716</td>\n",
       "      <td>2019-08-19</td>\n",
       "      <td>1294500.00</td>\n",
       "      <td>B</td>\n",
       "      <td>NaN</td>\n",
       "    </tr>\n",
       "    <tr>\n",
       "      <th>743</th>\n",
       "      <td>3603576309.00</td>\n",
       "      <td>4133034833</td>\n",
       "      <td>2019-08-09</td>\n",
       "      <td>67990.00</td>\n",
       "      <td>A</td>\n",
       "      <td>NaN</td>\n",
       "    </tr>\n",
       "    <tr>\n",
       "      <th>744</th>\n",
       "      <td>3668308183.00</td>\n",
       "      <td>888512513</td>\n",
       "      <td>2019-08-27</td>\n",
       "      <td>86620.00</td>\n",
       "      <td>B</td>\n",
       "      <td>NaN</td>\n",
       "    </tr>\n",
       "    <tr>\n",
       "      <th>940</th>\n",
       "      <td>2420050534.00</td>\n",
       "      <td>4003628586</td>\n",
       "      <td>2019-08-08</td>\n",
       "      <td>58550.00</td>\n",
       "      <td>B</td>\n",
       "      <td>NaN</td>\n",
       "    </tr>\n",
       "    <tr>\n",
       "      <th>949</th>\n",
       "      <td>1347999392.00</td>\n",
       "      <td>887908475</td>\n",
       "      <td>2019-08-21</td>\n",
       "      <td>60450.00</td>\n",
       "      <td>A</td>\n",
       "      <td>NaN</td>\n",
       "    </tr>\n",
       "    <tr>\n",
       "      <th>1099</th>\n",
       "      <td>316924019.00</td>\n",
       "      <td>148427295</td>\n",
       "      <td>2019-08-12</td>\n",
       "      <td>65710.00</td>\n",
       "      <td>A</td>\n",
       "      <td>NaN</td>\n",
       "    </tr>\n",
       "    <tr>\n",
       "      <th>1103</th>\n",
       "      <td>1348774318.00</td>\n",
       "      <td>1164614297</td>\n",
       "      <td>2019-08-12</td>\n",
       "      <td>66350.00</td>\n",
       "      <td>A</td>\n",
       "      <td>NaN</td>\n",
       "    </tr>\n",
       "    <tr>\n",
       "      <th>1136</th>\n",
       "      <td>666610489.00</td>\n",
       "      <td>1307669133</td>\n",
       "      <td>2019-08-13</td>\n",
       "      <td>92550.00</td>\n",
       "      <td>A</td>\n",
       "      <td>NaN</td>\n",
       "    </tr>\n",
       "    <tr>\n",
       "      <th>1196</th>\n",
       "      <td>3936777065.00</td>\n",
       "      <td>2108080724</td>\n",
       "      <td>2019-08-15</td>\n",
       "      <td>202740.00</td>\n",
       "      <td>B</td>\n",
       "      <td>NaN</td>\n",
       "    </tr>\n",
       "    <tr>\n",
       "      <th>55</th>\n",
       "      <td>NaN</td>\n",
       "      <td>249864742</td>\n",
       "      <td>NaT</td>\n",
       "      <td>NaN</td>\n",
       "      <td>NaN</td>\n",
       "      <td>3.00</td>\n",
       "    </tr>\n",
       "    <tr>\n",
       "      <th>138</th>\n",
       "      <td>NaN</td>\n",
       "      <td>611059232</td>\n",
       "      <td>NaT</td>\n",
       "      <td>NaN</td>\n",
       "      <td>NaN</td>\n",
       "      <td>3.00</td>\n",
       "    </tr>\n",
       "    <tr>\n",
       "      <th>478</th>\n",
       "      <td>NaN</td>\n",
       "      <td>2108163459</td>\n",
       "      <td>NaT</td>\n",
       "      <td>NaN</td>\n",
       "      <td>NaN</td>\n",
       "      <td>3.00</td>\n",
       "    </tr>\n",
       "    <tr>\n",
       "      <th>632</th>\n",
       "      <td>NaN</td>\n",
       "      <td>2742574263</td>\n",
       "      <td>NaT</td>\n",
       "      <td>NaN</td>\n",
       "      <td>NaN</td>\n",
       "      <td>3.00</td>\n",
       "    </tr>\n",
       "    <tr>\n",
       "      <th>687</th>\n",
       "      <td>NaN</td>\n",
       "      <td>2988190573</td>\n",
       "      <td>NaT</td>\n",
       "      <td>NaN</td>\n",
       "      <td>NaN</td>\n",
       "      <td>3.00</td>\n",
       "    </tr>\n",
       "    <tr>\n",
       "      <th>890</th>\n",
       "      <td>NaN</td>\n",
       "      <td>3908431265</td>\n",
       "      <td>NaT</td>\n",
       "      <td>NaN</td>\n",
       "      <td>NaN</td>\n",
       "      <td>3.00</td>\n",
       "    </tr>\n",
       "    <tr>\n",
       "      <th>908</th>\n",
       "      <td>NaN</td>\n",
       "      <td>3967698036</td>\n",
       "      <td>NaT</td>\n",
       "      <td>NaN</td>\n",
       "      <td>NaN</td>\n",
       "      <td>3.00</td>\n",
       "    </tr>\n",
       "  </tbody>\n",
       "</table>\n",
       "</div>"
      ],
      "text/plain": [
       "      transaction_id  visitor_id       date    revenue group  transactions\n",
       "425     590470918.00  1920142716 2019-08-19 1294500.00     B           NaN\n",
       "743    3603576309.00  4133034833 2019-08-09   67990.00     A           NaN\n",
       "744    3668308183.00   888512513 2019-08-27   86620.00     B           NaN\n",
       "940    2420050534.00  4003628586 2019-08-08   58550.00     B           NaN\n",
       "949    1347999392.00   887908475 2019-08-21   60450.00     A           NaN\n",
       "1099    316924019.00   148427295 2019-08-12   65710.00     A           NaN\n",
       "1103   1348774318.00  1164614297 2019-08-12   66350.00     A           NaN\n",
       "1136    666610489.00  1307669133 2019-08-13   92550.00     A           NaN\n",
       "1196   3936777065.00  2108080724 2019-08-15  202740.00     B           NaN\n",
       "55               NaN   249864742        NaT        NaN   NaN          3.00\n",
       "138              NaN   611059232        NaT        NaN   NaN          3.00\n",
       "478              NaN  2108163459        NaT        NaN   NaN          3.00\n",
       "632              NaN  2742574263        NaT        NaN   NaN          3.00\n",
       "687              NaN  2988190573        NaT        NaN   NaN          3.00\n",
       "890              NaN  3908431265        NaT        NaN   NaN          3.00\n",
       "908              NaN  3967698036        NaT        NaN   NaN          3.00"
      ]
     },
     "execution_count": 24,
     "metadata": {},
     "output_type": "execute_result"
    }
   ],
   "source": [
    "#Получим границы \"аномальных\" показателей\n",
    "anomalous_revenue = np.percentile(orders['revenue'], 99)\n",
    "anomalous_orders_count = np.percentile(orders_per_user['transactions'], 99)\n",
    "\n",
    "#Составим список пользователей по данным показателям\n",
    "big_order_users = orders.query('revenue > @anomalous_revenue')\n",
    "many_orders_users = orders_per_user.query('transactions > @anomalous_orders_count')\n",
    "\n",
    "#Составим общий список аномальных пользователей\n",
    "anomalous_users = pd.concat([big_order_users, many_orders_users]).drop_duplicates()\n",
    "anomalous_users"
   ]
  },
  {
   "cell_type": "markdown",
   "metadata": {},
   "source": [
    "В этой табличке записаны аномальные пользователи - как по числу покупок, так и по доходу с их наиболее крупных покупок. С этим списком можно работать дальше - как самим, в рамках анализа, так и передать его в другие отделы.\n",
    "\n",
    "Для того, чтобы убрать их **нам потребуются только их ID.**"
   ]
  },
  {
   "cell_type": "markdown",
   "metadata": {},
   "source": [
    "<div class=\"alert alert-success\">\n",
    "<b>Комментарий ревьюера ✔️:</b> Хорошо </div>"
   ]
  },
  {
   "cell_type": "code",
   "execution_count": 25,
   "metadata": {},
   "outputs": [
    {
     "data": {
      "text/plain": [
       "16"
      ]
     },
     "execution_count": 25,
     "metadata": {},
     "output_type": "execute_result"
    }
   ],
   "source": [
    "#Сколько всего таких пользователей?\n",
    "anomalous_users['visitor_id'].nunique()"
   ]
  },
  {
   "cell_type": "code",
   "execution_count": 26,
   "metadata": {},
   "outputs": [],
   "source": [
    "orders_cleared = orders[np.logical_not(orders['visitor_id'].isin (anomalous_users['visitor_id']))]"
   ]
  },
  {
   "cell_type": "markdown",
   "metadata": {},
   "source": [
    "Посмотрим, **сколько у нас осталось пользователей в двух группах** после наших манипуляций:"
   ]
  },
  {
   "cell_type": "code",
   "execution_count": 27,
   "metadata": {},
   "outputs": [
    {
     "name": "stdout",
     "output_type": "stream",
     "text": [
      "В группе А находится 435 пользователей\n",
      "В группе B находится 522 пользователей\n"
     ]
    }
   ],
   "source": [
    "users_group_A = orders_cleared.query('group == \"A\"')['visitor_id'].nunique()\n",
    "users_group_B = orders_cleared.query('group == \"B\"')['visitor_id'].nunique()\n",
    "\n",
    "print(f'В группе А находится {users_group_A} пользователей')\n",
    "print(f'В группе B находится {users_group_B} пользователей')"
   ]
  },
  {
   "cell_type": "code",
   "execution_count": 28,
   "metadata": {},
   "outputs": [
    {
     "name": "stdout",
     "output_type": "stream",
     "text": [
      "Из группы А было удалено 68 пользователей\n",
      "Из группы В было удалено 64 пользователей\n"
     ]
    }
   ],
   "source": [
    "#Посмотрим, сколько пользователей мы удалили в ходе предобработки (включая тех, кто присутствовал в обоих группах)\n",
    "print(f'Из группы А было удалено {503 - users_group_A} пользователей')\n",
    "print(f'Из группы В было удалено {586 - users_group_B} пользователей')"
   ]
  },
  {
   "cell_type": "markdown",
   "metadata": {},
   "source": [
    "**Вывод по разделу:**\n",
    "\n",
    "- В рамках предобработки данных для АВ теста были проведены следующие действия:\n",
    "    - Из данных были удалены **записи о 58 пользователях**, которые попали в обе группы в рамках тестирования - их попадание в обе группы могло исказить результаты и изменить их реакцию на те или иные тестируемые компоненты.\n",
    "    - Из данных было удалено **16 аномальных пользователя** - с аномальной выручкой или количеством заказов. Информация о них была добавлена в отдельную табличку, которую можно использовать в другом анализе."
   ]
  },
  {
   "cell_type": "markdown",
   "metadata": {},
   "source": [
    "<div class=\"alert alert-success\">\n",
    "<b>Комментарий ревьюера ✔️:</b> Очень наглядно, хорошо! </div>"
   ]
  },
  {
   "cell_type": "markdown",
   "metadata": {},
   "source": [
    "### Анализ результатов теста"
   ]
  },
  {
   "cell_type": "markdown",
   "metadata": {},
   "source": [
    "Для начала - давайте построим таблицу с кумулятивными показателями. Для начала построим таблицу по \"сырым данным\":"
   ]
  },
  {
   "cell_type": "code",
   "execution_count": 29,
   "metadata": {},
   "outputs": [],
   "source": [
    "visitors_daily_A = visitors[visitors['group'] == 'A'][['date', 'visitors']]\n",
    "visitors_daily_A.columns = ['date', 'visitors_per_date_A']\n",
    "\n",
    "visitors_cummulative_A = visitors_daily_A.apply(\n",
    "    lambda x: visitors_daily_A[visitors_daily_A['date'] <= x['date']].agg(\n",
    "        {'date': 'max', 'visitors_per_date_A': 'sum'}\n",
    "    ),\n",
    "    axis=1,\n",
    ")\n",
    "visitors_cummulative_A.columns = ['date', 'visitors_cummulative_A']\n",
    "\n",
    "visitors_daily_B = visitors[visitors['group'] == 'A'][['date', 'visitors']]\n",
    "visitors_daily_B.columns = ['date', 'visitors_per_date_B']\n",
    "\n",
    "visitors_cummulative_B = visitors_daily_B.apply(\n",
    "    lambda x: visitors_daily_B[visitors_daily_B['date'] <= x['date']].agg(\n",
    "        {'date': 'max', 'visitors_per_date_B': 'sum'}\n",
    "    ),\n",
    "    axis=1,\n",
    ")\n",
    "visitors_cummulative_B.columns = ['date', 'visitors_cummulative_B']\n",
    "\n",
    "orders_daily_A = (\n",
    "    orders[orders['group'] == 'A'][['date', 'transaction_id', 'visitor_id', 'revenue']]\n",
    "    .groupby('date', as_index=False)\n",
    "    .agg({'transaction_id': 'nunique', 'revenue': 'sum'})\n",
    ")\n",
    "orders_daily_A.columns = ['date', 'orders_per_date_A', 'revenue_per_date_A']\n",
    "\n",
    "orders_cummulative_A = orders_daily_A.apply(\n",
    "    lambda x: orders_daily_A[orders_daily_A['date'] <= x['date']].agg(\n",
    "        {'date': 'max', 'orders_per_date_A': 'sum', 'revenue_per_date_A': 'sum'}\n",
    "    ),\n",
    "    axis=1,\n",
    ").sort_values(by=['date'])\n",
    "orders_cummulative_A.columns = [\n",
    "    'date',\n",
    "    'orders_cummulative_A',\n",
    "    'revenue_cummulative_A',\n",
    "]\n",
    "\n",
    "orders_daily_B = (\n",
    "    orders[orders['group'] == 'B'][['date', 'transaction_id', 'visitor_id', 'revenue']]\n",
    "    .groupby('date', as_index=False)\n",
    "    .agg({'transaction_id': 'nunique', 'revenue': 'sum'})\n",
    ")\n",
    "orders_daily_B.columns = ['date', 'orders_per_date_B', 'revenue_per_date_B']\n",
    "\n",
    "orders_cummulative_B = orders_daily_B.apply(\n",
    "    lambda x: orders_daily_B[orders_daily_B['date'] <= x['date']].agg(\n",
    "        {'date': 'max', 'orders_per_date_B': 'sum', 'revenue_per_date_B': 'sum'}\n",
    "    ),\n",
    "    axis=1,\n",
    ").sort_values(by=['date'])\n",
    "orders_cummulative_B.columns = [\n",
    "    'date',\n",
    "    'orders_cummulative_B',\n",
    "    'revenue_cummulative_B',\n",
    "]\n",
    "\n",
    "data_raw = (\n",
    "    orders_daily_A.merge(\n",
    "        orders_daily_B, left_on='date', right_on='date', how='left'\n",
    "    )\n",
    "    .merge(orders_cummulative_A, left_on='date', right_on='date', how='left')\n",
    "    .merge(orders_cummulative_B, left_on='date', right_on='date', how='left')\n",
    "    .merge(visitors_daily_A, left_on='date', right_on='date', how='left')\n",
    "    .merge(visitors_daily_B, left_on='date', right_on='date', how='left')\n",
    "    .merge(visitors_cummulative_A, left_on='date', right_on='date', how='left')\n",
    "    .merge(visitors_cummulative_B, left_on='date', right_on='date', how='left')\n",
    ")"
   ]
  },
  {
   "cell_type": "code",
   "execution_count": 30,
   "metadata": {},
   "outputs": [
    {
     "data": {
      "text/html": [
       "<div>\n",
       "<style scoped>\n",
       "    .dataframe tbody tr th:only-of-type {\n",
       "        vertical-align: middle;\n",
       "    }\n",
       "\n",
       "    .dataframe tbody tr th {\n",
       "        vertical-align: top;\n",
       "    }\n",
       "\n",
       "    .dataframe thead th {\n",
       "        text-align: right;\n",
       "    }\n",
       "</style>\n",
       "<table border=\"1\" class=\"dataframe\">\n",
       "  <thead>\n",
       "    <tr style=\"text-align: right;\">\n",
       "      <th></th>\n",
       "      <th>date</th>\n",
       "      <th>orders_per_date_A</th>\n",
       "      <th>revenue_per_date_A</th>\n",
       "      <th>orders_per_date_B</th>\n",
       "      <th>revenue_per_date_B</th>\n",
       "      <th>orders_cummulative_A</th>\n",
       "      <th>revenue_cummulative_A</th>\n",
       "      <th>orders_cummulative_B</th>\n",
       "      <th>revenue_cummulative_B</th>\n",
       "      <th>visitors_per_date_A</th>\n",
       "      <th>visitors_per_date_B</th>\n",
       "      <th>visitors_cummulative_A</th>\n",
       "      <th>visitors_cummulative_B</th>\n",
       "    </tr>\n",
       "  </thead>\n",
       "  <tbody>\n",
       "    <tr>\n",
       "      <th>0</th>\n",
       "      <td>2019-08-01</td>\n",
       "      <td>23</td>\n",
       "      <td>142779</td>\n",
       "      <td>17</td>\n",
       "      <td>59758</td>\n",
       "      <td>23</td>\n",
       "      <td>142779</td>\n",
       "      <td>17</td>\n",
       "      <td>59758</td>\n",
       "      <td>719</td>\n",
       "      <td>719</td>\n",
       "      <td>719</td>\n",
       "      <td>719</td>\n",
       "    </tr>\n",
       "    <tr>\n",
       "      <th>1</th>\n",
       "      <td>2019-08-02</td>\n",
       "      <td>19</td>\n",
       "      <td>91602</td>\n",
       "      <td>23</td>\n",
       "      <td>162043</td>\n",
       "      <td>42</td>\n",
       "      <td>234381</td>\n",
       "      <td>40</td>\n",
       "      <td>221801</td>\n",
       "      <td>619</td>\n",
       "      <td>619</td>\n",
       "      <td>1338</td>\n",
       "      <td>1338</td>\n",
       "    </tr>\n",
       "    <tr>\n",
       "      <th>2</th>\n",
       "      <td>2019-08-03</td>\n",
       "      <td>24</td>\n",
       "      <td>112473</td>\n",
       "      <td>14</td>\n",
       "      <td>67049</td>\n",
       "      <td>66</td>\n",
       "      <td>346854</td>\n",
       "      <td>54</td>\n",
       "      <td>288850</td>\n",
       "      <td>507</td>\n",
       "      <td>507</td>\n",
       "      <td>1845</td>\n",
       "      <td>1845</td>\n",
       "    </tr>\n",
       "    <tr>\n",
       "      <th>3</th>\n",
       "      <td>2019-08-04</td>\n",
       "      <td>11</td>\n",
       "      <td>41176</td>\n",
       "      <td>14</td>\n",
       "      <td>96890</td>\n",
       "      <td>77</td>\n",
       "      <td>388030</td>\n",
       "      <td>68</td>\n",
       "      <td>385740</td>\n",
       "      <td>717</td>\n",
       "      <td>717</td>\n",
       "      <td>2562</td>\n",
       "      <td>2562</td>\n",
       "    </tr>\n",
       "    <tr>\n",
       "      <th>4</th>\n",
       "      <td>2019-08-05</td>\n",
       "      <td>22</td>\n",
       "      <td>86383</td>\n",
       "      <td>21</td>\n",
       "      <td>89908</td>\n",
       "      <td>99</td>\n",
       "      <td>474413</td>\n",
       "      <td>89</td>\n",
       "      <td>475648</td>\n",
       "      <td>756</td>\n",
       "      <td>756</td>\n",
       "      <td>3318</td>\n",
       "      <td>3318</td>\n",
       "    </tr>\n",
       "  </tbody>\n",
       "</table>\n",
       "</div>"
      ],
      "text/plain": [
       "        date  orders_per_date_A  revenue_per_date_A  orders_per_date_B  \\\n",
       "0 2019-08-01                 23              142779                 17   \n",
       "1 2019-08-02                 19               91602                 23   \n",
       "2 2019-08-03                 24              112473                 14   \n",
       "3 2019-08-04                 11               41176                 14   \n",
       "4 2019-08-05                 22               86383                 21   \n",
       "\n",
       "   revenue_per_date_B  orders_cummulative_A  revenue_cummulative_A  \\\n",
       "0               59758                    23                 142779   \n",
       "1              162043                    42                 234381   \n",
       "2               67049                    66                 346854   \n",
       "3               96890                    77                 388030   \n",
       "4               89908                    99                 474413   \n",
       "\n",
       "   orders_cummulative_B  revenue_cummulative_B  visitors_per_date_A  \\\n",
       "0                    17                  59758                  719   \n",
       "1                    40                 221801                  619   \n",
       "2                    54                 288850                  507   \n",
       "3                    68                 385740                  717   \n",
       "4                    89                 475648                  756   \n",
       "\n",
       "   visitors_per_date_B  visitors_cummulative_A  visitors_cummulative_B  \n",
       "0                  719                     719                     719  \n",
       "1                  619                    1338                    1338  \n",
       "2                  507                    1845                    1845  \n",
       "3                  717                    2562                    2562  \n",
       "4                  756                    3318                    3318  "
      ]
     },
     "execution_count": 30,
     "metadata": {},
     "output_type": "execute_result"
    }
   ],
   "source": [
    "#Посмотрим на показатели\n",
    "data_raw.head(5)"
   ]
  },
  {
   "cell_type": "markdown",
   "metadata": {},
   "source": [
    "Далее - построим таблицу по \"очищенным\" данным:"
   ]
  },
  {
   "cell_type": "code",
   "execution_count": 31,
   "metadata": {},
   "outputs": [],
   "source": [
    "visitors_daily_A = visitors[visitors['group'] == 'A'][['date', 'visitors']]\n",
    "visitors_daily_A.columns = ['date', 'visitors_per_date_A']\n",
    "\n",
    "visitors_cummulative_A = visitors_daily_A.apply(\n",
    "    lambda x: visitors_daily_A[visitors_daily_A['date'] <= x['date']].agg(\n",
    "        {'date': 'max', 'visitors_per_date_A': 'sum'}\n",
    "    ),\n",
    "    axis=1,\n",
    ")\n",
    "visitors_cummulative_A.columns = ['date', 'visitors_cummulative_A']\n",
    "\n",
    "visitors_daily_B = visitors[visitors['group'] == 'A'][['date', 'visitors']]\n",
    "visitors_daily_B.columns = ['date', 'visitors_per_date_B']\n",
    "\n",
    "visitors_cummulative_B = visitors_daily_B.apply(\n",
    "    lambda x: visitors_daily_B[visitors_daily_B['date'] <= x['date']].agg(\n",
    "        {'date': 'max', 'visitors_per_date_B': 'sum'}\n",
    "    ),\n",
    "    axis=1,\n",
    ")\n",
    "visitors_cummulative_B.columns = ['date', 'visitors_cummulative_B']\n",
    "\n",
    "orders_daily_A = (\n",
    "    orders_cleared[orders_cleared['group'] == 'A'][['date', 'transaction_id', 'visitor_id', 'revenue']]\n",
    "    .groupby('date', as_index=False)\n",
    "    .agg({'transaction_id': 'nunique', 'revenue': 'sum'})\n",
    ")\n",
    "orders_daily_A.columns = ['date', 'orders_per_date_A', 'revenue_per_date_A']\n",
    "\n",
    "orders_cummulative_A = orders_daily_A.apply(\n",
    "    lambda x: orders_daily_A[orders_daily_A['date'] <= x['date']].agg(\n",
    "        {'date': 'max', 'orders_per_date_A': 'sum', 'revenue_per_date_A': 'sum'}\n",
    "    ),\n",
    "    axis=1,\n",
    ").sort_values(by=['date'])\n",
    "orders_cummulative_A.columns = [\n",
    "    'date',\n",
    "    'orders_cummulative_A',\n",
    "    'revenue_cummulative_A',\n",
    "]\n",
    "\n",
    "orders_daily_B = (\n",
    "    orders_cleared[orders_cleared['group'] == 'B'][['date', 'transaction_id', 'visitor_id', 'revenue']]\n",
    "    .groupby('date', as_index=False)\n",
    "    .agg({'transaction_id': 'nunique', 'revenue': 'sum'})\n",
    ")\n",
    "orders_daily_B.columns = ['date', 'orders_per_date_B', 'revenue_per_date_B']\n",
    "\n",
    "orders_cummulative_B = orders_daily_B.apply(\n",
    "    lambda x: orders_daily_B[orders_daily_B['date'] <= x['date']].agg(\n",
    "        {'date': 'max', 'orders_per_date_B': 'sum', 'revenue_per_date_B': 'sum'}\n",
    "    ),\n",
    "    axis=1,\n",
    ").sort_values(by=['date'])\n",
    "orders_cummulative_B.columns = [\n",
    "    'date',\n",
    "    'orders_cummulative_B',\n",
    "    'revenue_cummulative_B',\n",
    "]\n",
    "\n",
    "data_cleared = (\n",
    "    orders_daily_A.merge(\n",
    "        orders_daily_B, left_on='date', right_on='date', how='left'\n",
    "    )\n",
    "    .merge(orders_cummulative_A, left_on='date', right_on='date', how='left')\n",
    "    .merge(orders_cummulative_B, left_on='date', right_on='date', how='left')\n",
    "    .merge(visitors_daily_A, left_on='date', right_on='date', how='left')\n",
    "    .merge(visitors_daily_B, left_on='date', right_on='date', how='left')\n",
    "    .merge(visitors_cummulative_A, left_on='date', right_on='date', how='left')\n",
    "    .merge(visitors_cummulative_B, left_on='date', right_on='date', how='left')\n",
    ")"
   ]
  },
  {
   "cell_type": "markdown",
   "metadata": {},
   "source": [
    "<div class=\"alert alert-success\">\n",
    "<b>Комментарий ревьюера ✔️:</b> Все данные собраны </div>"
   ]
  },
  {
   "cell_type": "code",
   "execution_count": 32,
   "metadata": {},
   "outputs": [
    {
     "data": {
      "text/html": [
       "<div>\n",
       "<style scoped>\n",
       "    .dataframe tbody tr th:only-of-type {\n",
       "        vertical-align: middle;\n",
       "    }\n",
       "\n",
       "    .dataframe tbody tr th {\n",
       "        vertical-align: top;\n",
       "    }\n",
       "\n",
       "    .dataframe thead th {\n",
       "        text-align: right;\n",
       "    }\n",
       "</style>\n",
       "<table border=\"1\" class=\"dataframe\">\n",
       "  <thead>\n",
       "    <tr style=\"text-align: right;\">\n",
       "      <th></th>\n",
       "      <th>date</th>\n",
       "      <th>orders_per_date_A</th>\n",
       "      <th>revenue_per_date_A</th>\n",
       "      <th>orders_per_date_B</th>\n",
       "      <th>revenue_per_date_B</th>\n",
       "      <th>orders_cummulative_A</th>\n",
       "      <th>revenue_cummulative_A</th>\n",
       "      <th>orders_cummulative_B</th>\n",
       "      <th>revenue_cummulative_B</th>\n",
       "      <th>visitors_per_date_A</th>\n",
       "      <th>visitors_per_date_B</th>\n",
       "      <th>visitors_cummulative_A</th>\n",
       "      <th>visitors_cummulative_B</th>\n",
       "    </tr>\n",
       "  </thead>\n",
       "  <tbody>\n",
       "    <tr>\n",
       "      <th>0</th>\n",
       "      <td>2019-08-01</td>\n",
       "      <td>18</td>\n",
       "      <td>112340</td>\n",
       "      <td>17</td>\n",
       "      <td>59758</td>\n",
       "      <td>18</td>\n",
       "      <td>112340</td>\n",
       "      <td>17</td>\n",
       "      <td>59758</td>\n",
       "      <td>719</td>\n",
       "      <td>719</td>\n",
       "      <td>719</td>\n",
       "      <td>719</td>\n",
       "    </tr>\n",
       "    <tr>\n",
       "      <th>1</th>\n",
       "      <td>2019-08-02</td>\n",
       "      <td>18</td>\n",
       "      <td>89912</td>\n",
       "      <td>23</td>\n",
       "      <td>162043</td>\n",
       "      <td>36</td>\n",
       "      <td>202252</td>\n",
       "      <td>40</td>\n",
       "      <td>221801</td>\n",
       "      <td>619</td>\n",
       "      <td>619</td>\n",
       "      <td>1338</td>\n",
       "      <td>1338</td>\n",
       "    </tr>\n",
       "    <tr>\n",
       "      <th>2</th>\n",
       "      <td>2019-08-03</td>\n",
       "      <td>24</td>\n",
       "      <td>112473</td>\n",
       "      <td>14</td>\n",
       "      <td>67049</td>\n",
       "      <td>60</td>\n",
       "      <td>314725</td>\n",
       "      <td>54</td>\n",
       "      <td>288850</td>\n",
       "      <td>507</td>\n",
       "      <td>507</td>\n",
       "      <td>1845</td>\n",
       "      <td>1845</td>\n",
       "    </tr>\n",
       "    <tr>\n",
       "      <th>3</th>\n",
       "      <td>2019-08-04</td>\n",
       "      <td>11</td>\n",
       "      <td>41176</td>\n",
       "      <td>14</td>\n",
       "      <td>96890</td>\n",
       "      <td>71</td>\n",
       "      <td>355901</td>\n",
       "      <td>68</td>\n",
       "      <td>385740</td>\n",
       "      <td>717</td>\n",
       "      <td>717</td>\n",
       "      <td>2562</td>\n",
       "      <td>2562</td>\n",
       "    </tr>\n",
       "    <tr>\n",
       "      <th>4</th>\n",
       "      <td>2019-08-05</td>\n",
       "      <td>22</td>\n",
       "      <td>86383</td>\n",
       "      <td>21</td>\n",
       "      <td>89908</td>\n",
       "      <td>93</td>\n",
       "      <td>442284</td>\n",
       "      <td>89</td>\n",
       "      <td>475648</td>\n",
       "      <td>756</td>\n",
       "      <td>756</td>\n",
       "      <td>3318</td>\n",
       "      <td>3318</td>\n",
       "    </tr>\n",
       "  </tbody>\n",
       "</table>\n",
       "</div>"
      ],
      "text/plain": [
       "        date  orders_per_date_A  revenue_per_date_A  orders_per_date_B  \\\n",
       "0 2019-08-01                 18              112340                 17   \n",
       "1 2019-08-02                 18               89912                 23   \n",
       "2 2019-08-03                 24              112473                 14   \n",
       "3 2019-08-04                 11               41176                 14   \n",
       "4 2019-08-05                 22               86383                 21   \n",
       "\n",
       "   revenue_per_date_B  orders_cummulative_A  revenue_cummulative_A  \\\n",
       "0               59758                    18                 112340   \n",
       "1              162043                    36                 202252   \n",
       "2               67049                    60                 314725   \n",
       "3               96890                    71                 355901   \n",
       "4               89908                    93                 442284   \n",
       "\n",
       "   orders_cummulative_B  revenue_cummulative_B  visitors_per_date_A  \\\n",
       "0                    17                  59758                  719   \n",
       "1                    40                 221801                  619   \n",
       "2                    54                 288850                  507   \n",
       "3                    68                 385740                  717   \n",
       "4                    89                 475648                  756   \n",
       "\n",
       "   visitors_per_date_B  visitors_cummulative_A  visitors_cummulative_B  \n",
       "0                  719                     719                     719  \n",
       "1                  619                    1338                    1338  \n",
       "2                  507                    1845                    1845  \n",
       "3                  717                    2562                    2562  \n",
       "4                  756                    3318                    3318  "
      ]
     },
     "execution_count": 32,
     "metadata": {},
     "output_type": "execute_result"
    }
   ],
   "source": [
    "#Посмотрим на показатели\n",
    "data_cleared.head(5)"
   ]
  },
  {
   "cell_type": "markdown",
   "metadata": {},
   "source": [
    "#### Постройте график кумулятивной выручки по группам. Сделайте выводы и предположения."
   ]
  },
  {
   "cell_type": "markdown",
   "metadata": {},
   "source": [
    "Здесь и далее - будем строить два графика, по очищенным группам и по неочищенным."
   ]
  },
  {
   "cell_type": "code",
   "execution_count": 33,
   "metadata": {},
   "outputs": [],
   "source": [
    "def plot_cumulative_revenue(data_raw=data_raw, data_cleared=data_cleared):\n",
    "    \"\"\"\n",
    "    Функция для построения графиков кумулятивной выручки\n",
    "    \"\"\"\n",
    "    \n",
    "    \n",
    "    # Строиим общий график\n",
    "    fig, ax = plt.subplots(1, 2, \n",
    "                           figsize=(20,10),\n",
    "                          sharey=True)\n",
    "    fig.suptitle('График кумулятивной выручки: обычные данные | очищенные данные').set_fontsize(24)\n",
    "    \n",
    "    #Строим график по обычным данным:\n",
    "\n",
    "    cumulative_revenue_A_base = data_raw[['date', 'revenue_cummulative_A']]\n",
    "    cumulative_revenue_A_base.columns=('date', 'revenue')\n",
    "    \n",
    "    cumulative_revenue_B_base = data_raw[['date', 'revenue_cummulative_B']]\n",
    "    cumulative_revenue_B_base.columns=('date', 'revenue')\n",
    "    \n",
    "    sns.lineplot(x=cumulative_revenue_A_base['date'], \n",
    "                 y=cumulative_revenue_A_base['revenue'], \n",
    "                 label='A', \n",
    "                 ax=ax[0])\n",
    "    \n",
    "    sns.lineplot(x=cumulative_revenue_B_base['date'], \n",
    "                 y=cumulative_revenue_B_base['revenue'], \n",
    "                 label='B',\n",
    "                 ax=ax[0])\n",
    "\n",
    "    \n",
    "    #Строим график по очищенным данным:\n",
    "\n",
    "    cumulative_revenue_A_cleared = data_cleared[['date', 'revenue_cummulative_A']]\n",
    "    cumulative_revenue_A_cleared.columns=('date', 'revenue')\n",
    "    \n",
    "    cumulative_revenue_B_cleared = data_cleared[['date', 'revenue_cummulative_B']]\n",
    "    cumulative_revenue_B_cleared.columns=('date', 'revenue')\n",
    "    \n",
    "\n",
    "    sns.lineplot(x=cumulative_revenue_A_cleared['date'], \n",
    "                 y=cumulative_revenue_A_cleared['revenue'], \n",
    "                 label='A', \n",
    "                 ax=ax[1])\n",
    "    \n",
    "    sns.lineplot(x=cumulative_revenue_B_cleared['date'], \n",
    "                 y=cumulative_revenue_B_cleared['revenue'], \n",
    "                 label='B', \n",
    "                 ax=ax[1])\n",
    "    \n",
    "    plt.ticklabel_format(style='plain', axis='y')\n",
    "    \n",
    "    plt.legend() \n",
    "    plt.show()"
   ]
  },
  {
   "cell_type": "code",
   "execution_count": 34,
   "metadata": {},
   "outputs": [],
   "source": [
    "def plot_relative_cumulative_revenue(data_raw=data_raw, data_cleared=data_cleared):\n",
    "    \"\"\"\n",
    "    Функция для построения графика относительной кумулятивной выручки группы В к группе А\n",
    "    \"\"\"\n",
    "    \n",
    "    # Строиим общий график\n",
    "    fig, ax = plt.subplots(1, 2, \n",
    "                           figsize=(25,8),\n",
    "                          sharey=True)\n",
    "    fig.suptitle('График относительной кумулятивной выручки (группа В к группе А, в %): обычные данные | очищенные данные').set_fontsize(24)\n",
    "    \n",
    "    # Строим график по обычным данным:\n",
    "\n",
    "    cumulative_revenue_A_base = data_raw[['date', 'revenue_cummulative_A']]\n",
    "    cumulative_revenue_A_base.columns=('date', 'revenue')\n",
    "    \n",
    "    cumulative_revenue_B_base = data_raw[['date', 'revenue_cummulative_B']]\n",
    "    cumulative_revenue_B_base.columns=('date', 'revenue')\n",
    "    \n",
    "    merged_cumulative_revenue_base = cumulative_revenue_A_base.merge(cumulative_revenue_B_base, \n",
    "                                                            left_on='date', \n",
    "                                                            right_on='date', \n",
    "                                                            how='left', \n",
    "                                                            suffixes=['A', 'B'])\n",
    "    merged_cumulative_revenue_base.columns=['date',  \n",
    "                                            'revenue_A', \n",
    "                                            'revenue_B']\n",
    "    \n",
    "    sns.lineplot(x=merged_cumulative_revenue_base['date'], \n",
    "                 y=merged_cumulative_revenue_base['revenue_B'] / merged_cumulative_revenue_base['revenue_A'] - 1, \n",
    "                 ax=ax[0])\n",
    "    ax[0].axhline(y=0, color='black', linestyle='--')\n",
    "    \n",
    "    # Строим график по очищенным данным:\n",
    "\n",
    "    cumulative_revenue_A_cleared = data_cleared[['date', 'revenue_cummulative_A']]\n",
    "    cumulative_revenue_A_cleared.columns=('date', 'revenue')\n",
    "    \n",
    "    cumulative_revenue_B_cleared = data_cleared[['date', 'revenue_cummulative_B']]\n",
    "    cumulative_revenue_B_cleared.columns=('date', 'revenue')\n",
    "    \n",
    "    merged_cumulative_revenue_cleared = cumulative_revenue_A_cleared.merge(cumulative_revenue_B_cleared, \n",
    "                                                            left_on='date', \n",
    "                                                            right_on='date', \n",
    "                                                            how='left', \n",
    "                                                            suffixes=['A', 'B'])\n",
    "    merged_cumulative_revenue_cleared.columns=['date',  \n",
    "                                            'revenue_A', \n",
    "                                            'revenue_B']\n",
    "    \n",
    "    sns.lineplot(x=merged_cumulative_revenue_cleared['date'], \n",
    "                 y=merged_cumulative_revenue_cleared['revenue_B'] / merged_cumulative_revenue_cleared['revenue_A'] - 1, \n",
    "                 ax=ax[1])\n",
    "    ax[1].axhline(y=0, color='black', linestyle='--')\n",
    "\n",
    "    plt.show()"
   ]
  },
  {
   "cell_type": "code",
   "execution_count": 35,
   "metadata": {
    "scrolled": true
   },
   "outputs": [
    {
     "data": {
      "image/png": "[encoded data removed]",
      "text/plain": [
       "<Figure size 1440x720 with 2 Axes>"
      ]
     },
     "metadata": {
      "needs_background": "light"
     },
     "output_type": "display_data"
    }
   ],
   "source": [
    "# Построим графики кумулятивной выручки:\n",
    "plot_cumulative_revenue()"
   ]
  },
  {
   "cell_type": "code",
   "execution_count": 36,
   "metadata": {},
   "outputs": [
    {
     "data": {
      "image/png": "[encoded data removed]",
      "text/plain": [
       "<Figure size 1800x576 with 2 Axes>"
      ]
     },
     "metadata": {
      "needs_background": "light"
     },
     "output_type": "display_data"
    }
   ],
   "source": [
    "#Построим график относительного изменения выручки группы В к группе A:\n",
    "plot_relative_cumulative_revenue()"
   ]
  },
  {
   "cell_type": "markdown",
   "metadata": {},
   "source": [
    "В то же время это различие может быть напрямую связано с тем, что **в группе В больше пользователей, оставлявших заказы. Давайте посмотрим, как это коррелирует с общим числом посетителей.**"
   ]
  },
  {
   "cell_type": "markdown",
   "metadata": {},
   "source": [
    "<div class=\"alert alert-success\">\n",
    "<b>Комментарий ревьюера ✔️:</b> Аномалии хорошо зафиксированы и отображены данные как по сырым, так и по чистым данным</div>"
   ]
  },
  {
   "cell_type": "code",
   "execution_count": 37,
   "metadata": {},
   "outputs": [],
   "source": [
    "def plot_relative_cummulative_visitors(data_raw=data_raw, data_cleared=data_cleared):\n",
    "    \"\"\"\n",
    "    Функция для построения графика относительной кумулятивной выручки группы В к группе А\n",
    "    \"\"\"\n",
    "    \n",
    "    # Строиим общий график\n",
    "    fig, ax = plt.subplots(1, 2, \n",
    "                           figsize=(25,8),\n",
    "                          sharey=True)\n",
    "    fig.suptitle('График относительного кумулятивного числа посетителей (группа В к группе А, в %): обычные данные | очищенные данные').set_fontsize(24)\n",
    "    \n",
    "    # Строим график по обычным данным:\n",
    "    \n",
    "    sns.lineplot(x=data_raw['date'], \n",
    "                 y=data_raw['visitors_cummulative_B'] / data_raw['visitors_cummulative_A'] - 1, \n",
    "                 ax=ax[0])\n",
    "    \n",
    "    # Строим график по очищенным данным:\n",
    "\n",
    "    sns.lineplot(x=data_cleared['date'], \n",
    "                 y=data_cleared['visitors_cummulative_B'] / data_cleared['visitors_cummulative_A'] - 1, \n",
    "                 ax=ax[1])\n",
    "\n",
    "    plt.show()"
   ]
  },
  {
   "cell_type": "code",
   "execution_count": 38,
   "metadata": {},
   "outputs": [
    {
     "data": {
      "image/png": "[encoded data removed]",
      "text/plain": [
       "<Figure size 1800x576 with 2 Axes>"
      ]
     },
     "metadata": {
      "needs_background": "light"
     },
     "output_type": "display_data"
    }
   ],
   "source": [
    "plot_relative_cummulative_visitors()"
   ]
  },
  {
   "cell_type": "markdown",
   "metadata": {},
   "source": [
    "Графики прямые. Это означает, что **число посетителей в группах по дням одинаковое - а значит, что потоки были разделено верно, а разница в числе заказов/выручке связана с тестируемым изменением.**"
   ]
  },
  {
   "cell_type": "markdown",
   "metadata": {},
   "source": [
    "<div class=\"alert alert-success\">\n",
    "<b>Комментарий ревьюера ✔️:</b> Верно</div>"
   ]
  },
  {
   "cell_type": "markdown",
   "metadata": {},
   "source": [
    "**Выводы по задаче:**\n",
    "\n",
    "- По данному графику видно **заметное улучшение показателей группы В к группе А.** После определённого \"провала\" в начале показатель стабилизировался и на данный момент демонстрирует улучшение в 10-20%, что является достаточно хорошим результатов.\n",
    "- **Очистка данных позволила улучшить показатели**:\n",
    "    - **До очистки показатели выручки обеих групп в целом были гораздо выше** - что, конечно, соответствует действительности, но именно за счёт аномальных пользователей, исключение которых из текущего анализа оказало значительное влияние на показатели прибыли.\n",
    "    - **Без очистки группа В показывала гораздо более высокие результаты,** что само по себе может быть интересным маркером - возможно, изменение тестируемого элемента привело к появлению аномальных пользователей, однако эта гипотеза нуждается в дальнейшей проверке за рамками данного проекта.\n",
    "    - Очистка данных также убрала **аномальное падение и аномальный взлёт** относительной кумулятивной выручки группы В.\n",
    "- В то же время, один лишь показатель кумулятивной выручки не является достаточным для принятия решения. **Перейдём к следующему этапу анализа:**"
   ]
  },
  {
   "cell_type": "markdown",
   "metadata": {},
   "source": [
    "<div class=\"alert alert-success\">\n",
    "<b>Комментарий ревьюера ✔️:</b> Очень структурированный вывод, отлично выделяешь данные цветом</div>"
   ]
  },
  {
   "cell_type": "markdown",
   "metadata": {},
   "source": [
    "#### Постройте график кумулятивного среднего чека по группам. Сделайте выводы и предположения."
   ]
  },
  {
   "cell_type": "code",
   "execution_count": 39,
   "metadata": {},
   "outputs": [],
   "source": [
    "def plot_mean_cheque(data_raw=data_raw, data_cleared=data_cleared):\n",
    "    \"\"\"\n",
    "    Функция для построения графиков кумулятивных средних чеков\n",
    "    \"\"\"\n",
    "    \n",
    "    \n",
    "    # Строиим общий график\n",
    "    fig, ax = plt.subplots(1, 2, \n",
    "                           figsize=(20,10),\n",
    "                          sharey=True)\n",
    "    fig.suptitle('График кумулятивных средних чеков: обычные данные | очищенные данные').set_fontsize(24)\n",
    "    \n",
    "    #Строим график по обычным данным:\n",
    "\n",
    "    cumulative_revenue_A_base = data_raw[['date', 'revenue_cummulative_A', 'orders_cummulative_A']]\n",
    "    cumulative_revenue_A_base.columns=('date', 'revenue', 'orders')\n",
    "    \n",
    "    cumulative_revenue_B_base = data_raw[['date', 'revenue_cummulative_B', 'orders_cummulative_B']]\n",
    "    cumulative_revenue_B_base.columns=('date', 'revenue', 'orders')\n",
    "    \n",
    "    sns.lineplot(x=cumulative_revenue_A_base['date'], \n",
    "                 y=cumulative_revenue_A_base['revenue'] / cumulative_revenue_A_base['orders'], \n",
    "                 label='A', \n",
    "                 ax=ax[0])\n",
    "    \n",
    "    sns.lineplot(x=cumulative_revenue_B_base['date'], \n",
    "                 y=cumulative_revenue_B_base['revenue'] / cumulative_revenue_B_base['orders'], \n",
    "                 label='B',\n",
    "                 ax=ax[0])\n",
    "\n",
    "    \n",
    "    #Строим график по очищенным данным:\n",
    "\n",
    "    cumulative_revenue_A_cleared = data_cleared[['date', 'revenue_cummulative_A', 'orders_cummulative_A']]\n",
    "    cumulative_revenue_A_cleared.columns=('date', 'revenue', 'orders')\n",
    "    \n",
    "    cumulative_revenue_B_cleared = data_cleared[['date', 'revenue_cummulative_B', 'orders_cummulative_B']]\n",
    "    cumulative_revenue_B_cleared.columns=('date', 'revenue', 'orders')\n",
    "\n",
    "    sns.lineplot(x=cumulative_revenue_A_cleared['date'], \n",
    "                 y=cumulative_revenue_A_cleared['revenue'] / cumulative_revenue_A_cleared['orders'], \n",
    "                 label='A', \n",
    "                 ax=ax[1])\n",
    "    \n",
    "    sns.lineplot(x=cumulative_revenue_B_cleared['date'], \n",
    "                 y=cumulative_revenue_B_cleared['revenue'] / cumulative_revenue_B_cleared['orders'], \n",
    "                 label='B', \n",
    "                 ax=ax[1])\n",
    "    \n",
    "    plt.ticklabel_format(style='plain', axis='y')\n",
    "    \n",
    "    plt.legend() \n",
    "    plt.show()"
   ]
  },
  {
   "cell_type": "code",
   "execution_count": 40,
   "metadata": {},
   "outputs": [
    {
     "data": {
      "image/png": "[encoded data removed]",
      "text/plain": [
       "<Figure size 1440x720 with 2 Axes>"
      ]
     },
     "metadata": {
      "needs_background": "light"
     },
     "output_type": "display_data"
    }
   ],
   "source": [
    "plot_mean_cheque()"
   ]
  },
  {
   "cell_type": "markdown",
   "metadata": {},
   "source": [
    "Анализ графиков кумулятивных средних чеков показал, что **различия между группам есть - но только в неочищенных данных,** что говорит о том, что само изменение среднего чека в первую очередь связано с аномальными пользователями, осуществлявшими дорогие покупки в группе В. \n",
    "\n",
    "При этом **на очищенных данных этой разницы практически нет** - заметны колебания исследуемой метрики, при этом **в последние дни наблюдения показатели группы В и вовсе оказались несколько хуже.**\n",
    "\n",
    "Давайте посмотрим на график относительного изменения кумулятивного среднего чека:"
   ]
  },
  {
   "cell_type": "markdown",
   "metadata": {},
   "source": [
    "<div class=\"alert alert-success\">\n",
    "<b>Комментарий ревьюера ✔️:</b> Вполне логично, на чистых данных разницы почти нет</div>"
   ]
  },
  {
   "cell_type": "code",
   "execution_count": 41,
   "metadata": {},
   "outputs": [],
   "source": [
    "def plot_relative_mean_cheque(data_raw=data_raw, data_cleared=data_cleared):\n",
    "    \"\"\"\n",
    "    Функция для построения графика относительного размера среднего чека группы В к группе А\n",
    "    \"\"\"\n",
    "    \n",
    "    # Строиим общий график\n",
    "    fig, ax = plt.subplots(1, 2, \n",
    "                           figsize=(25,8),\n",
    "                          sharey=True)\n",
    "    fig.suptitle('График относительного размера кумулятивных средних чеков (группа В к группе А, в %): обычные данные | очищенные данные').set_fontsize(24)\n",
    "    \n",
    "    # Строим график по обычным данным:\n",
    "\n",
    "    cumulative_revenue_A_base = data_raw[['date', 'revenue_cummulative_A', 'orders_cummulative_A']]\n",
    "    cumulative_revenue_A_base.columns=('date', 'revenue', 'orders')\n",
    "    \n",
    "    cumulative_revenue_B_base = data_raw[['date', 'revenue_cummulative_B', 'orders_cummulative_B']]\n",
    "    cumulative_revenue_B_base.columns=('date', 'revenue', 'orders')\n",
    "    \n",
    "    merged_cumulative_revenue_base = cumulative_revenue_A_base.merge(cumulative_revenue_B_base, \n",
    "                                                            left_on='date', \n",
    "                                                            right_on='date', \n",
    "                                                            how='left', \n",
    "                                                            suffixes=['A', 'B'])\n",
    "    merged_cumulative_revenue_base.columns=['date', \n",
    "                                            'revenue_A', \n",
    "                                            'orders_A',  \n",
    "                                            'revenue_B', \n",
    "                                            'orders_B'\n",
    "                                           ]\n",
    "    \n",
    "    sns.lineplot(x=merged_cumulative_revenue_base['date'], \n",
    "                 y=(merged_cumulative_revenue_base['revenue_B'] / merged_cumulative_revenue_base['orders_B']) / \n",
    "                 (merged_cumulative_revenue_base['revenue_A'] / merged_cumulative_revenue_base['orders_A']) - 1, \n",
    "                 ax=ax[0])\n",
    "    ax[0].axhline(y=0, color='black', linestyle='--')\n",
    "    \n",
    "    # Строим график по очищенным данным:\n",
    "\n",
    "    cumulative_revenue_A_cleared = data_cleared[['date', 'revenue_cummulative_A', 'orders_cummulative_A']]\n",
    "    cumulative_revenue_A_cleared.columns=('date', 'revenue', 'orders')\n",
    "    \n",
    "    cumulative_revenue_B_cleared = data_cleared[['date', 'revenue_cummulative_B', 'orders_cummulative_B']]\n",
    "    cumulative_revenue_B_cleared.columns=('date', 'revenue', 'orders')\n",
    "    \n",
    "    merged_cumulative_revenue_cleared = cumulative_revenue_A_cleared.merge(cumulative_revenue_B_cleared, \n",
    "                                                            left_on='date', \n",
    "                                                            right_on='date', \n",
    "                                                            how='left', \n",
    "                                                            suffixes=['A', 'B'])\n",
    "    merged_cumulative_revenue_cleared.columns=['date', \n",
    "                                            'revenue_A', \n",
    "                                            'orders_A',  \n",
    "                                            'revenue_B', \n",
    "                                            'orders_B'\n",
    "                                           ]\n",
    "        \n",
    "    sns.lineplot(x=merged_cumulative_revenue_cleared['date'], \n",
    "                 y=(merged_cumulative_revenue_cleared['revenue_B'] / merged_cumulative_revenue_cleared['orders_B']) / \n",
    "                 (merged_cumulative_revenue_cleared['revenue_A'] / merged_cumulative_revenue_cleared['orders_A']) - 1,  \n",
    "                 ax=ax[1])\n",
    "    ax[1].axhline(y=0, color='black', linestyle='--')\n",
    "\n",
    "    plt.show()"
   ]
  },
  {
   "cell_type": "code",
   "execution_count": 42,
   "metadata": {},
   "outputs": [
    {
     "data": {
      "image/png": "[encoded data removed]",
      "text/plain": [
       "<Figure size 1800x576 with 2 Axes>"
      ]
     },
     "metadata": {
      "needs_background": "light"
     },
     "output_type": "display_data"
    }
   ],
   "source": [
    "plot_relative_mean_cheque()"
   ]
  },
  {
   "cell_type": "markdown",
   "metadata": {},
   "source": [
    "График относительного кумулятивного среднего чека показал аналогичные данные - разница есть лишь из-за аномальных пользователей, при этом в целом она достаточно незначительная - а в последние дни группа В и вовсе проигрывает группе А"
   ]
  },
  {
   "cell_type": "markdown",
   "metadata": {},
   "source": [
    "<div class=\"alert alert-success\">\n",
    "<b>Комментарий ревьюера ✔️:</b> Совершенно верно, данные по чекам несколько отличаются</div>"
   ]
  },
  {
   "cell_type": "markdown",
   "metadata": {},
   "source": [
    "#### Постройте график кумулятивного среднего количества заказов по группам. Сделайте выводы и предположения."
   ]
  },
  {
   "cell_type": "code",
   "execution_count": 43,
   "metadata": {},
   "outputs": [],
   "source": [
    "def plot_cumulative_orders(data_raw=data_raw, data_cleared=data_cleared):\n",
    "    \"\"\"\n",
    "    Функция для построения графиков кумулятивного количества заказов\n",
    "    \"\"\"\n",
    "    \n",
    "    \n",
    "    # Строиим общий график\n",
    "    fig, ax = plt.subplots(1, 2, \n",
    "                           figsize=(20,10),\n",
    "                          sharey=True)\n",
    "    fig.suptitle('График кумулятивного количества заказов: обычные данные | очищенные данные').set_fontsize(24)\n",
    "    \n",
    "    #Строим график по обычным данным:\n",
    "\n",
    "    cumulative_revenue_A_base = data_raw[['date', 'orders_cummulative_A']]\n",
    "    cumulative_revenue_A_base.columns=('date', 'orders')\n",
    "    \n",
    "    cumulative_revenue_B_base = data_raw[['date', 'orders_cummulative_B']]\n",
    "    cumulative_revenue_B_base.columns=('date', 'orders')\n",
    "\n",
    "    sns.lineplot(x=cumulative_revenue_A_base['date'], \n",
    "                 y=cumulative_revenue_A_base['orders'], \n",
    "                 label='A', \n",
    "                 ax=ax[0])\n",
    "    \n",
    "    sns.lineplot(x=cumulative_revenue_B_base['date'], \n",
    "                 y=cumulative_revenue_B_base['orders'], \n",
    "                 label='B',\n",
    "                 ax=ax[0])\n",
    "\n",
    "    \n",
    "    #Строим график по очищенным данным:\n",
    "\n",
    "    cumulative_revenue_A_cleared = data_cleared[['date', 'orders_cummulative_A']]\n",
    "    cumulative_revenue_A_cleared.columns=('date', 'orders')\n",
    "    \n",
    "    cumulative_revenue_B_cleared = data_cleared[['date', 'orders_cummulative_B']]\n",
    "    cumulative_revenue_B_cleared.columns=('date', 'orders')\n",
    "    \n",
    "\n",
    "    sns.lineplot(x=cumulative_revenue_A_cleared['date'], \n",
    "                 y=cumulative_revenue_A_cleared['orders'], \n",
    "                 label='A', \n",
    "                 ax=ax[1])\n",
    "    \n",
    "    sns.lineplot(x=cumulative_revenue_B_cleared['date'], \n",
    "                 y=cumulative_revenue_B_cleared['orders'], \n",
    "                 label='B', \n",
    "                 ax=ax[1])\n",
    "    \n",
    "    plt.ticklabel_format(style='plain', axis='y')\n",
    "    \n",
    "    plt.legend() \n",
    "    plt.show()"
   ]
  },
  {
   "cell_type": "code",
   "execution_count": 44,
   "metadata": {},
   "outputs": [
    {
     "data": {
      "image/png": "[encoded data removed]",
      "text/plain": [
       "<Figure size 1440x720 with 2 Axes>"
      ]
     },
     "metadata": {
      "needs_background": "light"
     },
     "output_type": "display_data"
    }
   ],
   "source": [
    "plot_cumulative_orders()"
   ]
  },
  {
   "cell_type": "markdown",
   "metadata": {},
   "source": [
    "В целом, мы видим, что **особой разницы между неочищенными и очищенными данными нет - группа В стабильно выбивается вперёд по числу заказов.** \n",
    "\n",
    "Давайте посмотрим, насколько с помощью графика относительного числа заказов:"
   ]
  },
  {
   "cell_type": "markdown",
   "metadata": {},
   "source": [
    "<div class=\"alert alert-success\">\n",
    "<b>Комментарий ревьюера ✔️:</b> Да, по количеству заметных отличий нет</div>"
   ]
  },
  {
   "cell_type": "code",
   "execution_count": 45,
   "metadata": {},
   "outputs": [],
   "source": [
    "def plot_relative_cumulative_orders(data=data_raw, data_cleared=data_cleared):\n",
    "    \"\"\"\n",
    "    Функция для построения графика относительного кумулятивного числа заказов группы В к группе А\n",
    "    \"\"\"\n",
    "    \n",
    "    # Строиим общий график\n",
    "    fig, ax = plt.subplots(1, 2, \n",
    "                           figsize=(25,8),\n",
    "                          sharey=True)\n",
    "    fig.suptitle('График относительного кумулятивного числа заказов (группа В к группе А, в %): обычные данные | очищенные данные').set_fontsize(24)\n",
    "    \n",
    "    # Строим график по обычным данным:\n",
    "\n",
    "    cumulative_revenue_A_base = data_raw[['date', 'orders_cummulative_A']]\n",
    "    cumulative_revenue_A_base.columns=('date', 'orders')\n",
    "    \n",
    "    cumulative_revenue_B_base = data_raw[['date', 'orders_cummulative_B']]\n",
    "    cumulative_revenue_B_base.columns=('date', 'orders')\n",
    "    \n",
    "    merged_cumulative_revenue_base = cumulative_revenue_A_base.merge(cumulative_revenue_B_base, \n",
    "                                                            left_on='date', \n",
    "                                                            right_on='date', \n",
    "                                                            how='left', \n",
    "                                                            suffixes=['A', 'B'])\n",
    "    merged_cumulative_revenue_base.columns=['date',  \n",
    "                                            'orders_A', \n",
    "                                            'orders_B']\n",
    "    \n",
    "    sns.lineplot(x=merged_cumulative_revenue_base['date'], \n",
    "                 y=merged_cumulative_revenue_base['orders_B'] / merged_cumulative_revenue_base['orders_A'] - 1, \n",
    "                 ax=ax[0])\n",
    "    ax[0].axhline(y=0, color='black', linestyle='--')\n",
    "    \n",
    "    # Строим график по очищенным данным:\n",
    "\n",
    "    cumulative_revenue_A_cleared = data_cleared[['date', 'orders_cummulative_A']]\n",
    "    cumulative_revenue_A_cleared.columns=('date', 'orders')\n",
    "    \n",
    "    cumulative_revenue_B_cleared = data_cleared[['date', 'orders_cummulative_B']]\n",
    "    cumulative_revenue_B_cleared.columns=('date', 'orders')\n",
    "    \n",
    "    merged_cumulative_revenue_cleared = cumulative_revenue_A_cleared.merge(cumulative_revenue_B_cleared, \n",
    "                                                            left_on='date', \n",
    "                                                            right_on='date', \n",
    "                                                            how='left', \n",
    "                                                            suffixes=['A', 'B'])\n",
    "    merged_cumulative_revenue_cleared.columns=['date',  \n",
    "                                            'orders_A', \n",
    "                                            'orders_B']\n",
    "    \n",
    "    sns.lineplot(x=merged_cumulative_revenue_cleared['date'], \n",
    "                 y=merged_cumulative_revenue_cleared['orders_B'] / merged_cumulative_revenue_cleared['orders_A'] - 1, \n",
    "                 ax=ax[1])\n",
    "    ax[1].axhline(y=0, color='black', linestyle='--')\n",
    "\n",
    "    plt.show()"
   ]
  },
  {
   "cell_type": "code",
   "execution_count": 46,
   "metadata": {},
   "outputs": [
    {
     "data": {
      "image/png": "[encoded data removed]",
      "text/plain": [
       "<Figure size 1800x576 with 2 Axes>"
      ]
     },
     "metadata": {
      "needs_background": "light"
     },
     "output_type": "display_data"
    }
   ],
   "source": [
    "plot_relative_cumulative_orders()"
   ]
  },
  {
   "cell_type": "markdown",
   "metadata": {},
   "source": [
    "График показал нам, что **в среднем разница составляет около 20% в пользу группы В** - значительный прирост. Однако, этот прирост также напрямую связан с тем, что в группе В больше пользователей."
   ]
  },
  {
   "cell_type": "markdown",
   "metadata": {},
   "source": [
    "<div class=\"alert alert-success\">\n",
    "<b>Комментарий ревьюера ✔️:</b> Правильно, отлично</div>"
   ]
  },
  {
   "cell_type": "markdown",
   "metadata": {},
   "source": [
    "### Расчёт статистической значимости результатов теста"
   ]
  },
  {
   "cell_type": "markdown",
   "metadata": {},
   "source": [
    "Здесь и далее **для расчёта статистической значимости будем использовать U-критерий Манна.** Для этого в каждом конкретном случае проверки мы будем исходить из тестирования двух гипотез:\n",
    "\n",
    "- **\"Нулевая гипотеза\": о равенстве тестируемых средних.** В случае, если мы не сможем её отклонить, то полученные данные не будут статистически значимыми.\n",
    "- **\"Альтернативная гипотеза\": тестируемые средние не равны** (гипотеза двухсторонняя - сама по себе может означать, что одно среднее выше или ниже другого).\n",
    "\n",
    "**В качестве альфы** (границы отсечения, в случае превышения которой показателем p-value мы не будем считать данные статистически значимыми) **примем одно из стандартных значений - 0.01.**"
   ]
  },
  {
   "cell_type": "code",
   "execution_count": 52,
   "metadata": {},
   "outputs": [],
   "source": [
    "alpha = 0.01"
   ]
  },
  {
   "cell_type": "markdown",
   "metadata": {},
   "source": [
    "#### Посчитайте статистическую значимость различий в среднем количестве заказов между группами по «сырым» данным. Сделайте выводы и предположения."
   ]
  },
  {
   "cell_type": "code",
   "execution_count": 54,
   "metadata": {},
   "outputs": [
    {
     "name": "stdout",
     "output_type": "stream",
     "text": [
      "P-Value различий составляет: 0.007\n",
      "Различие средних показателей составляет: 0.171\n",
      "Отклоняем нулевую гипотезу о равенстве средних - выводы статистически значимы\n"
     ]
    }
   ],
   "source": [
    "orders_by_users_A = (\n",
    "    orders[orders['group'] == 'A'].groupby('visitor_id', as_index=False).agg({'transaction_id': 'nunique'}))\n",
    "orders_by_users_A.columns = ['visitor_id', 'orders']\n",
    "    \n",
    "orders_by_users_B = (\n",
    "    orders[orders['group'] == 'B'].groupby('visitor_id', as_index=False).agg({'transaction_id': 'nunique'}))\n",
    "orders_by_users_B.columns = ['visitor_id', 'orders']\n",
    "    \n",
    "sample_filtered_A = pd.concat(\n",
    "    [orders_by_users_A['orders'],\n",
    "     pd.Series(0, index=np.arange(data_raw['visitors_per_date_A'].sum() - len(orders_by_users_A['orders'])),\n",
    "               name='orders')\n",
    "    ], axis=0)\n",
    "\n",
    "sample_filtered_B = pd.concat(\n",
    "    [orders_by_users_B['orders'],\n",
    "     pd.Series(0, index=np.arange(data_raw['visitors_per_date_B'].sum() - len(orders_by_users_B['orders'])),\n",
    "               name='orders')\n",
    "    ], axis=0)\n",
    "\n",
    "p_value = stats.mannwhitneyu(sample_filtered_A, sample_filtered_B)[1]\n",
    "mean_diff = (sample_filtered_B.mean() / sample_filtered_A.mean() -1)\n",
    "\n",
    "\n",
    "print('P-Value различий составляет: {0:.3f}'.format(p_value))\n",
    "    \n",
    "print('Различие средних показателей составляет: {0:.3f}'.format(mean_diff))\n",
    "\n",
    "if p_value > alpha:\n",
    "    print(\"Не можем отклонить нулевую гипотезу о равенстве средних\")\n",
    "else:\n",
    "    print(\"Отклоняем нулевую гипотезу о равенстве средних - выводы статистически значимы\")"
   ]
  },
  {
   "cell_type": "markdown",
   "metadata": {},
   "source": [
    "На сырых данных P-value достаточно низкий - что позволяет нам заявить о **статистической значимости теста** с высоким уровнем уверенности в его результатах.\n",
    "\n",
    "Давайте посмотрим, изменятся ли результаты на очищенных данных?"
   ]
  },
  {
   "cell_type": "markdown",
   "metadata": {},
   "source": [
    "<div class=\"alert alert-danger\">\n",
    "<b>Комментарий ревьюера ❌:</b> Но ведь фактически это проверка гипотезы, значит здесь нужно четко сформулировать нулевую и альтернативную гипотезу для этой самой проверки и указать решение по гипотезам) </div>"
   ]
  },
  {
   "cell_type": "markdown",
   "metadata": {},
   "source": [
    "<div class=\"alert alert-info\"> \n",
    "    <b>Комментарий студента:</b> \n",
    "    Согласен, для незнакомых со статистикой и правда не очень понятно выглядит. Добавил описание нулевой/альтернативной гипотез и что они означают в начале, рядом с описанием заданной альфы, а также принты в отдельных ячейках\n",
    "\n",
    "</div>"
   ]
  },
  {
   "cell_type": "markdown",
   "metadata": {},
   "source": [
    "<div class=\"alert alert-success\">\n",
    "<b>Комментарий ревьюера v 2.0 ✔️:</b> Так гораздо нагляднее"
   ]
  },
  {
   "cell_type": "markdown",
   "metadata": {},
   "source": [
    "#### Посчитайте статистическую значимость различий в среднем количестве заказов между группами по «очищенным» данным. Сделайте выводы и предположения."
   ]
  },
  {
   "cell_type": "code",
   "execution_count": 51,
   "metadata": {},
   "outputs": [
    {
     "name": "stdout",
     "output_type": "stream",
     "text": [
      "P-Value различий составляет: 0.004\n",
      "Различие средних показателей составляет: 0.201\n",
      "Отклоняем нулевую гипотезу о равенстве средних - выводы статистически значимы\n"
     ]
    }
   ],
   "source": [
    "orders_by_users_A = (\n",
    "    orders_cleared[orders_cleared['group'] == 'A'].groupby('visitor_id', as_index=False).agg({'transaction_id': 'nunique'}))\n",
    "orders_by_users_A.columns = ['visitor_id', 'orders']\n",
    "    \n",
    "orders_by_users_B = (\n",
    "    orders_cleared[orders_cleared['group'] == 'B'].groupby('visitor_id', as_index=False).agg({'transaction_id': 'nunique'}))\n",
    "orders_by_users_B.columns = ['visitor_id', 'orders']\n",
    "    \n",
    "sample_filtered_A = pd.concat(\n",
    "    [orders_by_users_A['orders'],\n",
    "     pd.Series(0, index=np.arange(data_cleared['visitors_per_date_A'].sum() - len(orders_by_users_A['orders'])),\n",
    "               name='orders')\n",
    "    ], axis=0)\n",
    "\n",
    "sample_filtered_B = pd.concat(\n",
    "    [orders_by_users_B['orders'],\n",
    "     pd.Series(0, index=np.arange(data_cleared['visitors_per_date_B'].sum() - len(orders_by_users_B['orders'])),\n",
    "               name='orders')\n",
    "    ], axis=0)\n",
    "\n",
    "p_value = stats.mannwhitneyu(sample_filtered_A, sample_filtered_B)[1]\n",
    "mean_diff = (sample_filtered_B.mean() / sample_filtered_A.mean() -1)\n",
    "\n",
    "print('P-Value различий составляет: {0:.3f}'.format(p_value))\n",
    "    \n",
    "print('Различие средних показателей составляет: {0:.3f}'.format(mean_diff))\n",
    "\n",
    "if p_value > alpha:\n",
    "    print(\"Не можем отклонить нулевую гипотезу о равенстве средних\")\n",
    "else:\n",
    "    print(\"Отклоняем нулевую гипотезу о равенстве средних - выводы статистически значимы\")"
   ]
  },
  {
   "cell_type": "markdown",
   "metadata": {},
   "source": [
    "На очищенных данных показатели даже улучшились - одновременно **выросло различие средних показателей (в пользу группы В)** и **снизился p-value**, что позволяет нам с ещё большей уверенностью заявить о статистической значимости теста."
   ]
  },
  {
   "cell_type": "markdown",
   "metadata": {},
   "source": [
    "<div class=\"alert alert-danger\">\n",
    "<b>Комментарий ревьюера ❌:</b> Здесь и далее также укажи пожалуйста гипотезы по проводимому тесту </div>"
   ]
  },
  {
   "cell_type": "markdown",
   "metadata": {},
   "source": [
    "<div class=\"alert alert-info\"> \n",
    "    <b>Комментарий студента:</b> \n",
    "    Указал тестируемые гипотезы в начале, а также добавил принты с отметкой \"нулевую гипотезу о равенстве средних...\"\n",
    "\n",
    "</div>\n",
    "\n",
    "</div>"
   ]
  },
  {
   "cell_type": "markdown",
   "metadata": {},
   "source": [
    "<div class=\"alert alert-success\">\n",
    "<b>Комментарий ревьюера v 2.0 ✔️:</b> Теперь без замечаний, молодец!"
   ]
  },
  {
   "cell_type": "markdown",
   "metadata": {},
   "source": [
    "#### Посчитайте статистическую значимость различий в среднем чеке заказа между группами по «сырым» данным. Сделайте выводы и предположения."
   ]
  },
  {
   "cell_type": "code",
   "execution_count": 55,
   "metadata": {},
   "outputs": [
    {
     "name": "stdout",
     "output_type": "stream",
     "text": [
      "P-Value различий составляет: 0.829\n",
      "Различие средних показателей составляет: 0.287\n",
      "Не можем отклонить нулевую гипотезу о равенстве средних\n"
     ]
    }
   ],
   "source": [
    "revenue_A = orders.query('group == \"A\"')['revenue']\n",
    "revenue_B = orders.query('group == \"B\"')['revenue']\n",
    "\n",
    "p_value = stats.mannwhitneyu(revenue_A, revenue_B)[1]\n",
    "mean_diff = (revenue_B.mean() / revenue_A.mean() -1)\n",
    "\n",
    "print('P-Value различий составляет: {0:.3f}'.format(p_value))\n",
    "    \n",
    "print('Различие средних показателей составляет: {0:.3f}'.format(mean_diff))\n",
    "\n",
    "if p_value > alpha:\n",
    "    print(\"Не можем отклонить нулевую гипотезу о равенстве средних\")\n",
    "else:\n",
    "    print(\"Отклоняем нулевую гипотезу о равенстве средних - выводы статистически значимы\")"
   ]
  },
  {
   "cell_type": "markdown",
   "metadata": {},
   "source": [
    "Несмотря на наличие разницы в средних показателях **мы не можем делать выводов по средним чекам \"сырых\" данных - значение p-value во много раз превосходит заданную альфу.**"
   ]
  },
  {
   "cell_type": "markdown",
   "metadata": {},
   "source": [
    "<div class=\"alert alert-success\">\n",
    "<b>Комментарий ревьюера ✔️:</b> По самому же выводу в целом  корректно </div>"
   ]
  },
  {
   "cell_type": "markdown",
   "metadata": {},
   "source": [
    "<div class=\"alert alert-info\"> \n",
    "    <b>Комментарий студента:</b> \n",
    "    Указал тестируемые гипотезы в начале, а также добавил принты с отметкой \"нулевую гипотезу о равенстве средних...\"\n",
    "\n",
    "</div>\n",
    "\n",
    "</div>"
   ]
  },
  {
   "cell_type": "markdown",
   "metadata": {},
   "source": [
    "<div class=\"alert alert-success\">\n",
    "<b>Комментарий ревьюера v 2.0 ✔️:</b> Хорошо"
   ]
  },
  {
   "cell_type": "markdown",
   "metadata": {},
   "source": [
    "#### Посчитайте статистическую значимость различий в среднем чеке заказа между группами по «очищенным» данным. Сделайте выводы и предположения."
   ]
  },
  {
   "cell_type": "code",
   "execution_count": 56,
   "metadata": {},
   "outputs": [
    {
     "name": "stdout",
     "output_type": "stream",
     "text": [
      "P-Value различий составляет: 0.788\n",
      "Различие средних показателей составляет: -0.032\n",
      "Не можем отклонить нулевую гипотезу о равенстве средних\n"
     ]
    }
   ],
   "source": [
    "revenue_A_cleared = orders_cleared.query('group == \"A\"')['revenue']\n",
    "revenue_B_cleared = orders_cleared.query('group == \"B\"')['revenue']\n",
    "\n",
    "p_value = stats.mannwhitneyu(revenue_A_cleared, revenue_B_cleared)[1]\n",
    "mean_diff = (revenue_B_cleared.mean() / revenue_A_cleared.mean() -1)\n",
    "\n",
    "print('P-Value различий составляет: {0:.3f}'.format(p_value))\n",
    "    \n",
    "print('Различие средних показателей составляет: {0:.3f}'.format(mean_diff))\n",
    "\n",
    "if p_value > alpha:\n",
    "    print(\"Не можем отклонить нулевую гипотезу о равенстве средних\")\n",
    "else:\n",
    "    print(\"Отклоняем нулевую гипотезу о равенстве средних - выводы статистически значимы\")"
   ]
  },
  {
   "cell_type": "markdown",
   "metadata": {},
   "source": [
    "Статистический анализ очищенных данных также показал **значение P-value, превышающее заданную альфу - мы не можем сделать статистически значимых выводов на основании имеющейся у нас информации.**"
   ]
  },
  {
   "cell_type": "markdown",
   "metadata": {},
   "source": [
    "<div class=\"alert alert-block alert-danger\">\n",
    "    \n",
    "<b>Комментарий ревьюера ❌:</b> Обрати внимание здесь и во всех выводах, что не совсем корректно говорить про \"высокое\", \"низкое\", \"большое\", \"маленькое\" значение p-value, оно может быть только выше или ниже a. Мы ведь условно говоря, не можем определить с какого момента настало это \"высоко\" или \"низко\"\n",
    "    \n",
    "</div>"
   ]
  },
  {
   "cell_type": "markdown",
   "metadata": {},
   "source": [
    "<div class=\"alert alert-info\"> \n",
    "    <b>Комментарий студента:</b> \n",
    "    Согласен. Добавил в начале описание альфы, заданное значение, а также изменил сам вывод на соответствующий.\n",
    "\n",
    "</div>\n",
    "\n",
    "</div>"
   ]
  },
  {
   "cell_type": "markdown",
   "metadata": {},
   "source": [
    "<div class=\"alert alert-success\">\n",
    "<b>Комментарий ревьюера v 2.0 ✔️:</b> Всё корректно"
   ]
  },
  {
   "cell_type": "markdown",
   "metadata": {},
   "source": [
    "### Общие выводы"
   ]
  },
  {
   "cell_type": "markdown",
   "metadata": {},
   "source": [
    "**Приоритизация гипотез**:\n",
    "- Применение альтернативной методики ***(RICE вместо ICE)*** оказало влияние на структуру гипотез и их приоритет при тестировании. \n",
    "- Причина - добавление новой переменной в формулу (`Reach`), которая обозначает **\"охват\" гипотезы** - сколько пользователей затронет её имплементация в финальную версию продукта.\n",
    "- **Изменения затронули структуру гипотез**, в первую очередь для гипотез, которые имеют большой показатель `ICE` - изменив их порядок, вывев на первые места гипотезы, которые затронут большее число людей:"
   ]
  },
  {
   "cell_type": "markdown",
   "metadata": {},
   "source": [
    "**Предобработка данных**:\n",
    "- В рамках предобработки данных для АВ теста были проведены следующие действия:\n",
    "    - Из данных были удалены **записи о 58 пользователях**, которые попали в обе группы в рамках тестирования - их попадание в обе группы могло исказить результаты и изменить их реакцию на те или иные тестируемые компоненты.\n",
    "    - Из данных было удалено **16 аномальных пользователя** - с аномальной выручкой или количеством заказов. Информация о них была добавлена в отдельную табличку, которую можно использовать в другом анализе."
   ]
  },
  {
   "cell_type": "markdown",
   "metadata": {},
   "source": [
    "**Проведение А/В теста:**\n",
    "\n",
    "- Распределение пользователей между группами корректно - равное число попало в группу А и в группу В, а значит разница в тестируемых метриках связана именно с различием между характеристиками тестируемого изменения.\n",
    "\n",
    "- Заметно **улучшение показателей выручки группы В к группе А.** После определённого \"провала\" в начале показатель стабилизировался и на данный момент демонстрирует улучшение в 10-20%, что является достаточно хорошим результатов.\n",
    "\n",
    "\n",
    "- **Очистка данных позволила улучшить показатели**, однако в целом выводы остаются прежними (~20% преимущества у группы В)\n",
    "    - **До очистки показатели выручки обеих групп в целом были гораздо выше** - что, конечно, соответствует действительности, но именно за счёт аномальных пользователей, исключение которых из текущего анализа оказало значительное влияние на показатели прибыли.\n",
    "    - **Без очистки группа В показывала гораздо более высокие результаты,** что само по себе может быть интересным маркером - возможно, изменение тестируемого элемента привело к появлению аномальных пользователей, однако эта гипотеза нуждается в дальнейшей проверке за рамками данного проекта.\n",
    "    - Очистка данных также убрала **аномальное падение и аномальный взлёт** относительной кумулятивной выручки группы В.\n",
    "    \n",
    "\n",
    "- Анализ кумулятивных средних чеков показал, что **различия между группам есть - но только в неочищенных данных,** что говорит о том, что само изменение среднего чека в первую очередь связано с аномальными пользователями, осуществлявшими дорогие покупки в группе В. На очищенных данных этой разницы практически нет** - заметны колебания исследуемой метрики, при этом **в последние дни наблюдения показатели группы В и вовсе оказались несколько хуже.**\n",
    "\n",
    "\n",
    "- Анализ среднего числа заказов показал нам, что **в среднем разница составляет около 20% в пользу группы В** - значительный прирост."
   ]
  },
  {
   "cell_type": "markdown",
   "metadata": {},
   "source": [
    "**Вывод по значимости теста**:\n",
    "- Мы можем сделать вывод о **статистической значимости различий между числом заказов в разных группах - группа В выигрывает с отрывом в ~20%, что говорит о более высокой конверсии посещений в заказы в группе В.**\n",
    "- При этом **мы не можем сделать статистически значимых выводов о размере среднего чека** - достаточно значимых (и статистически, и с точки зрения банальной разницы средних) различий в ходе исследования обнаружено не было."
   ]
  },
  {
   "cell_type": "markdown",
   "metadata": {},
   "source": [
    "**Оценка значимости теста в целом**:\n",
    "*Примите решение по результатам теста и объясните его. Варианты решений: 1. Остановить тест, зафиксировать победу одной из групп. 2. Остановить тест, зафиксировать отсутствие различий между группами. 3. Продолжить тест.*\n",
    "\n",
    "На основании решения задач, а так что допустимой сопоставимости размера групп, размера выборки и продолжительности теста мы можем **завершить тест, и отметить заметное увеличение конверсии в продажи в группе В, тем самым обозначив её победу.**"
   ]
  },
  {
   "cell_type": "markdown",
   "metadata": {},
   "source": [
    "<div class=\"alert alert-success\">\n",
    "<b>Комментарий ревьюера ✔️:</b> Общий вывод сформулирован классно. Все по пунктам и есть решение по самому результату проведения</div>"
   ]
  },
  {
   "cell_type": "markdown",
   "metadata": {},
   "source": [
    "<div class=\"alert alert-success\">\n",
    "<b>Комментарий ревьюера ✔️:</b> Семен, проект отличный! У тебя сильные аналитические навыки, владение инструментами для проведения исследования, понимание статистики и навыки продуктовой аналитики. Но всё же в проекте есть несколько замечаний и я попрошу тебя исправить их, чтобы он стал еще лучше! </div>"
   ]
  },
  {
   "cell_type": "markdown",
   "metadata": {},
   "source": [
    "<div class=\"alert alert-info\"> \n",
    "    <b>Комментарий студента:</b> \n",
    "    Большое спасибо за приятные слова и полезные замечания. Внёс необходимые правки, также поправил несколько микро-ошибок и немного подвычитал на орфографию. Отправляю проект на повторную провреку.\n",
    "\n",
    "</div>\n",
    "\n",
    "</div>"
   ]
  },
  {
   "cell_type": "markdown",
   "metadata": {},
   "source": [
    "<div class=\"alert alert-success\">\n",
    "<b>Комментарий ревьюера v 2.0 ✔️:</b> Классно доработал проект"
   ]
  }
 ],
 "metadata": {
  "ExecuteTimeLog": [
   {
    "duration": 1252,
    "start_time": "2022-10-13T14:24:49.056Z"
   },
   {
    "duration": 108,
    "start_time": "2022-10-13T14:28:20.673Z"
   },
   {
    "duration": 21,
    "start_time": "2022-10-13T14:29:10.818Z"
   },
   {
    "duration": 25,
    "start_time": "2022-10-13T14:29:44.791Z"
   },
   {
    "duration": 5,
    "start_time": "2022-10-13T14:30:29.202Z"
   },
   {
    "duration": 2,
    "start_time": "2022-10-13T14:31:26.219Z"
   },
   {
    "duration": 92,
    "start_time": "2022-10-13T14:33:17.853Z"
   },
   {
    "duration": 9,
    "start_time": "2022-10-13T14:33:25.063Z"
   },
   {
    "duration": 4,
    "start_time": "2022-10-13T14:33:30.863Z"
   },
   {
    "duration": 40,
    "start_time": "2022-10-13T14:33:57.058Z"
   },
   {
    "duration": 53,
    "start_time": "2022-10-13T14:34:17.404Z"
   },
   {
    "duration": 44,
    "start_time": "2022-10-13T14:34:26.510Z"
   },
   {
    "duration": 3,
    "start_time": "2022-10-13T14:34:29.043Z"
   },
   {
    "duration": 10,
    "start_time": "2022-10-13T14:35:37.185Z"
   },
   {
    "duration": 9,
    "start_time": "2022-10-13T14:35:48.827Z"
   },
   {
    "duration": 9,
    "start_time": "2022-10-13T14:36:07.051Z"
   },
   {
    "duration": 13,
    "start_time": "2022-10-13T14:37:05.276Z"
   },
   {
    "duration": 5,
    "start_time": "2022-10-13T14:43:29.869Z"
   },
   {
    "duration": 11,
    "start_time": "2022-10-13T14:44:15.169Z"
   },
   {
    "duration": 23,
    "start_time": "2022-10-13T14:44:54.773Z"
   },
   {
    "duration": 11,
    "start_time": "2022-10-13T14:44:59.358Z"
   },
   {
    "duration": 15,
    "start_time": "2022-10-13T14:46:40.611Z"
   },
   {
    "duration": 4,
    "start_time": "2022-10-13T14:48:40.984Z"
   },
   {
    "duration": 25,
    "start_time": "2022-10-13T15:08:42.489Z"
   },
   {
    "duration": 9,
    "start_time": "2022-10-13T15:08:53.712Z"
   },
   {
    "duration": 3,
    "start_time": "2022-10-13T15:09:21.657Z"
   },
   {
    "duration": 18,
    "start_time": "2022-10-13T15:09:25.496Z"
   },
   {
    "duration": 26,
    "start_time": "2022-10-13T15:09:42.490Z"
   },
   {
    "duration": 8,
    "start_time": "2022-10-13T15:09:48.384Z"
   },
   {
    "duration": 50,
    "start_time": "2022-10-13T15:10:13.985Z"
   },
   {
    "duration": 4,
    "start_time": "2022-10-13T15:10:21.384Z"
   },
   {
    "duration": 7,
    "start_time": "2022-10-13T15:10:44.761Z"
   },
   {
    "duration": 14,
    "start_time": "2022-10-13T15:11:13.945Z"
   },
   {
    "duration": 25,
    "start_time": "2022-10-13T15:11:50.458Z"
   },
   {
    "duration": 20,
    "start_time": "2022-10-13T15:13:37.952Z"
   },
   {
    "duration": 25,
    "start_time": "2022-10-13T15:13:49.439Z"
   },
   {
    "duration": 26,
    "start_time": "2022-10-13T15:14:15.117Z"
   },
   {
    "duration": 46,
    "start_time": "2022-10-13T15:14:20.325Z"
   },
   {
    "duration": 96,
    "start_time": "2022-10-13T15:15:16.873Z"
   },
   {
    "duration": 148,
    "start_time": "2022-10-13T15:27:27.179Z"
   },
   {
    "duration": 14,
    "start_time": "2022-10-13T15:28:45.201Z"
   },
   {
    "duration": 118,
    "start_time": "2022-10-13T15:28:54.538Z"
   },
   {
    "duration": 101,
    "start_time": "2022-10-13T15:29:16.951Z"
   },
   {
    "duration": 103,
    "start_time": "2022-10-13T15:29:51.869Z"
   },
   {
    "duration": 171,
    "start_time": "2022-10-13T15:30:56.401Z"
   },
   {
    "duration": 153,
    "start_time": "2022-10-13T15:31:25.242Z"
   },
   {
    "duration": 151,
    "start_time": "2022-10-13T15:31:28.874Z"
   },
   {
    "duration": 158,
    "start_time": "2022-10-13T15:31:46.771Z"
   },
   {
    "duration": 197,
    "start_time": "2022-10-13T15:32:31.174Z"
   },
   {
    "duration": 50,
    "start_time": "2022-10-13T15:32:39.614Z"
   },
   {
    "duration": 181,
    "start_time": "2022-10-13T15:32:42.664Z"
   },
   {
    "duration": 177,
    "start_time": "2022-10-13T15:32:44.991Z"
   },
   {
    "duration": 166,
    "start_time": "2022-10-13T15:33:03.465Z"
   },
   {
    "duration": 157,
    "start_time": "2022-10-13T15:33:08.183Z"
   },
   {
    "duration": 11,
    "start_time": "2022-10-13T15:35:15.251Z"
   },
   {
    "duration": 8,
    "start_time": "2022-10-13T15:35:23.547Z"
   },
   {
    "duration": 7,
    "start_time": "2022-10-13T15:35:35.615Z"
   },
   {
    "duration": 6,
    "start_time": "2022-10-13T15:35:59.377Z"
   },
   {
    "duration": 188,
    "start_time": "2022-10-13T15:36:48.889Z"
   },
   {
    "duration": 160,
    "start_time": "2022-10-13T15:37:02.617Z"
   },
   {
    "duration": 1004,
    "start_time": "2022-10-13T15:38:10.012Z"
   },
   {
    "duration": 148,
    "start_time": "2022-10-13T15:38:16.052Z"
   },
   {
    "duration": 7,
    "start_time": "2022-10-13T15:39:18.540Z"
   },
   {
    "duration": 7,
    "start_time": "2022-10-13T15:39:22.865Z"
   },
   {
    "duration": 4,
    "start_time": "2022-10-13T15:41:11.393Z"
   },
   {
    "duration": 5,
    "start_time": "2022-10-13T16:54:09.126Z"
   },
   {
    "duration": 9,
    "start_time": "2022-10-13T16:54:15.271Z"
   },
   {
    "duration": 79,
    "start_time": "2022-10-13T16:55:57.897Z"
   },
   {
    "duration": 14,
    "start_time": "2022-10-13T16:56:04.455Z"
   },
   {
    "duration": 278,
    "start_time": "2022-10-13T16:56:21.680Z"
   },
   {
    "duration": 16,
    "start_time": "2022-10-13T16:56:33.859Z"
   },
   {
    "duration": 361,
    "start_time": "2022-10-13T16:56:38.796Z"
   },
   {
    "duration": 240,
    "start_time": "2022-10-13T16:57:08.233Z"
   },
   {
    "duration": 358,
    "start_time": "2022-10-13T16:57:32.828Z"
   },
   {
    "duration": 19,
    "start_time": "2022-10-13T16:59:35.297Z"
   },
   {
    "duration": 20,
    "start_time": "2022-10-13T16:59:56.118Z"
   },
   {
    "duration": 13,
    "start_time": "2022-10-13T17:00:48.376Z"
   },
   {
    "duration": 9,
    "start_time": "2022-10-13T17:00:59.529Z"
   },
   {
    "duration": 11,
    "start_time": "2022-10-13T17:01:39.979Z"
   },
   {
    "duration": 9,
    "start_time": "2022-10-13T17:01:46.147Z"
   },
   {
    "duration": 8,
    "start_time": "2022-10-13T17:02:29.738Z"
   },
   {
    "duration": 13,
    "start_time": "2022-10-13T17:04:24.196Z"
   },
   {
    "duration": 15,
    "start_time": "2022-10-13T17:04:42.831Z"
   },
   {
    "duration": 6,
    "start_time": "2022-10-13T17:05:00.068Z"
   },
   {
    "duration": 11,
    "start_time": "2022-10-13T17:05:08.090Z"
   },
   {
    "duration": 86,
    "start_time": "2022-10-13T17:05:50.487Z"
   },
   {
    "duration": 11,
    "start_time": "2022-10-13T17:06:04.081Z"
   },
   {
    "duration": 4,
    "start_time": "2022-10-13T17:12:00.985Z"
   },
   {
    "duration": 80,
    "start_time": "2022-10-13T17:12:03.211Z"
   },
   {
    "duration": 52,
    "start_time": "2022-10-13T17:12:11.331Z"
   },
   {
    "duration": 3,
    "start_time": "2022-10-13T17:12:34.467Z"
   },
   {
    "duration": 13,
    "start_time": "2022-10-13T17:12:40.726Z"
   },
   {
    "duration": 3,
    "start_time": "2022-10-13T17:12:48.176Z"
   },
   {
    "duration": 10,
    "start_time": "2022-10-13T17:12:50.843Z"
   },
   {
    "duration": 78,
    "start_time": "2022-10-13T17:15:13.255Z"
   },
   {
    "duration": 80,
    "start_time": "2022-10-13T17:15:24.297Z"
   },
   {
    "duration": 48,
    "start_time": "2022-10-13T17:15:27.940Z"
   },
   {
    "duration": 81,
    "start_time": "2022-10-13T17:15:34.038Z"
   },
   {
    "duration": 4,
    "start_time": "2022-10-13T17:15:42.545Z"
   },
   {
    "duration": 4,
    "start_time": "2022-10-13T17:15:46.755Z"
   },
   {
    "duration": 4,
    "start_time": "2022-10-13T17:16:59.956Z"
   },
   {
    "duration": 193,
    "start_time": "2022-10-13T17:18:27.296Z"
   },
   {
    "duration": 6,
    "start_time": "2022-10-13T17:21:23.346Z"
   },
   {
    "duration": 4,
    "start_time": "2022-10-13T17:21:41.760Z"
   },
   {
    "duration": 7,
    "start_time": "2022-10-13T17:22:39.718Z"
   },
   {
    "duration": 15,
    "start_time": "2022-10-13T17:22:49.418Z"
   },
   {
    "duration": 8,
    "start_time": "2022-10-13T17:23:06.774Z"
   },
   {
    "duration": 1354,
    "start_time": "2022-10-13T17:23:50.532Z"
   },
   {
    "duration": 9,
    "start_time": "2022-10-13T17:24:03.055Z"
   },
   {
    "duration": 24,
    "start_time": "2022-10-13T17:24:45.289Z"
   },
   {
    "duration": 28,
    "start_time": "2022-10-13T17:25:06.540Z"
   },
   {
    "duration": 14,
    "start_time": "2022-10-13T17:25:18.856Z"
   },
   {
    "duration": 54,
    "start_time": "2022-10-13T17:25:24.291Z"
   },
   {
    "duration": 12,
    "start_time": "2022-10-13T17:25:29.149Z"
   },
   {
    "duration": 34,
    "start_time": "2022-10-13T17:25:32.962Z"
   },
   {
    "duration": 22,
    "start_time": "2022-10-13T17:25:52.826Z"
   },
   {
    "duration": 15,
    "start_time": "2022-10-13T17:26:05.626Z"
   },
   {
    "duration": 259,
    "start_time": "2022-10-13T17:26:11.198Z"
   },
   {
    "duration": 24,
    "start_time": "2022-10-13T17:26:52.962Z"
   },
   {
    "duration": 15,
    "start_time": "2022-10-13T17:27:18.864Z"
   },
   {
    "duration": 17,
    "start_time": "2022-10-13T17:27:36.258Z"
   },
   {
    "duration": 18,
    "start_time": "2022-10-13T17:27:42.634Z"
   },
   {
    "duration": 32,
    "start_time": "2022-10-13T17:27:49.564Z"
   },
   {
    "duration": 56,
    "start_time": "2022-10-13T17:27:50.737Z"
   },
   {
    "duration": 38,
    "start_time": "2022-10-13T17:27:50.892Z"
   },
   {
    "duration": 33,
    "start_time": "2022-10-13T17:27:51.210Z"
   },
   {
    "duration": 5,
    "start_time": "2022-10-13T17:27:51.370Z"
   },
   {
    "duration": 7,
    "start_time": "2022-10-13T17:27:51.538Z"
   },
   {
    "duration": 4,
    "start_time": "2022-10-13T17:27:51.681Z"
   },
   {
    "duration": 10,
    "start_time": "2022-10-13T17:27:51.982Z"
   },
   {
    "duration": 15,
    "start_time": "2022-10-13T17:27:52.282Z"
   },
   {
    "duration": 23,
    "start_time": "2022-10-13T17:27:53.333Z"
   },
   {
    "duration": 29,
    "start_time": "2022-10-13T17:27:54.688Z"
   },
   {
    "duration": 20,
    "start_time": "2022-10-13T17:27:56.854Z"
   },
   {
    "duration": 12,
    "start_time": "2022-10-13T17:28:06.978Z"
   },
   {
    "duration": 8,
    "start_time": "2022-10-13T17:28:18.190Z"
   },
   {
    "duration": 4,
    "start_time": "2022-10-13T17:28:25.880Z"
   },
   {
    "duration": 9,
    "start_time": "2022-10-13T17:28:27.771Z"
   },
   {
    "duration": 10,
    "start_time": "2022-10-13T17:28:32.663Z"
   },
   {
    "duration": 14,
    "start_time": "2022-10-13T17:28:33.931Z"
   },
   {
    "duration": 4,
    "start_time": "2022-10-13T17:28:35.287Z"
   },
   {
    "duration": 179,
    "start_time": "2022-10-13T17:28:38.834Z"
   },
   {
    "duration": 252,
    "start_time": "2022-10-13T17:28:39.776Z"
   },
   {
    "duration": 4,
    "start_time": "2022-10-13T17:28:48.439Z"
   },
   {
    "duration": 6,
    "start_time": "2022-10-13T17:28:51.291Z"
   },
   {
    "duration": 172,
    "start_time": "2022-10-13T17:28:52.031Z"
   },
   {
    "duration": 7,
    "start_time": "2022-10-13T17:28:55.334Z"
   },
   {
    "duration": 20,
    "start_time": "2022-10-13T17:29:01.022Z"
   },
   {
    "duration": 24,
    "start_time": "2022-10-13T17:29:14.741Z"
   },
   {
    "duration": 5,
    "start_time": "2022-10-13T17:31:03.568Z"
   },
   {
    "duration": 7,
    "start_time": "2022-10-13T17:31:08.934Z"
   },
   {
    "duration": 10,
    "start_time": "2022-10-13T17:31:49.652Z"
   },
   {
    "duration": 64,
    "start_time": "2022-10-13T17:33:50.316Z"
   },
   {
    "duration": 39,
    "start_time": "2022-10-13T17:33:53.049Z"
   },
   {
    "duration": 3,
    "start_time": "2022-10-13T17:33:56.360Z"
   },
   {
    "duration": 4,
    "start_time": "2022-10-13T17:34:17.647Z"
   },
   {
    "duration": 5,
    "start_time": "2022-10-13T17:34:25.651Z"
   },
   {
    "duration": 8,
    "start_time": "2022-10-13T17:36:59.735Z"
   },
   {
    "duration": 3,
    "start_time": "2022-10-13T18:08:31.695Z"
   },
   {
    "duration": 13,
    "start_time": "2022-10-13T18:08:43.072Z"
   },
   {
    "duration": 84,
    "start_time": "2022-10-13T18:10:54.982Z"
   },
   {
    "duration": 97,
    "start_time": "2022-10-13T18:11:00.524Z"
   },
   {
    "duration": 15,
    "start_time": "2022-10-13T18:11:02.468Z"
   },
   {
    "duration": 206,
    "start_time": "2022-10-13T18:11:07.477Z"
   },
   {
    "duration": 191,
    "start_time": "2022-10-13T18:11:16.831Z"
   },
   {
    "duration": 193,
    "start_time": "2022-10-13T18:11:26.040Z"
   },
   {
    "duration": 204,
    "start_time": "2022-10-13T18:11:56.471Z"
   },
   {
    "duration": 211,
    "start_time": "2022-10-13T18:12:10.981Z"
   },
   {
    "duration": 178,
    "start_time": "2022-10-13T18:12:28.835Z"
   },
   {
    "duration": 180,
    "start_time": "2022-10-13T18:14:32.739Z"
   },
   {
    "duration": 949,
    "start_time": "2022-10-13T18:15:17.332Z"
   },
   {
    "duration": 1034,
    "start_time": "2022-10-13T18:15:23.731Z"
   },
   {
    "duration": 239,
    "start_time": "2022-10-13T18:15:44.384Z"
   },
   {
    "duration": 292,
    "start_time": "2022-10-13T18:15:45.247Z"
   },
   {
    "duration": 49,
    "start_time": "2022-10-13T18:18:32.747Z"
   },
   {
    "duration": 18,
    "start_time": "2022-10-13T18:18:42.062Z"
   },
   {
    "duration": 1088,
    "start_time": "2022-10-13T18:18:51.382Z"
   },
   {
    "duration": 25,
    "start_time": "2022-10-13T18:19:06.130Z"
   },
   {
    "duration": 50,
    "start_time": "2022-10-13T18:19:50.330Z"
   },
   {
    "duration": 75,
    "start_time": "2022-10-13T18:20:15.263Z"
   },
   {
    "duration": 13,
    "start_time": "2022-10-13T18:20:22.055Z"
   },
   {
    "duration": 12,
    "start_time": "2022-10-13T18:20:27.955Z"
   },
   {
    "duration": 144,
    "start_time": "2022-10-13T18:20:36.228Z"
   },
   {
    "duration": 281,
    "start_time": "2022-10-13T18:20:56.229Z"
   },
   {
    "duration": 301,
    "start_time": "2022-10-13T18:21:17.740Z"
   },
   {
    "duration": 294,
    "start_time": "2022-10-13T18:21:28.131Z"
   },
   {
    "duration": 331,
    "start_time": "2022-10-13T18:21:53.410Z"
   },
   {
    "duration": 283,
    "start_time": "2022-10-13T18:22:03.041Z"
   },
   {
    "duration": 1311,
    "start_time": "2022-10-16T15:42:28.311Z"
   },
   {
    "duration": 1165,
    "start_time": "2022-10-16T15:42:37.100Z"
   },
   {
    "duration": 242,
    "start_time": "2022-10-16T15:42:39.293Z"
   },
   {
    "duration": 19,
    "start_time": "2022-10-16T15:42:39.541Z"
   },
   {
    "duration": 22,
    "start_time": "2022-10-16T15:42:39.881Z"
   },
   {
    "duration": 7,
    "start_time": "2022-10-16T15:42:40.019Z"
   },
   {
    "duration": 3,
    "start_time": "2022-10-16T15:42:40.162Z"
   },
   {
    "duration": 3,
    "start_time": "2022-10-16T15:42:40.335Z"
   },
   {
    "duration": 11,
    "start_time": "2022-10-16T15:42:40.646Z"
   },
   {
    "duration": 12,
    "start_time": "2022-10-16T15:42:40.895Z"
   },
   {
    "duration": 12,
    "start_time": "2022-10-16T15:42:41.591Z"
   },
   {
    "duration": 11,
    "start_time": "2022-10-16T15:42:42.115Z"
   },
   {
    "duration": 10,
    "start_time": "2022-10-16T15:42:43.821Z"
   },
   {
    "duration": 9,
    "start_time": "2022-10-16T15:42:44.469Z"
   },
   {
    "duration": 5,
    "start_time": "2022-10-16T15:42:44.801Z"
   },
   {
    "duration": 174,
    "start_time": "2022-10-16T15:42:46.082Z"
   },
   {
    "duration": 168,
    "start_time": "2022-10-16T15:42:46.471Z"
   },
   {
    "duration": 4,
    "start_time": "2022-10-16T15:42:47.235Z"
   },
   {
    "duration": 6,
    "start_time": "2022-10-16T15:42:48.419Z"
   },
   {
    "duration": 158,
    "start_time": "2022-10-16T15:42:48.651Z"
   },
   {
    "duration": 4,
    "start_time": "2022-10-16T15:42:49.876Z"
   },
   {
    "duration": 16,
    "start_time": "2022-10-16T15:42:51.105Z"
   },
   {
    "duration": 4,
    "start_time": "2022-10-16T15:42:53.294Z"
   },
   {
    "duration": 3,
    "start_time": "2022-10-16T15:42:55.962Z"
   },
   {
    "duration": 9,
    "start_time": "2022-10-16T15:43:06.378Z"
   },
   {
    "duration": 101,
    "start_time": "2022-10-16T15:43:33.123Z"
   },
   {
    "duration": 4,
    "start_time": "2022-10-16T15:44:01.970Z"
   },
   {
    "duration": 172,
    "start_time": "2022-10-16T15:44:10.245Z"
   },
   {
    "duration": 104,
    "start_time": "2022-10-16T15:44:21.572Z"
   },
   {
    "duration": 5,
    "start_time": "2022-10-16T15:46:06.568Z"
   },
   {
    "duration": 171,
    "start_time": "2022-10-16T15:46:38.332Z"
   },
   {
    "duration": 3,
    "start_time": "2022-10-16T15:47:30.908Z"
   },
   {
    "duration": 345,
    "start_time": "2022-10-16T15:47:48.430Z"
   },
   {
    "duration": 3,
    "start_time": "2022-10-16T15:48:15.253Z"
   },
   {
    "duration": 365,
    "start_time": "2022-10-16T15:48:15.894Z"
   },
   {
    "duration": 3,
    "start_time": "2022-10-16T15:48:22.458Z"
   },
   {
    "duration": 291,
    "start_time": "2022-10-16T15:48:22.943Z"
   },
   {
    "duration": 3,
    "start_time": "2022-10-16T15:48:28.347Z"
   },
   {
    "duration": 313,
    "start_time": "2022-10-16T15:48:28.718Z"
   },
   {
    "duration": 3,
    "start_time": "2022-10-16T15:48:34.046Z"
   },
   {
    "duration": 303,
    "start_time": "2022-10-16T15:48:34.298Z"
   },
   {
    "duration": 9,
    "start_time": "2022-10-16T15:49:02.638Z"
   },
   {
    "duration": 383,
    "start_time": "2022-10-16T15:49:06.299Z"
   },
   {
    "duration": 3,
    "start_time": "2022-10-16T15:50:58.386Z"
   },
   {
    "duration": 158,
    "start_time": "2022-10-16T15:50:59.111Z"
   },
   {
    "duration": 4,
    "start_time": "2022-10-16T15:51:18.759Z"
   },
   {
    "duration": 155,
    "start_time": "2022-10-16T15:51:19.620Z"
   },
   {
    "duration": 4,
    "start_time": "2022-10-16T15:51:30.622Z"
   },
   {
    "duration": 153,
    "start_time": "2022-10-16T15:51:31.127Z"
   },
   {
    "duration": 4,
    "start_time": "2022-10-16T15:51:39.389Z"
   },
   {
    "duration": 150,
    "start_time": "2022-10-16T15:51:39.565Z"
   },
   {
    "duration": 1279,
    "start_time": "2022-10-18T11:00:48.194Z"
   },
   {
    "duration": 233,
    "start_time": "2022-10-18T11:00:49.603Z"
   },
   {
    "duration": 21,
    "start_time": "2022-10-18T11:00:50.455Z"
   },
   {
    "duration": 25,
    "start_time": "2022-10-18T11:00:51.695Z"
   },
   {
    "duration": 6,
    "start_time": "2022-10-18T11:00:51.988Z"
   },
   {
    "duration": 3,
    "start_time": "2022-10-18T11:00:52.584Z"
   },
   {
    "duration": 4,
    "start_time": "2022-10-18T11:00:52.889Z"
   },
   {
    "duration": 9,
    "start_time": "2022-10-18T11:00:53.571Z"
   },
   {
    "duration": 15,
    "start_time": "2022-10-18T11:00:58.007Z"
   },
   {
    "duration": 11,
    "start_time": "2022-10-18T11:01:00.552Z"
   },
   {
    "duration": 13,
    "start_time": "2022-10-18T11:01:02.677Z"
   },
   {
    "duration": 9,
    "start_time": "2022-10-18T11:01:09.347Z"
   },
   {
    "duration": 8,
    "start_time": "2022-10-18T11:01:10.961Z"
   },
   {
    "duration": 5,
    "start_time": "2022-10-18T11:01:47.118Z"
   },
   {
    "duration": 193,
    "start_time": "2022-10-18T11:01:55.144Z"
   },
   {
    "duration": 162,
    "start_time": "2022-10-18T11:01:56.218Z"
   },
   {
    "duration": 5,
    "start_time": "2022-10-18T11:01:58.911Z"
   },
   {
    "duration": 6,
    "start_time": "2022-10-18T11:02:05.756Z"
   },
   {
    "duration": 169,
    "start_time": "2022-10-18T11:02:06.763Z"
   },
   {
    "duration": 5,
    "start_time": "2022-10-18T11:02:10.063Z"
   },
   {
    "duration": 19,
    "start_time": "2022-10-18T11:02:17.208Z"
   },
   {
    "duration": 4,
    "start_time": "2022-10-18T11:02:19.550Z"
   },
   {
    "duration": 4,
    "start_time": "2022-10-18T11:02:26.333Z"
   },
   {
    "duration": 9,
    "start_time": "2022-10-18T11:02:32.696Z"
   },
   {
    "duration": 4,
    "start_time": "2022-10-18T11:02:34.705Z"
   },
   {
    "duration": 3,
    "start_time": "2022-10-18T11:02:55.124Z"
   },
   {
    "duration": 5,
    "start_time": "2022-10-18T11:03:51.194Z"
   },
   {
    "duration": 4,
    "start_time": "2022-10-18T11:03:58.529Z"
   },
   {
    "duration": 243,
    "start_time": "2022-10-18T11:03:59.654Z"
   },
   {
    "duration": 3,
    "start_time": "2022-10-18T11:04:07.212Z"
   },
   {
    "duration": 160,
    "start_time": "2022-10-18T11:04:07.843Z"
   },
   {
    "duration": 4,
    "start_time": "2022-10-18T11:04:13.404Z"
   },
   {
    "duration": 3,
    "start_time": "2022-10-18T11:04:13.898Z"
   },
   {
    "duration": 159,
    "start_time": "2022-10-18T11:04:14.570Z"
   },
   {
    "duration": 4,
    "start_time": "2022-10-18T11:05:59.912Z"
   },
   {
    "duration": 4,
    "start_time": "2022-10-18T11:06:08.948Z"
   },
   {
    "duration": 153,
    "start_time": "2022-10-18T11:06:09.488Z"
   },
   {
    "duration": 5,
    "start_time": "2022-10-18T11:16:31.406Z"
   },
   {
    "duration": 533,
    "start_time": "2022-10-18T11:16:32.264Z"
   },
   {
    "duration": 559,
    "start_time": "2022-10-18T11:16:33.966Z"
   },
   {
    "duration": 4,
    "start_time": "2022-10-18T11:18:45.864Z"
   },
   {
    "duration": 5,
    "start_time": "2022-10-18T11:20:42.317Z"
   },
   {
    "duration": 11,
    "start_time": "2022-10-18T11:21:10.015Z"
   },
   {
    "duration": 684,
    "start_time": "2022-10-18T11:21:14.447Z"
   },
   {
    "duration": 687,
    "start_time": "2022-10-18T11:21:41.351Z"
   },
   {
    "duration": 6,
    "start_time": "2022-10-18T12:04:44.025Z"
   },
   {
    "duration": 699,
    "start_time": "2022-10-18T12:04:47.578Z"
   },
   {
    "duration": 684,
    "start_time": "2022-10-18T12:05:14.327Z"
   },
   {
    "duration": 6,
    "start_time": "2022-10-18T12:06:11.548Z"
   },
   {
    "duration": 6,
    "start_time": "2022-10-18T12:07:08.350Z"
   },
   {
    "duration": 709,
    "start_time": "2022-10-18T12:07:13.274Z"
   },
   {
    "duration": 8,
    "start_time": "2022-10-18T12:08:05.607Z"
   },
   {
    "duration": 7,
    "start_time": "2022-10-18T12:08:06.596Z"
   },
   {
    "duration": 5,
    "start_time": "2022-10-18T12:08:08.039Z"
   },
   {
    "duration": 745,
    "start_time": "2022-10-18T12:08:08.688Z"
   },
   {
    "duration": 6,
    "start_time": "2022-10-18T12:09:00.248Z"
   },
   {
    "duration": 1160,
    "start_time": "2022-10-18T12:09:04.308Z"
   },
   {
    "duration": 8,
    "start_time": "2022-10-18T12:11:11.692Z"
   },
   {
    "duration": 1128,
    "start_time": "2022-10-18T12:11:13.970Z"
   },
   {
    "duration": 8,
    "start_time": "2022-10-18T12:11:47.583Z"
   },
   {
    "duration": 272,
    "start_time": "2022-10-18T12:11:51.167Z"
   },
   {
    "duration": 7,
    "start_time": "2022-10-18T12:11:59.531Z"
   },
   {
    "duration": 115,
    "start_time": "2022-10-18T12:13:16.295Z"
   },
   {
    "duration": 1102,
    "start_time": "2022-10-18T12:13:19.059Z"
   },
   {
    "duration": 6,
    "start_time": "2022-10-18T12:13:31.880Z"
   },
   {
    "duration": 6,
    "start_time": "2022-10-18T12:13:38.566Z"
   },
   {
    "duration": 678,
    "start_time": "2022-10-18T12:13:42.703Z"
   },
   {
    "duration": 87,
    "start_time": "2022-10-18T12:14:25.554Z"
   },
   {
    "duration": 10,
    "start_time": "2022-10-18T12:14:29.492Z"
   },
   {
    "duration": 1113,
    "start_time": "2022-10-18T12:14:33.199Z"
   },
   {
    "duration": 7,
    "start_time": "2022-10-18T12:15:05.089Z"
   },
   {
    "duration": 1070,
    "start_time": "2022-10-18T12:15:09.635Z"
   },
   {
    "duration": 6,
    "start_time": "2022-10-18T12:16:29.580Z"
   },
   {
    "duration": 1158,
    "start_time": "2022-10-18T12:16:31.746Z"
   },
   {
    "duration": 6,
    "start_time": "2022-10-18T12:16:43.020Z"
   },
   {
    "duration": 1207,
    "start_time": "2022-10-18T12:16:46.154Z"
   },
   {
    "duration": 6,
    "start_time": "2022-10-18T12:16:59.026Z"
   },
   {
    "duration": 1068,
    "start_time": "2022-10-18T12:17:01.182Z"
   },
   {
    "duration": 1025,
    "start_time": "2022-10-18T12:28:51.924Z"
   },
   {
    "duration": 7,
    "start_time": "2022-10-18T12:32:35.501Z"
   },
   {
    "duration": 13,
    "start_time": "2022-10-18T12:32:39.732Z"
   },
   {
    "duration": 12,
    "start_time": "2022-10-18T12:32:44.551Z"
   },
   {
    "duration": 10,
    "start_time": "2022-10-18T12:34:13.979Z"
   },
   {
    "duration": 11,
    "start_time": "2022-10-18T12:34:16.425Z"
   },
   {
    "duration": 5,
    "start_time": "2022-10-18T12:35:06.466Z"
   },
   {
    "duration": 811,
    "start_time": "2022-10-18T12:35:08.454Z"
   },
   {
    "duration": 8,
    "start_time": "2022-10-18T12:35:23.807Z"
   },
   {
    "duration": 776,
    "start_time": "2022-10-18T12:35:26.141Z"
   },
   {
    "duration": 7,
    "start_time": "2022-10-18T12:36:25.780Z"
   },
   {
    "duration": 1272,
    "start_time": "2022-10-18T12:36:27.883Z"
   },
   {
    "duration": 7,
    "start_time": "2022-10-18T12:37:12.053Z"
   },
   {
    "duration": 7,
    "start_time": "2022-10-18T12:37:27.832Z"
   },
   {
    "duration": 2386,
    "start_time": "2022-10-18T12:37:30.145Z"
   },
   {
    "duration": 7,
    "start_time": "2022-10-18T12:38:34.260Z"
   },
   {
    "duration": 2390,
    "start_time": "2022-10-18T12:38:37.072Z"
   },
   {
    "duration": 7,
    "start_time": "2022-10-18T12:40:38.263Z"
   },
   {
    "duration": 3272,
    "start_time": "2022-10-18T12:40:40.447Z"
   },
   {
    "duration": 8,
    "start_time": "2022-10-18T12:41:12.066Z"
   },
   {
    "duration": 1240,
    "start_time": "2022-10-18T12:41:14.201Z"
   },
   {
    "duration": 6,
    "start_time": "2022-10-18T12:41:25.813Z"
   },
   {
    "duration": 1247,
    "start_time": "2022-10-18T12:41:29.241Z"
   },
   {
    "duration": 7,
    "start_time": "2022-10-18T12:41:47.423Z"
   },
   {
    "duration": 1218,
    "start_time": "2022-10-18T12:41:49.706Z"
   },
   {
    "duration": 1357,
    "start_time": "2022-10-18T12:41:54.781Z"
   },
   {
    "duration": 7,
    "start_time": "2022-10-18T12:42:07.465Z"
   },
   {
    "duration": 1276,
    "start_time": "2022-10-18T12:42:09.610Z"
   },
   {
    "duration": 7,
    "start_time": "2022-10-18T12:42:18.838Z"
   },
   {
    "duration": 1220,
    "start_time": "2022-10-18T12:42:20.972Z"
   },
   {
    "duration": 1024,
    "start_time": "2022-10-18T12:42:42.051Z"
   },
   {
    "duration": 1242,
    "start_time": "2022-10-18T12:42:43.077Z"
   },
   {
    "duration": 5,
    "start_time": "2022-10-18T12:46:59.699Z"
   },
   {
    "duration": 1004,
    "start_time": "2022-10-18T12:47:03.737Z"
   },
   {
    "duration": 899,
    "start_time": "2022-10-18T12:47:04.743Z"
   },
   {
    "duration": 11,
    "start_time": "2022-10-18T12:47:26.645Z"
   },
   {
    "duration": 10,
    "start_time": "2022-10-18T12:47:40.614Z"
   },
   {
    "duration": 428,
    "start_time": "2022-10-18T12:47:49.218Z"
   },
   {
    "duration": 7,
    "start_time": "2022-10-18T12:48:21.910Z"
   },
   {
    "duration": 1279,
    "start_time": "2022-10-18T12:48:26.092Z"
   },
   {
    "duration": 6,
    "start_time": "2022-10-18T12:59:06.348Z"
   },
   {
    "duration": 614,
    "start_time": "2022-10-18T12:59:14.967Z"
   },
   {
    "duration": 553,
    "start_time": "2022-10-18T13:01:48.925Z"
   },
   {
    "duration": 6,
    "start_time": "2022-10-18T13:02:31.733Z"
   },
   {
    "duration": 687,
    "start_time": "2022-10-18T13:02:32.541Z"
   },
   {
    "duration": 6,
    "start_time": "2022-10-18T13:03:12.475Z"
   },
   {
    "duration": 1157,
    "start_time": "2022-10-18T13:03:12.752Z"
   },
   {
    "duration": 7,
    "start_time": "2022-10-18T13:15:53.968Z"
   },
   {
    "duration": 1346,
    "start_time": "2022-10-18T13:15:59.608Z"
   },
   {
    "duration": 7,
    "start_time": "2022-10-18T13:20:30.679Z"
   },
   {
    "duration": 1294,
    "start_time": "2022-10-18T13:20:37.508Z"
   },
   {
    "duration": 14,
    "start_time": "2022-10-18T13:21:18.989Z"
   },
   {
    "duration": 1332,
    "start_time": "2022-10-18T13:21:19.617Z"
   },
   {
    "duration": 6,
    "start_time": "2022-10-18T13:21:31.742Z"
   },
   {
    "duration": 1266,
    "start_time": "2022-10-18T13:21:32.183Z"
   },
   {
    "duration": 7,
    "start_time": "2022-10-18T13:23:38.657Z"
   },
   {
    "duration": 1284,
    "start_time": "2022-10-18T13:23:40.769Z"
   },
   {
    "duration": 70,
    "start_time": "2022-10-18T13:33:22.789Z"
   },
   {
    "duration": 7,
    "start_time": "2022-10-18T13:33:28.723Z"
   },
   {
    "duration": 4,
    "start_time": "2022-10-18T13:34:04.850Z"
   },
   {
    "duration": 404,
    "start_time": "2022-10-18T13:34:27.274Z"
   },
   {
    "duration": 375,
    "start_time": "2022-10-18T13:34:31.330Z"
   },
   {
    "duration": 380,
    "start_time": "2022-10-18T13:34:38.423Z"
   },
   {
    "duration": 5,
    "start_time": "2022-10-18T13:34:42.424Z"
   },
   {
    "duration": 431,
    "start_time": "2022-10-18T13:34:42.648Z"
   },
   {
    "duration": 4,
    "start_time": "2022-10-18T13:35:24.029Z"
   },
   {
    "duration": 410,
    "start_time": "2022-10-18T13:35:24.533Z"
   },
   {
    "duration": 4,
    "start_time": "2022-10-18T13:36:11.363Z"
   },
   {
    "duration": 387,
    "start_time": "2022-10-18T13:36:12.398Z"
   },
   {
    "duration": 8,
    "start_time": "2022-10-18T13:36:40.413Z"
   },
   {
    "duration": 377,
    "start_time": "2022-10-18T13:36:40.752Z"
   },
   {
    "duration": 6,
    "start_time": "2022-10-18T13:37:04.130Z"
   },
   {
    "duration": 375,
    "start_time": "2022-10-18T13:37:04.268Z"
   },
   {
    "duration": 5,
    "start_time": "2022-10-18T13:37:14.078Z"
   },
   {
    "duration": 399,
    "start_time": "2022-10-18T13:37:14.640Z"
   },
   {
    "duration": 341,
    "start_time": "2022-10-18T13:38:37.349Z"
   },
   {
    "duration": 5,
    "start_time": "2022-10-18T13:40:10.377Z"
   },
   {
    "duration": 381,
    "start_time": "2022-10-18T13:40:10.735Z"
   },
   {
    "duration": 403,
    "start_time": "2022-10-18T13:40:12.360Z"
   },
   {
    "duration": 5,
    "start_time": "2022-10-18T13:40:50.148Z"
   },
   {
    "duration": 364,
    "start_time": "2022-10-18T13:40:50.440Z"
   },
   {
    "duration": 391,
    "start_time": "2022-10-18T13:40:51.921Z"
   },
   {
    "duration": 11,
    "start_time": "2022-10-18T13:40:54.914Z"
   },
   {
    "duration": 5,
    "start_time": "2022-10-18T13:40:56.764Z"
   },
   {
    "duration": 414,
    "start_time": "2022-10-18T13:40:57.920Z"
   },
   {
    "duration": 375,
    "start_time": "2022-10-18T13:40:59.365Z"
   },
   {
    "duration": 8,
    "start_time": "2022-10-18T13:42:13.890Z"
   },
   {
    "duration": 5,
    "start_time": "2022-10-18T13:42:25.050Z"
   },
   {
    "duration": 357,
    "start_time": "2022-10-18T13:42:25.297Z"
   },
   {
    "duration": 87,
    "start_time": "2022-10-18T14:06:22.821Z"
   },
   {
    "duration": 8,
    "start_time": "2022-10-18T14:06:45.216Z"
   },
   {
    "duration": 404,
    "start_time": "2022-10-18T14:06:46.328Z"
   },
   {
    "duration": 13,
    "start_time": "2022-10-18T14:08:44.718Z"
   },
   {
    "duration": 378,
    "start_time": "2022-10-18T14:08:45.435Z"
   },
   {
    "duration": 7,
    "start_time": "2022-10-18T14:10:02.757Z"
   },
   {
    "duration": 9,
    "start_time": "2022-10-18T14:10:16.927Z"
   },
   {
    "duration": 8,
    "start_time": "2022-10-18T14:10:29.182Z"
   },
   {
    "duration": 501,
    "start_time": "2022-10-18T14:10:29.930Z"
   },
   {
    "duration": 5,
    "start_time": "2022-10-18T14:11:15.741Z"
   },
   {
    "duration": 12,
    "start_time": "2022-10-18T14:11:16.988Z"
   },
   {
    "duration": 20,
    "start_time": "2022-10-18T14:11:17.398Z"
   },
   {
    "duration": 1184,
    "start_time": "2022-10-18T14:11:18.139Z"
   },
   {
    "duration": 1034,
    "start_time": "2022-10-18T14:11:20.523Z"
   },
   {
    "duration": 21,
    "start_time": "2022-10-18T14:12:05.627Z"
   },
   {
    "duration": 487,
    "start_time": "2022-10-18T14:12:13.028Z"
   },
   {
    "duration": 8,
    "start_time": "2022-10-18T14:12:34.966Z"
   },
   {
    "duration": 1090,
    "start_time": "2022-10-18T14:12:39.319Z"
   },
   {
    "duration": 11,
    "start_time": "2022-10-18T14:13:16.748Z"
   },
   {
    "duration": 1299,
    "start_time": "2022-10-18T14:13:17.471Z"
   },
   {
    "duration": 1389,
    "start_time": "2022-10-18T14:13:18.773Z"
   },
   {
    "duration": 7,
    "start_time": "2022-10-18T14:13:44.064Z"
   },
   {
    "duration": 1211,
    "start_time": "2022-10-18T14:13:44.563Z"
   },
   {
    "duration": 126,
    "start_time": "2022-10-18T14:14:47.017Z"
   },
   {
    "duration": 8,
    "start_time": "2022-10-18T14:14:51.465Z"
   },
   {
    "duration": 1410,
    "start_time": "2022-10-18T14:14:51.975Z"
   },
   {
    "duration": 7,
    "start_time": "2022-10-18T14:15:09.983Z"
   },
   {
    "duration": 1409,
    "start_time": "2022-10-18T14:15:10.716Z"
   },
   {
    "duration": 9,
    "start_time": "2022-10-18T14:15:45.246Z"
   },
   {
    "duration": 1341,
    "start_time": "2022-10-18T14:15:45.446Z"
   },
   {
    "duration": 9,
    "start_time": "2022-10-18T14:15:56.050Z"
   },
   {
    "duration": 405,
    "start_time": "2022-10-18T14:15:56.240Z"
   },
   {
    "duration": 14,
    "start_time": "2022-10-18T14:16:18.323Z"
   },
   {
    "duration": 2206,
    "start_time": "2022-10-18T14:16:18.476Z"
   },
   {
    "duration": 17,
    "start_time": "2022-10-18T14:16:40.710Z"
   },
   {
    "duration": 395,
    "start_time": "2022-10-18T14:16:40.926Z"
   },
   {
    "duration": 9,
    "start_time": "2022-10-18T14:17:40.611Z"
   },
   {
    "duration": 427,
    "start_time": "2022-10-18T14:17:41.327Z"
   },
   {
    "duration": 434,
    "start_time": "2022-10-18T14:23:13.924Z"
   },
   {
    "duration": 459,
    "start_time": "2022-10-18T14:23:18.506Z"
   },
   {
    "duration": 27,
    "start_time": "2022-10-18T14:25:18.355Z"
   },
   {
    "duration": 10,
    "start_time": "2022-10-18T14:30:10.234Z"
   },
   {
    "duration": 413,
    "start_time": "2022-10-18T14:30:10.461Z"
   },
   {
    "duration": 448,
    "start_time": "2022-10-18T14:30:12.097Z"
   },
   {
    "duration": 10,
    "start_time": "2022-10-18T14:40:29.024Z"
   },
   {
    "duration": 414,
    "start_time": "2022-10-18T14:40:29.692Z"
   },
   {
    "duration": 378,
    "start_time": "2022-10-18T14:40:31.263Z"
   },
   {
    "duration": 6,
    "start_time": "2022-10-18T14:42:03.455Z"
   },
   {
    "duration": 97,
    "start_time": "2022-10-18T14:42:33.547Z"
   },
   {
    "duration": 153,
    "start_time": "2022-10-18T14:42:51.977Z"
   },
   {
    "duration": 120,
    "start_time": "2022-10-18T14:43:02.569Z"
   },
   {
    "duration": 93,
    "start_time": "2022-10-18T14:43:42.032Z"
   },
   {
    "duration": 159,
    "start_time": "2022-10-18T14:44:03.028Z"
   },
   {
    "duration": 124,
    "start_time": "2022-10-18T14:44:20.331Z"
   },
   {
    "duration": 120,
    "start_time": "2022-10-18T14:44:26.723Z"
   },
   {
    "duration": 7,
    "start_time": "2022-10-18T14:44:55.448Z"
   },
   {
    "duration": 391,
    "start_time": "2022-10-18T14:44:57.148Z"
   },
   {
    "duration": 367,
    "start_time": "2022-10-18T14:44:59.430Z"
   },
   {
    "duration": 374,
    "start_time": "2022-10-18T14:45:15.189Z"
   },
   {
    "duration": 381,
    "start_time": "2022-10-18T14:45:31.946Z"
   },
   {
    "duration": 347,
    "start_time": "2022-10-18T14:45:51.952Z"
   },
   {
    "duration": 13,
    "start_time": "2022-10-18T15:17:39.243Z"
   },
   {
    "duration": 77,
    "start_time": "2022-10-18T15:17:43.208Z"
   },
   {
    "duration": 12,
    "start_time": "2022-10-18T15:17:43.713Z"
   },
   {
    "duration": 150,
    "start_time": "2022-10-18T15:18:22.766Z"
   },
   {
    "duration": 10,
    "start_time": "2022-10-18T15:18:23.167Z"
   },
   {
    "duration": 11,
    "start_time": "2022-10-18T15:18:51.026Z"
   },
   {
    "duration": 9,
    "start_time": "2022-10-18T15:18:56.719Z"
   },
   {
    "duration": 127,
    "start_time": "2022-10-18T15:19:13.185Z"
   },
   {
    "duration": 181,
    "start_time": "2022-10-18T15:19:47.063Z"
   },
   {
    "duration": 222,
    "start_time": "2022-10-18T15:20:06.584Z"
   },
   {
    "duration": 207,
    "start_time": "2022-10-18T15:20:39.840Z"
   },
   {
    "duration": 221,
    "start_time": "2022-10-18T15:21:00.204Z"
   },
   {
    "duration": 14,
    "start_time": "2022-10-18T15:21:01.085Z"
   },
   {
    "duration": 211,
    "start_time": "2022-10-18T15:22:04.942Z"
   },
   {
    "duration": 10,
    "start_time": "2022-10-18T15:22:14.981Z"
   },
   {
    "duration": 226,
    "start_time": "2022-10-18T15:23:29.104Z"
   },
   {
    "duration": 12,
    "start_time": "2022-10-18T15:23:32.229Z"
   },
   {
    "duration": 227,
    "start_time": "2022-10-18T15:24:11.022Z"
   },
   {
    "duration": 221,
    "start_time": "2022-10-18T15:24:23.010Z"
   },
   {
    "duration": 10,
    "start_time": "2022-10-18T15:24:23.670Z"
   },
   {
    "duration": 213,
    "start_time": "2022-10-18T15:24:45.627Z"
   },
   {
    "duration": 9,
    "start_time": "2022-10-18T15:24:59.878Z"
   },
   {
    "duration": 24,
    "start_time": "2022-10-18T15:25:08.104Z"
   },
   {
    "duration": 7,
    "start_time": "2022-10-18T15:32:11.873Z"
   },
   {
    "duration": 272,
    "start_time": "2022-10-18T15:32:15.377Z"
   },
   {
    "duration": 7,
    "start_time": "2022-10-18T15:33:22.132Z"
   },
   {
    "duration": 1424,
    "start_time": "2022-10-18T15:33:26.210Z"
   },
   {
    "duration": 7,
    "start_time": "2022-10-18T15:34:29.296Z"
   },
   {
    "duration": 370,
    "start_time": "2022-10-18T15:34:32.202Z"
   },
   {
    "duration": 7,
    "start_time": "2022-10-18T15:35:10.153Z"
   },
   {
    "duration": 371,
    "start_time": "2022-10-18T15:35:12.638Z"
   },
   {
    "duration": 6,
    "start_time": "2022-10-18T15:35:54.132Z"
   },
   {
    "duration": 397,
    "start_time": "2022-10-18T15:35:56.613Z"
   },
   {
    "duration": 429,
    "start_time": "2022-10-18T15:36:38.885Z"
   },
   {
    "duration": 7,
    "start_time": "2022-10-18T15:38:37.519Z"
   },
   {
    "duration": 6,
    "start_time": "2022-10-18T15:38:49.573Z"
   },
   {
    "duration": 413,
    "start_time": "2022-10-18T15:38:53.073Z"
   },
   {
    "duration": 7,
    "start_time": "2022-10-18T15:40:24.505Z"
   },
   {
    "duration": 462,
    "start_time": "2022-10-18T15:40:29.971Z"
   },
   {
    "duration": 10,
    "start_time": "2022-10-18T15:41:37.889Z"
   },
   {
    "duration": 14,
    "start_time": "2022-10-18T15:41:45.923Z"
   },
   {
    "duration": 16,
    "start_time": "2022-10-18T15:41:51.600Z"
   },
   {
    "duration": 445,
    "start_time": "2022-10-18T15:41:58.100Z"
   },
   {
    "duration": 14,
    "start_time": "2022-10-18T15:43:33.667Z"
   },
   {
    "duration": 438,
    "start_time": "2022-10-18T15:43:48.492Z"
   },
   {
    "duration": 8,
    "start_time": "2022-10-18T15:44:51.427Z"
   },
   {
    "duration": 463,
    "start_time": "2022-10-18T15:44:54.744Z"
   },
   {
    "duration": 7,
    "start_time": "2022-10-18T15:45:34.713Z"
   },
   {
    "duration": 486,
    "start_time": "2022-10-18T15:45:38.344Z"
   },
   {
    "duration": 8,
    "start_time": "2022-10-18T15:46:18.488Z"
   },
   {
    "duration": 13,
    "start_time": "2022-10-18T15:46:19.233Z"
   },
   {
    "duration": 412,
    "start_time": "2022-10-18T15:46:20.022Z"
   },
   {
    "duration": 466,
    "start_time": "2022-10-18T15:46:22.068Z"
   },
   {
    "duration": 114,
    "start_time": "2022-10-18T15:46:40.828Z"
   },
   {
    "duration": 533,
    "start_time": "2022-10-18T15:46:43.863Z"
   },
   {
    "duration": 8,
    "start_time": "2022-10-18T15:48:46.774Z"
   },
   {
    "duration": 689,
    "start_time": "2022-10-18T15:48:51.989Z"
   },
   {
    "duration": 8,
    "start_time": "2022-10-18T15:49:03.497Z"
   },
   {
    "duration": 536,
    "start_time": "2022-10-18T15:49:05.885Z"
   },
   {
    "duration": 8,
    "start_time": "2022-10-18T15:50:40.986Z"
   },
   {
    "duration": 445,
    "start_time": "2022-10-18T15:50:42.636Z"
   },
   {
    "duration": 8,
    "start_time": "2022-10-18T15:52:41.170Z"
   },
   {
    "duration": 469,
    "start_time": "2022-10-18T15:52:43.235Z"
   },
   {
    "duration": 9,
    "start_time": "2022-10-18T15:53:01.371Z"
   },
   {
    "duration": 558,
    "start_time": "2022-10-18T15:53:05.089Z"
   },
   {
    "duration": 6,
    "start_time": "2022-10-18T15:54:48.771Z"
   },
   {
    "duration": 424,
    "start_time": "2022-10-18T15:54:49.361Z"
   },
   {
    "duration": 8,
    "start_time": "2022-10-18T15:56:17.400Z"
   },
   {
    "duration": 579,
    "start_time": "2022-10-18T15:56:18.033Z"
   },
   {
    "duration": 6,
    "start_time": "2022-10-18T16:15:33.373Z"
   },
   {
    "duration": 1404,
    "start_time": "2022-10-18T16:15:34.256Z"
   },
   {
    "duration": 6,
    "start_time": "2022-10-18T16:16:43.578Z"
   },
   {
    "duration": 26,
    "start_time": "2022-10-18T16:16:44.312Z"
   },
   {
    "duration": 163,
    "start_time": "2022-10-18T16:18:47.898Z"
   },
   {
    "duration": 34,
    "start_time": "2022-10-18T16:22:21.384Z"
   },
   {
    "duration": 78,
    "start_time": "2022-10-18T16:23:24.139Z"
   },
   {
    "duration": 21,
    "start_time": "2022-10-18T16:23:36.145Z"
   },
   {
    "duration": 33,
    "start_time": "2022-10-18T16:24:32.051Z"
   },
   {
    "duration": 31,
    "start_time": "2022-10-18T16:25:10.107Z"
   },
   {
    "duration": 30,
    "start_time": "2022-10-18T16:26:20.416Z"
   },
   {
    "duration": 31,
    "start_time": "2022-10-18T16:27:12.158Z"
   },
   {
    "duration": 13,
    "start_time": "2022-10-18T16:38:15.429Z"
   },
   {
    "duration": 12,
    "start_time": "2022-10-18T16:40:01.543Z"
   },
   {
    "duration": 5,
    "start_time": "2022-10-18T16:58:05.669Z"
   },
   {
    "duration": 5,
    "start_time": "2022-10-18T16:58:29.462Z"
   },
   {
    "duration": 8,
    "start_time": "2022-10-18T16:58:32.764Z"
   },
   {
    "duration": 469,
    "start_time": "2022-10-18T16:58:36.260Z"
   },
   {
    "duration": 5,
    "start_time": "2022-10-18T16:58:56.496Z"
   },
   {
    "duration": 434,
    "start_time": "2022-10-18T16:58:56.964Z"
   },
   {
    "duration": 5,
    "start_time": "2022-10-18T16:59:05.745Z"
   },
   {
    "duration": 504,
    "start_time": "2022-10-18T16:59:06.899Z"
   },
   {
    "duration": 5,
    "start_time": "2022-10-18T17:01:04.670Z"
   },
   {
    "duration": 327,
    "start_time": "2022-10-18T17:01:06.126Z"
   },
   {
    "duration": 4,
    "start_time": "2022-10-18T17:01:15.534Z"
   },
   {
    "duration": 359,
    "start_time": "2022-10-18T17:01:16.059Z"
   },
   {
    "duration": 96,
    "start_time": "2022-10-19T11:31:49.378Z"
   },
   {
    "duration": 52,
    "start_time": "2022-10-19T11:32:29.374Z"
   },
   {
    "duration": 51,
    "start_time": "2022-10-19T11:32:35.338Z"
   },
   {
    "duration": 1396,
    "start_time": "2022-10-19T11:32:43.446Z"
   },
   {
    "duration": 108,
    "start_time": "2022-10-19T11:32:44.845Z"
   },
   {
    "duration": 26,
    "start_time": "2022-10-19T11:32:44.955Z"
   },
   {
    "duration": 30,
    "start_time": "2022-10-19T11:32:44.983Z"
   },
   {
    "duration": 44,
    "start_time": "2022-10-19T11:32:45.015Z"
   },
   {
    "duration": 10,
    "start_time": "2022-10-19T11:32:45.061Z"
   },
   {
    "duration": 7,
    "start_time": "2022-10-19T11:32:45.073Z"
   },
   {
    "duration": 18,
    "start_time": "2022-10-19T11:32:45.083Z"
   },
   {
    "duration": 21,
    "start_time": "2022-10-19T11:32:45.104Z"
   },
   {
    "duration": 18,
    "start_time": "2022-10-19T11:32:45.229Z"
   },
   {
    "duration": 18,
    "start_time": "2022-10-19T11:32:45.702Z"
   },
   {
    "duration": 12,
    "start_time": "2022-10-19T11:32:47.047Z"
   },
   {
    "duration": 11,
    "start_time": "2022-10-19T11:32:47.530Z"
   },
   {
    "duration": 5,
    "start_time": "2022-10-19T11:32:47.837Z"
   },
   {
    "duration": 199,
    "start_time": "2022-10-19T11:32:48.637Z"
   },
   {
    "duration": 192,
    "start_time": "2022-10-19T11:32:48.838Z"
   },
   {
    "duration": 4,
    "start_time": "2022-10-19T11:32:49.048Z"
   },
   {
    "duration": 7,
    "start_time": "2022-10-19T11:32:49.738Z"
   },
   {
    "duration": 196,
    "start_time": "2022-10-19T11:32:49.909Z"
   },
   {
    "duration": 5,
    "start_time": "2022-10-19T11:32:50.410Z"
   },
   {
    "duration": 24,
    "start_time": "2022-10-19T11:32:50.899Z"
   },
   {
    "duration": 5,
    "start_time": "2022-10-19T11:32:51.401Z"
   },
   {
    "duration": 6,
    "start_time": "2022-10-19T11:32:51.568Z"
   },
   {
    "duration": 11,
    "start_time": "2022-10-19T11:32:51.910Z"
   },
   {
    "duration": 3,
    "start_time": "2022-10-19T11:32:52.075Z"
   },
   {
    "duration": 224,
    "start_time": "2022-10-19T11:32:52.892Z"
   },
   {
    "duration": 12,
    "start_time": "2022-10-19T11:32:53.118Z"
   },
   {
    "duration": 243,
    "start_time": "2022-10-19T11:32:53.874Z"
   },
   {
    "duration": 13,
    "start_time": "2022-10-19T11:32:54.567Z"
   },
   {
    "duration": 8,
    "start_time": "2022-10-19T11:32:56.158Z"
   },
   {
    "duration": 10,
    "start_time": "2022-10-19T11:32:56.689Z"
   },
   {
    "duration": 572,
    "start_time": "2022-10-19T11:32:57.069Z"
   },
   {
    "duration": 689,
    "start_time": "2022-10-19T11:32:57.643Z"
   },
   {
    "duration": 6,
    "start_time": "2022-10-19T11:32:58.335Z"
   },
   {
    "duration": 391,
    "start_time": "2022-10-19T11:32:58.399Z"
   },
   {
    "duration": 12,
    "start_time": "2022-10-19T11:32:59.282Z"
   },
   {
    "duration": 569,
    "start_time": "2022-10-19T11:32:59.439Z"
   },
   {
    "duration": 9,
    "start_time": "2022-10-19T11:33:00.011Z"
   },
   {
    "duration": 628,
    "start_time": "2022-10-19T11:33:00.076Z"
   },
   {
    "duration": 10,
    "start_time": "2022-10-19T11:33:00.837Z"
   },
   {
    "duration": 518,
    "start_time": "2022-10-19T11:33:01.006Z"
   },
   {
    "duration": 9,
    "start_time": "2022-10-19T11:33:01.742Z"
   },
   {
    "duration": 546,
    "start_time": "2022-10-19T11:33:02.070Z"
   },
   {
    "duration": 81,
    "start_time": "2022-10-19T11:33:05.652Z"
   },
   {
    "duration": 36,
    "start_time": "2022-10-19T11:33:57.501Z"
   },
   {
    "duration": 50,
    "start_time": "2022-10-19T11:34:44.789Z"
   },
   {
    "duration": 43,
    "start_time": "2022-10-19T11:35:27.542Z"
   },
   {
    "duration": 33,
    "start_time": "2022-10-19T11:35:39.848Z"
   },
   {
    "duration": 3,
    "start_time": "2022-10-19T11:39:19.121Z"
   },
   {
    "duration": 33,
    "start_time": "2022-10-19T11:39:22.329Z"
   },
   {
    "duration": 49,
    "start_time": "2022-10-19T11:39:25.006Z"
   },
   {
    "duration": 17,
    "start_time": "2022-10-19T11:40:19.609Z"
   },
   {
    "duration": 13,
    "start_time": "2022-10-19T11:40:26.337Z"
   }
  ],
  "kernelspec": {
   "display_name": "Python 3 (ipykernel)",
   "language": "python",
   "name": "python3"
  },
  "language_info": {
   "codemirror_mode": {
    "name": "ipython",
    "version": 3
   },
   "file_extension": ".py",
   "mimetype": "text/x-python",
   "name": "python",
   "nbconvert_exporter": "python",
   "pygments_lexer": "ipython3",
   "version": "3.10.4"
  },
  "toc": {
   "base_numbering": 1,
   "nav_menu": {},
   "number_sections": true,
   "sideBar": true,
   "skip_h1_title": true,
   "title_cell": "Table of Contents",
   "title_sidebar": "Contents",
   "toc_cell": true,
   "toc_position": {
    "height": "calc(100% - 180px)",
    "left": "10px",
    "top": "150px",
    "width": "366.188px"
   },
   "toc_section_display": true,
   "toc_window_display": true
  }
 },
 "nbformat": 4,
 "nbformat_minor": 4
}
