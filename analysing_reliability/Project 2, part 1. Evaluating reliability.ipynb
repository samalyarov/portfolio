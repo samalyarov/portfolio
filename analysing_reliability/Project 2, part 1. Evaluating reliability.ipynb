{
 "cells": [
  {
   "cell_type": "markdown",
   "id": "1139a871",
   "metadata": {
    "deletable": false,
    "editable": false,
    "id": "c81daeeb"
   },
   "source": [
    "# Исследование надежности заемщиков"
   ]
  },
  {
   "cell_type": "markdown",
   "id": "f43e78c7",
   "metadata": {
    "deletable": false,
    "editable": false,
    "id": "-G3EJWzf62s6"
   },
   "source": [
    "Это первая часть проекта, она будет проверена автоматически. Вторую часть проверит ревьюер. "
   ]
  },
  {
   "cell_type": "markdown",
   "id": "7a4ecf26",
   "metadata": {
    "deletable": false,
    "editable": false,
    "id": "744d7639"
   },
   "source": [
    "## Откройте таблицу и изучите общую информацию о данных"
   ]
  },
  {
   "cell_type": "markdown",
   "id": "648947d1",
   "metadata": {
    "deletable": false,
    "editable": false,
    "id": "e7a14c31",
    "tags": [
     "start_task"
    ]
   },
   "source": [
    "**Задание 1. Импортируйте библиотеку pandas. Считайте данные из csv-файла в датафрейм и сохраните в переменную `data`. Путь к файлу:**\n",
    "\n",
    "`/datasets/data.csv`"
   ]
  },
  {
   "cell_type": "code",
   "execution_count": 1,
   "id": "d90b58d0",
   "metadata": {
    "id": "7bcf75c9"
   },
   "outputs": [],
   "source": [
    "import pandas as pd # импортируйте библиотеку pandas"
   ]
  },
  {
   "cell_type": "code",
   "execution_count": 2,
   "id": "7b41dc12",
   "metadata": {
    "id": "4d240ee2"
   },
   "outputs": [],
   "source": [
    "data = pd.read_csv('/datasets/data.csv') # прочитайте csv-файл"
   ]
  },
  {
   "cell_type": "markdown",
   "id": "dbd3243e",
   "metadata": {
    "deletable": false,
    "editable": false,
    "id": "b8038fe3",
    "tags": [
     "start_task"
    ]
   },
   "source": [
    "**Задание 2. Выведите первые 20 строчек датафрейма `data` на экран.**"
   ]
  },
  {
   "cell_type": "code",
   "execution_count": 3,
   "id": "5250d960",
   "metadata": {
    "id": "2a7cab99"
   },
   "outputs": [
    {
     "data": {
      "text/html": [
       "<div>\n",
       "<style scoped>\n",
       "    .dataframe tbody tr th:only-of-type {\n",
       "        vertical-align: middle;\n",
       "    }\n",
       "\n",
       "    .dataframe tbody tr th {\n",
       "        vertical-align: top;\n",
       "    }\n",
       "\n",
       "    .dataframe thead th {\n",
       "        text-align: right;\n",
       "    }\n",
       "</style>\n",
       "<table border=\"1\" class=\"dataframe\">\n",
       "  <thead>\n",
       "    <tr style=\"text-align: right;\">\n",
       "      <th></th>\n",
       "      <th>children</th>\n",
       "      <th>days_employed</th>\n",
       "      <th>dob_years</th>\n",
       "      <th>education</th>\n",
       "      <th>education_id</th>\n",
       "      <th>family_status</th>\n",
       "      <th>family_status_id</th>\n",
       "      <th>gender</th>\n",
       "      <th>income_type</th>\n",
       "      <th>debt</th>\n",
       "      <th>total_income</th>\n",
       "      <th>purpose</th>\n",
       "    </tr>\n",
       "  </thead>\n",
       "  <tbody>\n",
       "    <tr>\n",
       "      <th>0</th>\n",
       "      <td>1</td>\n",
       "      <td>-8437.673028</td>\n",
       "      <td>42</td>\n",
       "      <td>высшее</td>\n",
       "      <td>0</td>\n",
       "      <td>женат / замужем</td>\n",
       "      <td>0</td>\n",
       "      <td>F</td>\n",
       "      <td>сотрудник</td>\n",
       "      <td>0</td>\n",
       "      <td>253875.639453</td>\n",
       "      <td>покупка жилья</td>\n",
       "    </tr>\n",
       "    <tr>\n",
       "      <th>1</th>\n",
       "      <td>1</td>\n",
       "      <td>-4024.803754</td>\n",
       "      <td>36</td>\n",
       "      <td>среднее</td>\n",
       "      <td>1</td>\n",
       "      <td>женат / замужем</td>\n",
       "      <td>0</td>\n",
       "      <td>F</td>\n",
       "      <td>сотрудник</td>\n",
       "      <td>0</td>\n",
       "      <td>112080.014102</td>\n",
       "      <td>приобретение автомобиля</td>\n",
       "    </tr>\n",
       "    <tr>\n",
       "      <th>2</th>\n",
       "      <td>0</td>\n",
       "      <td>-5623.422610</td>\n",
       "      <td>33</td>\n",
       "      <td>Среднее</td>\n",
       "      <td>1</td>\n",
       "      <td>женат / замужем</td>\n",
       "      <td>0</td>\n",
       "      <td>M</td>\n",
       "      <td>сотрудник</td>\n",
       "      <td>0</td>\n",
       "      <td>145885.952297</td>\n",
       "      <td>покупка жилья</td>\n",
       "    </tr>\n",
       "    <tr>\n",
       "      <th>3</th>\n",
       "      <td>3</td>\n",
       "      <td>-4124.747207</td>\n",
       "      <td>32</td>\n",
       "      <td>среднее</td>\n",
       "      <td>1</td>\n",
       "      <td>женат / замужем</td>\n",
       "      <td>0</td>\n",
       "      <td>M</td>\n",
       "      <td>сотрудник</td>\n",
       "      <td>0</td>\n",
       "      <td>267628.550329</td>\n",
       "      <td>дополнительное образование</td>\n",
       "    </tr>\n",
       "    <tr>\n",
       "      <th>4</th>\n",
       "      <td>0</td>\n",
       "      <td>340266.072047</td>\n",
       "      <td>53</td>\n",
       "      <td>среднее</td>\n",
       "      <td>1</td>\n",
       "      <td>гражданский брак</td>\n",
       "      <td>1</td>\n",
       "      <td>F</td>\n",
       "      <td>пенсионер</td>\n",
       "      <td>0</td>\n",
       "      <td>158616.077870</td>\n",
       "      <td>сыграть свадьбу</td>\n",
       "    </tr>\n",
       "    <tr>\n",
       "      <th>5</th>\n",
       "      <td>0</td>\n",
       "      <td>-926.185831</td>\n",
       "      <td>27</td>\n",
       "      <td>высшее</td>\n",
       "      <td>0</td>\n",
       "      <td>гражданский брак</td>\n",
       "      <td>1</td>\n",
       "      <td>M</td>\n",
       "      <td>компаньон</td>\n",
       "      <td>0</td>\n",
       "      <td>255763.565419</td>\n",
       "      <td>покупка жилья</td>\n",
       "    </tr>\n",
       "    <tr>\n",
       "      <th>6</th>\n",
       "      <td>0</td>\n",
       "      <td>-2879.202052</td>\n",
       "      <td>43</td>\n",
       "      <td>высшее</td>\n",
       "      <td>0</td>\n",
       "      <td>женат / замужем</td>\n",
       "      <td>0</td>\n",
       "      <td>F</td>\n",
       "      <td>компаньон</td>\n",
       "      <td>0</td>\n",
       "      <td>240525.971920</td>\n",
       "      <td>операции с жильем</td>\n",
       "    </tr>\n",
       "    <tr>\n",
       "      <th>7</th>\n",
       "      <td>0</td>\n",
       "      <td>-152.779569</td>\n",
       "      <td>50</td>\n",
       "      <td>СРЕДНЕЕ</td>\n",
       "      <td>1</td>\n",
       "      <td>женат / замужем</td>\n",
       "      <td>0</td>\n",
       "      <td>M</td>\n",
       "      <td>сотрудник</td>\n",
       "      <td>0</td>\n",
       "      <td>135823.934197</td>\n",
       "      <td>образование</td>\n",
       "    </tr>\n",
       "    <tr>\n",
       "      <th>8</th>\n",
       "      <td>2</td>\n",
       "      <td>-6929.865299</td>\n",
       "      <td>35</td>\n",
       "      <td>ВЫСШЕЕ</td>\n",
       "      <td>0</td>\n",
       "      <td>гражданский брак</td>\n",
       "      <td>1</td>\n",
       "      <td>F</td>\n",
       "      <td>сотрудник</td>\n",
       "      <td>0</td>\n",
       "      <td>95856.832424</td>\n",
       "      <td>на проведение свадьбы</td>\n",
       "    </tr>\n",
       "    <tr>\n",
       "      <th>9</th>\n",
       "      <td>0</td>\n",
       "      <td>-2188.756445</td>\n",
       "      <td>41</td>\n",
       "      <td>среднее</td>\n",
       "      <td>1</td>\n",
       "      <td>женат / замужем</td>\n",
       "      <td>0</td>\n",
       "      <td>M</td>\n",
       "      <td>сотрудник</td>\n",
       "      <td>0</td>\n",
       "      <td>144425.938277</td>\n",
       "      <td>покупка жилья для семьи</td>\n",
       "    </tr>\n",
       "    <tr>\n",
       "      <th>10</th>\n",
       "      <td>2</td>\n",
       "      <td>-4171.483647</td>\n",
       "      <td>36</td>\n",
       "      <td>высшее</td>\n",
       "      <td>0</td>\n",
       "      <td>женат / замужем</td>\n",
       "      <td>0</td>\n",
       "      <td>M</td>\n",
       "      <td>компаньон</td>\n",
       "      <td>0</td>\n",
       "      <td>113943.491460</td>\n",
       "      <td>покупка недвижимости</td>\n",
       "    </tr>\n",
       "    <tr>\n",
       "      <th>11</th>\n",
       "      <td>0</td>\n",
       "      <td>-792.701887</td>\n",
       "      <td>40</td>\n",
       "      <td>среднее</td>\n",
       "      <td>1</td>\n",
       "      <td>женат / замужем</td>\n",
       "      <td>0</td>\n",
       "      <td>F</td>\n",
       "      <td>сотрудник</td>\n",
       "      <td>0</td>\n",
       "      <td>77069.234271</td>\n",
       "      <td>покупка коммерческой недвижимости</td>\n",
       "    </tr>\n",
       "    <tr>\n",
       "      <th>12</th>\n",
       "      <td>0</td>\n",
       "      <td>NaN</td>\n",
       "      <td>65</td>\n",
       "      <td>среднее</td>\n",
       "      <td>1</td>\n",
       "      <td>гражданский брак</td>\n",
       "      <td>1</td>\n",
       "      <td>M</td>\n",
       "      <td>пенсионер</td>\n",
       "      <td>0</td>\n",
       "      <td>NaN</td>\n",
       "      <td>сыграть свадьбу</td>\n",
       "    </tr>\n",
       "    <tr>\n",
       "      <th>13</th>\n",
       "      <td>0</td>\n",
       "      <td>-1846.641941</td>\n",
       "      <td>54</td>\n",
       "      <td>неоконченное высшее</td>\n",
       "      <td>2</td>\n",
       "      <td>женат / замужем</td>\n",
       "      <td>0</td>\n",
       "      <td>F</td>\n",
       "      <td>сотрудник</td>\n",
       "      <td>0</td>\n",
       "      <td>130458.228857</td>\n",
       "      <td>приобретение автомобиля</td>\n",
       "    </tr>\n",
       "    <tr>\n",
       "      <th>14</th>\n",
       "      <td>0</td>\n",
       "      <td>-1844.956182</td>\n",
       "      <td>56</td>\n",
       "      <td>высшее</td>\n",
       "      <td>0</td>\n",
       "      <td>гражданский брак</td>\n",
       "      <td>1</td>\n",
       "      <td>F</td>\n",
       "      <td>компаньон</td>\n",
       "      <td>1</td>\n",
       "      <td>165127.911772</td>\n",
       "      <td>покупка жилой недвижимости</td>\n",
       "    </tr>\n",
       "    <tr>\n",
       "      <th>15</th>\n",
       "      <td>1</td>\n",
       "      <td>-972.364419</td>\n",
       "      <td>26</td>\n",
       "      <td>среднее</td>\n",
       "      <td>1</td>\n",
       "      <td>женат / замужем</td>\n",
       "      <td>0</td>\n",
       "      <td>F</td>\n",
       "      <td>сотрудник</td>\n",
       "      <td>0</td>\n",
       "      <td>116820.904450</td>\n",
       "      <td>строительство собственной недвижимости</td>\n",
       "    </tr>\n",
       "    <tr>\n",
       "      <th>16</th>\n",
       "      <td>0</td>\n",
       "      <td>-1719.934226</td>\n",
       "      <td>35</td>\n",
       "      <td>среднее</td>\n",
       "      <td>1</td>\n",
       "      <td>женат / замужем</td>\n",
       "      <td>0</td>\n",
       "      <td>F</td>\n",
       "      <td>сотрудник</td>\n",
       "      <td>0</td>\n",
       "      <td>289202.704229</td>\n",
       "      <td>недвижимость</td>\n",
       "    </tr>\n",
       "    <tr>\n",
       "      <th>17</th>\n",
       "      <td>0</td>\n",
       "      <td>-2369.999720</td>\n",
       "      <td>33</td>\n",
       "      <td>высшее</td>\n",
       "      <td>0</td>\n",
       "      <td>гражданский брак</td>\n",
       "      <td>1</td>\n",
       "      <td>M</td>\n",
       "      <td>сотрудник</td>\n",
       "      <td>0</td>\n",
       "      <td>90410.586745</td>\n",
       "      <td>строительство недвижимости</td>\n",
       "    </tr>\n",
       "    <tr>\n",
       "      <th>18</th>\n",
       "      <td>0</td>\n",
       "      <td>400281.136913</td>\n",
       "      <td>53</td>\n",
       "      <td>среднее</td>\n",
       "      <td>1</td>\n",
       "      <td>вдовец / вдова</td>\n",
       "      <td>2</td>\n",
       "      <td>F</td>\n",
       "      <td>пенсионер</td>\n",
       "      <td>0</td>\n",
       "      <td>56823.777243</td>\n",
       "      <td>на покупку подержанного автомобиля</td>\n",
       "    </tr>\n",
       "    <tr>\n",
       "      <th>19</th>\n",
       "      <td>0</td>\n",
       "      <td>-10038.818549</td>\n",
       "      <td>48</td>\n",
       "      <td>СРЕДНЕЕ</td>\n",
       "      <td>1</td>\n",
       "      <td>в разводе</td>\n",
       "      <td>3</td>\n",
       "      <td>F</td>\n",
       "      <td>сотрудник</td>\n",
       "      <td>0</td>\n",
       "      <td>242831.107982</td>\n",
       "      <td>на покупку своего автомобиля</td>\n",
       "    </tr>\n",
       "  </tbody>\n",
       "</table>\n",
       "</div>"
      ],
      "text/plain": [
       "    children  days_employed  dob_years            education  education_id  \\\n",
       "0          1   -8437.673028         42               высшее             0   \n",
       "1          1   -4024.803754         36              среднее             1   \n",
       "2          0   -5623.422610         33              Среднее             1   \n",
       "3          3   -4124.747207         32              среднее             1   \n",
       "4          0  340266.072047         53              среднее             1   \n",
       "5          0    -926.185831         27               высшее             0   \n",
       "6          0   -2879.202052         43               высшее             0   \n",
       "7          0    -152.779569         50              СРЕДНЕЕ             1   \n",
       "8          2   -6929.865299         35               ВЫСШЕЕ             0   \n",
       "9          0   -2188.756445         41              среднее             1   \n",
       "10         2   -4171.483647         36               высшее             0   \n",
       "11         0    -792.701887         40              среднее             1   \n",
       "12         0            NaN         65              среднее             1   \n",
       "13         0   -1846.641941         54  неоконченное высшее             2   \n",
       "14         0   -1844.956182         56               высшее             0   \n",
       "15         1    -972.364419         26              среднее             1   \n",
       "16         0   -1719.934226         35              среднее             1   \n",
       "17         0   -2369.999720         33               высшее             0   \n",
       "18         0  400281.136913         53              среднее             1   \n",
       "19         0  -10038.818549         48              СРЕДНЕЕ             1   \n",
       "\n",
       "       family_status  family_status_id gender income_type  debt  \\\n",
       "0    женат / замужем                 0      F   сотрудник     0   \n",
       "1    женат / замужем                 0      F   сотрудник     0   \n",
       "2    женат / замужем                 0      M   сотрудник     0   \n",
       "3    женат / замужем                 0      M   сотрудник     0   \n",
       "4   гражданский брак                 1      F   пенсионер     0   \n",
       "5   гражданский брак                 1      M   компаньон     0   \n",
       "6    женат / замужем                 0      F   компаньон     0   \n",
       "7    женат / замужем                 0      M   сотрудник     0   \n",
       "8   гражданский брак                 1      F   сотрудник     0   \n",
       "9    женат / замужем                 0      M   сотрудник     0   \n",
       "10   женат / замужем                 0      M   компаньон     0   \n",
       "11   женат / замужем                 0      F   сотрудник     0   \n",
       "12  гражданский брак                 1      M   пенсионер     0   \n",
       "13   женат / замужем                 0      F   сотрудник     0   \n",
       "14  гражданский брак                 1      F   компаньон     1   \n",
       "15   женат / замужем                 0      F   сотрудник     0   \n",
       "16   женат / замужем                 0      F   сотрудник     0   \n",
       "17  гражданский брак                 1      M   сотрудник     0   \n",
       "18    вдовец / вдова                 2      F   пенсионер     0   \n",
       "19         в разводе                 3      F   сотрудник     0   \n",
       "\n",
       "     total_income                                 purpose  \n",
       "0   253875.639453                           покупка жилья  \n",
       "1   112080.014102                 приобретение автомобиля  \n",
       "2   145885.952297                           покупка жилья  \n",
       "3   267628.550329              дополнительное образование  \n",
       "4   158616.077870                         сыграть свадьбу  \n",
       "5   255763.565419                           покупка жилья  \n",
       "6   240525.971920                       операции с жильем  \n",
       "7   135823.934197                             образование  \n",
       "8    95856.832424                   на проведение свадьбы  \n",
       "9   144425.938277                 покупка жилья для семьи  \n",
       "10  113943.491460                    покупка недвижимости  \n",
       "11   77069.234271       покупка коммерческой недвижимости  \n",
       "12            NaN                         сыграть свадьбу  \n",
       "13  130458.228857                 приобретение автомобиля  \n",
       "14  165127.911772              покупка жилой недвижимости  \n",
       "15  116820.904450  строительство собственной недвижимости  \n",
       "16  289202.704229                            недвижимость  \n",
       "17   90410.586745              строительство недвижимости  \n",
       "18   56823.777243      на покупку подержанного автомобиля  \n",
       "19  242831.107982            на покупку своего автомобиля  "
      ]
     },
     "execution_count": 3,
     "metadata": {},
     "output_type": "execute_result"
    }
   ],
   "source": [
    "data.head(20) # ваш код здесь"
   ]
  },
  {
   "cell_type": "markdown",
   "id": "f57e6b16",
   "metadata": {
    "deletable": false,
    "editable": false,
    "id": "1c12e233",
    "tags": [
     "start_task"
    ]
   },
   "source": [
    "**Задание 3. Выведите основную информацию о датафрейме с помощью метода `info()`.**"
   ]
  },
  {
   "cell_type": "code",
   "execution_count": 4,
   "id": "2859e2ae",
   "metadata": {
    "id": "2b757bca"
   },
   "outputs": [
    {
     "name": "stdout",
     "output_type": "stream",
     "text": [
      "<class 'pandas.core.frame.DataFrame'>\n",
      "RangeIndex: 21525 entries, 0 to 21524\n",
      "Data columns (total 12 columns):\n",
      " #   Column            Non-Null Count  Dtype  \n",
      "---  ------            --------------  -----  \n",
      " 0   children          21525 non-null  int64  \n",
      " 1   days_employed     19351 non-null  float64\n",
      " 2   dob_years         21525 non-null  int64  \n",
      " 3   education         21525 non-null  object \n",
      " 4   education_id      21525 non-null  int64  \n",
      " 5   family_status     21525 non-null  object \n",
      " 6   family_status_id  21525 non-null  int64  \n",
      " 7   gender            21525 non-null  object \n",
      " 8   income_type       21525 non-null  object \n",
      " 9   debt              21525 non-null  int64  \n",
      " 10  total_income      19351 non-null  float64\n",
      " 11  purpose           21525 non-null  object \n",
      "dtypes: float64(2), int64(5), object(5)\n",
      "memory usage: 2.0+ MB\n"
     ]
    }
   ],
   "source": [
    "data.info() # ваш код здесь"
   ]
  },
  {
   "cell_type": "markdown",
   "id": "1775c094",
   "metadata": {
    "deletable": false,
    "editable": false,
    "id": "333ec665"
   },
   "source": [
    "## Предобработка данных"
   ]
  },
  {
   "cell_type": "markdown",
   "id": "51b2ad06",
   "metadata": {
    "deletable": false,
    "editable": false,
    "id": "02d92d53"
   },
   "source": [
    "### Удаление пропусков"
   ]
  },
  {
   "cell_type": "markdown",
   "id": "a874a063",
   "metadata": {
    "deletable": false,
    "editable": false,
    "id": "cd84967c",
    "tags": [
     "start_task"
    ]
   },
   "source": [
    "**Задание 4. Выведите количество пропущенных значений для каждого столбца. Используйте комбинацию двух методов.**"
   ]
  },
  {
   "cell_type": "code",
   "execution_count": 5,
   "id": "a3756234",
   "metadata": {
    "id": "7f9b2309"
   },
   "outputs": [
    {
     "data": {
      "text/plain": [
       "children               0\n",
       "days_employed       2174\n",
       "dob_years              0\n",
       "education              0\n",
       "education_id           0\n",
       "family_status          0\n",
       "family_status_id       0\n",
       "gender                 0\n",
       "income_type            0\n",
       "debt                   0\n",
       "total_income        2174\n",
       "purpose                0\n",
       "dtype: int64"
      ]
     },
     "execution_count": 5,
     "metadata": {},
     "output_type": "execute_result"
    }
   ],
   "source": [
    "data.isna().sum() # ваш код здесь"
   ]
  },
  {
   "cell_type": "markdown",
   "id": "c09d1571",
   "metadata": {
    "deletable": false,
    "editable": false,
    "id": "db86e27b",
    "tags": [
     "start_task"
    ]
   },
   "source": [
    "**Задание 5. В двух столбцах есть пропущенные значения. Один из них — `days_employed`. Пропуски в этом столбце вы обработаете на следующем этапе. Другой столбец с пропущенными значениями — `total_income` — хранит данные о доходах. На сумму дохода сильнее всего влияет тип занятости, поэтому заполнить пропуски в этом столбце нужно медианным значением по каждому типу из столбца `income_type`. Например, у человека с типом занятости `сотрудник` пропуск в столбце `total_income` должен быть заполнен медианным доходом среди всех записей с тем же типом.**"
   ]
  },
  {
   "cell_type": "code",
   "execution_count": 6,
   "id": "4290a1f9",
   "metadata": {
    "id": "42006a93"
   },
   "outputs": [],
   "source": [
    "avg_salary = data.groupby('income_type')['total_income'].median()\n",
    "avg_salary = avg_salary.to_frame()\n",
    "\n",
    "for row in avg_salary.index:\n",
    "    data.loc[(data['income_type'] == row) & (data['total_income'].isnull()), 'total_income'] = avg_salary.loc[row, 'total_income']"
   ]
  },
  {
   "cell_type": "markdown",
   "id": "bed3a265",
   "metadata": {
    "deletable": false,
    "editable": false,
    "id": "89da5ece"
   },
   "source": [
    "### Обработка аномальных значений"
   ]
  },
  {
   "cell_type": "markdown",
   "id": "20a5a007",
   "metadata": {
    "deletable": false,
    "editable": false,
    "id": "57964554",
    "tags": [
     "start_task"
    ]
   },
   "source": [
    "**Задание 6. В данных могут встречаться артефакты (аномалии) — значения, которые не отражают действительность и появились по какой-то ошибке. Таким артефактом будет отрицательное количество дней трудового стажа в столбце `days_employed`. Для реальных данных это нормально. Обработайте значения в этом столбце: замените все отрицательные значения положительными с помощью метода `abs()`.**"
   ]
  },
  {
   "cell_type": "code",
   "execution_count": 7,
   "id": "59b1e018",
   "metadata": {
    "id": "f6f055bf"
   },
   "outputs": [],
   "source": [
    "data['days_employed'] = data['days_employed'].abs()"
   ]
  },
  {
   "cell_type": "markdown",
   "id": "89056edb",
   "metadata": {
    "deletable": false,
    "editable": false,
    "id": "6107dd2f",
    "tags": [
     "start_task"
    ]
   },
   "source": [
    "**Задание 7. Для каждого типа занятости выведите медианное значение трудового стажа `days_employed` в днях.**"
   ]
  },
  {
   "cell_type": "code",
   "execution_count": 8,
   "id": "7a34658c",
   "metadata": {
    "id": "85a5faf6"
   },
   "outputs": [
    {
     "data": {
      "text/plain": [
       "income_type\n",
       "безработный        366413.652744\n",
       "в декрете            3296.759962\n",
       "госслужащий          2689.368353\n",
       "компаньон            1547.382223\n",
       "пенсионер          365213.306266\n",
       "предприниматель       520.848083\n",
       "сотрудник            1574.202821\n",
       "студент               578.751554\n",
       "Name: days_employed, dtype: float64"
      ]
     },
     "execution_count": 8,
     "metadata": {},
     "output_type": "execute_result"
    }
   ],
   "source": [
    "#data.groupby('income_type')['days_employed'].median() # Чем этот плох)))\n",
    "\n",
    "data.groupby('income_type')['days_employed'].agg('median')"
   ]
  },
  {
   "cell_type": "markdown",
   "id": "a66baba8",
   "metadata": {
    "deletable": false,
    "editable": false,
    "id": "38d1a030"
   },
   "source": [
    "У двух типов (безработные и пенсионеры) получатся аномально большие значения. Исправить такие значения сложно, поэтому оставьте их как есть. Тем более этот столбец не понадобится вам для исследования."
   ]
  },
  {
   "cell_type": "markdown",
   "id": "d898e66e",
   "metadata": {
    "deletable": false,
    "editable": false,
    "id": "d8a9f147",
    "tags": [
     "start_task"
    ]
   },
   "source": [
    "**Задание 8. Выведите перечень уникальных значений столбца `children`.**"
   ]
  },
  {
   "cell_type": "code",
   "execution_count": 9,
   "id": "5e6aeee2",
   "metadata": {
    "id": "ef5056eb"
   },
   "outputs": [
    {
     "data": {
      "text/plain": [
       "array([ 1,  0,  3,  2, -1,  4, 20,  5])"
      ]
     },
     "execution_count": 9,
     "metadata": {},
     "output_type": "execute_result"
    }
   ],
   "source": [
    "data['children'].unique() # ваш код здесь"
   ]
  },
  {
   "cell_type": "markdown",
   "id": "0b3a43f4",
   "metadata": {
    "deletable": false,
    "editable": false,
    "id": "40b9ebf2",
    "tags": [
     "start_task"
    ]
   },
   "source": [
    "**Задание 9. В столбце `children` есть два аномальных значения. Удалите строки, в которых встречаются такие аномальные значения из датафрейма `data`.**"
   ]
  },
  {
   "cell_type": "code",
   "execution_count": 10,
   "id": "d8b0b525",
   "metadata": {
    "id": "3ff9801d"
   },
   "outputs": [],
   "source": [
    "children_anomalous = [-1, 20]\n",
    "for i in children_anomalous:\n",
    "    data = data[data.children !=i]"
   ]
  },
  {
   "cell_type": "markdown",
   "id": "b56dc6d0",
   "metadata": {
    "deletable": false,
    "editable": false,
    "id": "bbc4d0ce",
    "tags": [
     "start_task"
    ]
   },
   "source": [
    "**Задание 10. Ещё раз выведите перечень уникальных значений столбца `children`, чтобы убедиться, что артефакты удалены.**"
   ]
  },
  {
   "cell_type": "code",
   "execution_count": 11,
   "id": "536069a7",
   "metadata": {
    "id": "ad4fa8b7"
   },
   "outputs": [
    {
     "data": {
      "text/plain": [
       "array([1, 0, 3, 2, 4, 5])"
      ]
     },
     "execution_count": 11,
     "metadata": {},
     "output_type": "execute_result"
    }
   ],
   "source": [
    "data['children'].unique() # ваш код здесь# ваш код здесь"
   ]
  },
  {
   "cell_type": "markdown",
   "id": "957bcebb",
   "metadata": {
    "deletable": false,
    "editable": false,
    "id": "75440b63"
   },
   "source": [
    "### Удаление пропусков (продолжение)"
   ]
  },
  {
   "cell_type": "markdown",
   "id": "9556744c",
   "metadata": {
    "deletable": false,
    "editable": false,
    "id": "f4ea573f",
    "tags": [
     "start_task"
    ]
   },
   "source": [
    "**Задание 11. Заполните пропуски в столбце `days_employed` медианными значениями по каждому типу занятости `income_type`.**"
   ]
  },
  {
   "cell_type": "code",
   "execution_count": 12,
   "id": "d61a51e2",
   "metadata": {
    "id": "af6b1a7e"
   },
   "outputs": [],
   "source": [
    "avg_days = data.groupby('income_type')['days_employed'].median()\n",
    "avg_days = avg_days.to_frame()\n",
    "\n",
    "for row in avg_salary.index:\n",
    "    data.loc[(data['income_type'] == row) & (data['days_employed'].isnull()), 'days_employed'] = avg_days.loc[row, 'days_employed']# ваш код здесь"
   ]
  },
  {
   "cell_type": "markdown",
   "id": "b5a06834",
   "metadata": {
    "deletable": false,
    "editable": false,
    "id": "2753f40d",
    "tags": [
     "start_task"
    ]
   },
   "source": [
    "**Задание 12. Убедитесь, что все пропуски заполнены. Проверьте себя и ещё раз выведите количество пропущенных значений для каждого столбца с помощью двух методов.**"
   ]
  },
  {
   "cell_type": "code",
   "execution_count": 13,
   "id": "c83a0992",
   "metadata": {
    "id": "55f78bc2"
   },
   "outputs": [
    {
     "data": {
      "text/plain": [
       "children            0\n",
       "days_employed       0\n",
       "dob_years           0\n",
       "education           0\n",
       "education_id        0\n",
       "family_status       0\n",
       "family_status_id    0\n",
       "gender              0\n",
       "income_type         0\n",
       "debt                0\n",
       "total_income        0\n",
       "purpose             0\n",
       "dtype: int64"
      ]
     },
     "execution_count": 13,
     "metadata": {},
     "output_type": "execute_result"
    }
   ],
   "source": [
    "data.isna().sum() # ваш код здесь"
   ]
  },
  {
   "cell_type": "markdown",
   "id": "e0ee5579",
   "metadata": {
    "deletable": false,
    "editable": false,
    "id": "ddc81e43"
   },
   "source": [
    "### Изменение типов данных"
   ]
  },
  {
   "cell_type": "markdown",
   "id": "27e520de",
   "metadata": {
    "deletable": false,
    "editable": false,
    "id": "42d19d24",
    "tags": [
     "start_task"
    ]
   },
   "source": [
    "**Задание 13. Замените вещественный тип данных в столбце `total_income` на целочисленный с помощью метода `astype()`.**"
   ]
  },
  {
   "cell_type": "code",
   "execution_count": 14,
   "id": "14177e44",
   "metadata": {
    "id": "920b65ad"
   },
   "outputs": [],
   "source": [
    "data['total_income'] = data['total_income'].astype('int')# ваш код здесь"
   ]
  },
  {
   "cell_type": "markdown",
   "id": "6f5631c5",
   "metadata": {
    "deletable": false,
    "editable": false,
    "id": "80c420ba"
   },
   "source": [
    "### Обработка дубликатов"
   ]
  },
  {
   "cell_type": "markdown",
   "id": "79857c42",
   "metadata": {
    "deletable": false,
    "editable": false,
    "id": "dc587695",
    "tags": [
     "start_task"
    ]
   },
   "source": [
    "**Задание 14. Выведите на экран количество строк-дубликатов в данных. Если такие строки присутствуют, удалите их.**"
   ]
  },
  {
   "cell_type": "code",
   "execution_count": 15,
   "id": "f2b98f54",
   "metadata": {
    "id": "3ee445e4"
   },
   "outputs": [
    {
     "data": {
      "text/plain": [
       "54"
      ]
     },
     "execution_count": 15,
     "metadata": {},
     "output_type": "execute_result"
    }
   ],
   "source": [
    "data.duplicated().sum()# посчитайте дубликаты"
   ]
  },
  {
   "cell_type": "code",
   "execution_count": 16,
   "id": "fff72c85",
   "metadata": {
    "id": "8575fe05"
   },
   "outputs": [],
   "source": [
    "data = data.drop_duplicates() # удалите дубликаты"
   ]
  },
  {
   "cell_type": "markdown",
   "id": "d4d05211",
   "metadata": {
    "deletable": false,
    "editable": false,
    "id": "9771a76c",
    "tags": [
     "start_task"
    ]
   },
   "source": [
    "**Задание 15. Обработайте неявные дубликаты в столбце `education`. В этом столбце есть одни и те же значения, но записанные по-разному: с использованием заглавных и строчных букв. Приведите их к нижнему регистру. Проверьте остальные столбцы.**"
   ]
  },
  {
   "cell_type": "code",
   "execution_count": 17,
   "id": "22634eb2",
   "metadata": {
    "id": "a9f8e2bf"
   },
   "outputs": [],
   "source": [
    "data['education'] = data['education'].str.lower() # ваш код здесь"
   ]
  },
  {
   "cell_type": "markdown",
   "id": "35747d57",
   "metadata": {
    "deletable": false,
    "editable": false,
    "id": "9904cf55"
   },
   "source": [
    "### Категоризация данных"
   ]
  },
  {
   "cell_type": "markdown",
   "id": "70ab0893",
   "metadata": {
    "deletable": false,
    "editable": false,
    "id": "72fcc8a2",
    "tags": [
     "start_task"
    ]
   },
   "source": [
    "**Задание 16. На основании диапазонов, указанных ниже, создайте в датафрейме `data` столбец `total_income_category` с категориями:**\n",
    "\n",
    "- 0–30000 — `'E'`;\n",
    "- 30001–50000 — `'D'`;\n",
    "- 50001–200000 — `'C'`;\n",
    "- 200001–1000000 — `'B'`;\n",
    "- 1000001 и выше — `'A'`.\n",
    "\n",
    "\n",
    "**Например, кредитополучателю с доходом 25000 нужно назначить категорию `'E'`, а клиенту, получающему 235000, — `'B'`. Используйте собственную функцию с именем `categorize_income()` и метод `apply()`.**"
   ]
  },
  {
   "cell_type": "code",
   "execution_count": 32,
   "id": "43ff6f03",
   "metadata": {
    "id": "e1771346"
   },
   "outputs": [],
   "source": [
    "def categorize_income(row):\n",
    "    if 0 <= row['total_income'] <= 30000:\n",
    "        return 'E'\n",
    "    if 30001 <= row['total_income'] <= 50000:\n",
    "        return 'D'\n",
    "    if 50001 <= row['total_income'] <= 200000:\n",
    "        return 'C'\n",
    "    if 200001 <= row['total_income'] <= 1000000:\n",
    "        return 'B'\n",
    "    if 1000001 <= row['total_income']:\n",
    "        return 'A'\n",
    "    \n",
    "    # создайте функцию categorize_income()"
   ]
  },
  {
   "cell_type": "code",
   "execution_count": 33,
   "id": "2192b8a3",
   "metadata": {
    "id": "d5f3586d"
   },
   "outputs": [
    {
     "data": {
      "text/html": [
       "<div>\n",
       "<style scoped>\n",
       "    .dataframe tbody tr th:only-of-type {\n",
       "        vertical-align: middle;\n",
       "    }\n",
       "\n",
       "    .dataframe tbody tr th {\n",
       "        vertical-align: top;\n",
       "    }\n",
       "\n",
       "    .dataframe thead th {\n",
       "        text-align: right;\n",
       "    }\n",
       "</style>\n",
       "<table border=\"1\" class=\"dataframe\">\n",
       "  <thead>\n",
       "    <tr style=\"text-align: right;\">\n",
       "      <th></th>\n",
       "      <th>children</th>\n",
       "      <th>days_employed</th>\n",
       "      <th>dob_years</th>\n",
       "      <th>education</th>\n",
       "      <th>education_id</th>\n",
       "      <th>family_status</th>\n",
       "      <th>family_status_id</th>\n",
       "      <th>gender</th>\n",
       "      <th>income_type</th>\n",
       "      <th>debt</th>\n",
       "      <th>total_income</th>\n",
       "      <th>purpose</th>\n",
       "      <th>total_income_category</th>\n",
       "    </tr>\n",
       "  </thead>\n",
       "  <tbody>\n",
       "    <tr>\n",
       "      <th>0</th>\n",
       "      <td>1</td>\n",
       "      <td>8437.673028</td>\n",
       "      <td>42</td>\n",
       "      <td>высшее</td>\n",
       "      <td>0</td>\n",
       "      <td>женат / замужем</td>\n",
       "      <td>0</td>\n",
       "      <td>F</td>\n",
       "      <td>сотрудник</td>\n",
       "      <td>0</td>\n",
       "      <td>253875</td>\n",
       "      <td>покупка жилья</td>\n",
       "      <td>B</td>\n",
       "    </tr>\n",
       "    <tr>\n",
       "      <th>1</th>\n",
       "      <td>1</td>\n",
       "      <td>4024.803754</td>\n",
       "      <td>36</td>\n",
       "      <td>среднее</td>\n",
       "      <td>1</td>\n",
       "      <td>женат / замужем</td>\n",
       "      <td>0</td>\n",
       "      <td>F</td>\n",
       "      <td>сотрудник</td>\n",
       "      <td>0</td>\n",
       "      <td>112080</td>\n",
       "      <td>приобретение автомобиля</td>\n",
       "      <td>C</td>\n",
       "    </tr>\n",
       "    <tr>\n",
       "      <th>2</th>\n",
       "      <td>0</td>\n",
       "      <td>5623.422610</td>\n",
       "      <td>33</td>\n",
       "      <td>среднее</td>\n",
       "      <td>1</td>\n",
       "      <td>женат / замужем</td>\n",
       "      <td>0</td>\n",
       "      <td>M</td>\n",
       "      <td>сотрудник</td>\n",
       "      <td>0</td>\n",
       "      <td>145885</td>\n",
       "      <td>покупка жилья</td>\n",
       "      <td>C</td>\n",
       "    </tr>\n",
       "    <tr>\n",
       "      <th>3</th>\n",
       "      <td>3</td>\n",
       "      <td>4124.747207</td>\n",
       "      <td>32</td>\n",
       "      <td>среднее</td>\n",
       "      <td>1</td>\n",
       "      <td>женат / замужем</td>\n",
       "      <td>0</td>\n",
       "      <td>M</td>\n",
       "      <td>сотрудник</td>\n",
       "      <td>0</td>\n",
       "      <td>267628</td>\n",
       "      <td>дополнительное образование</td>\n",
       "      <td>B</td>\n",
       "    </tr>\n",
       "    <tr>\n",
       "      <th>4</th>\n",
       "      <td>0</td>\n",
       "      <td>340266.072047</td>\n",
       "      <td>53</td>\n",
       "      <td>среднее</td>\n",
       "      <td>1</td>\n",
       "      <td>гражданский брак</td>\n",
       "      <td>1</td>\n",
       "      <td>F</td>\n",
       "      <td>пенсионер</td>\n",
       "      <td>0</td>\n",
       "      <td>158616</td>\n",
       "      <td>сыграть свадьбу</td>\n",
       "      <td>C</td>\n",
       "    </tr>\n",
       "    <tr>\n",
       "      <th>5</th>\n",
       "      <td>0</td>\n",
       "      <td>926.185831</td>\n",
       "      <td>27</td>\n",
       "      <td>высшее</td>\n",
       "      <td>0</td>\n",
       "      <td>гражданский брак</td>\n",
       "      <td>1</td>\n",
       "      <td>M</td>\n",
       "      <td>компаньон</td>\n",
       "      <td>0</td>\n",
       "      <td>255763</td>\n",
       "      <td>покупка жилья</td>\n",
       "      <td>B</td>\n",
       "    </tr>\n",
       "    <tr>\n",
       "      <th>6</th>\n",
       "      <td>0</td>\n",
       "      <td>2879.202052</td>\n",
       "      <td>43</td>\n",
       "      <td>высшее</td>\n",
       "      <td>0</td>\n",
       "      <td>женат / замужем</td>\n",
       "      <td>0</td>\n",
       "      <td>F</td>\n",
       "      <td>компаньон</td>\n",
       "      <td>0</td>\n",
       "      <td>240525</td>\n",
       "      <td>операции с жильем</td>\n",
       "      <td>B</td>\n",
       "    </tr>\n",
       "    <tr>\n",
       "      <th>7</th>\n",
       "      <td>0</td>\n",
       "      <td>152.779569</td>\n",
       "      <td>50</td>\n",
       "      <td>среднее</td>\n",
       "      <td>1</td>\n",
       "      <td>женат / замужем</td>\n",
       "      <td>0</td>\n",
       "      <td>M</td>\n",
       "      <td>сотрудник</td>\n",
       "      <td>0</td>\n",
       "      <td>135823</td>\n",
       "      <td>образование</td>\n",
       "      <td>C</td>\n",
       "    </tr>\n",
       "    <tr>\n",
       "      <th>8</th>\n",
       "      <td>2</td>\n",
       "      <td>6929.865299</td>\n",
       "      <td>35</td>\n",
       "      <td>высшее</td>\n",
       "      <td>0</td>\n",
       "      <td>гражданский брак</td>\n",
       "      <td>1</td>\n",
       "      <td>F</td>\n",
       "      <td>сотрудник</td>\n",
       "      <td>0</td>\n",
       "      <td>95856</td>\n",
       "      <td>на проведение свадьбы</td>\n",
       "      <td>C</td>\n",
       "    </tr>\n",
       "    <tr>\n",
       "      <th>9</th>\n",
       "      <td>0</td>\n",
       "      <td>2188.756445</td>\n",
       "      <td>41</td>\n",
       "      <td>среднее</td>\n",
       "      <td>1</td>\n",
       "      <td>женат / замужем</td>\n",
       "      <td>0</td>\n",
       "      <td>M</td>\n",
       "      <td>сотрудник</td>\n",
       "      <td>0</td>\n",
       "      <td>144425</td>\n",
       "      <td>покупка жилья для семьи</td>\n",
       "      <td>C</td>\n",
       "    </tr>\n",
       "  </tbody>\n",
       "</table>\n",
       "</div>"
      ],
      "text/plain": [
       "   children  days_employed  dob_years education  education_id  \\\n",
       "0         1    8437.673028         42    высшее             0   \n",
       "1         1    4024.803754         36   среднее             1   \n",
       "2         0    5623.422610         33   среднее             1   \n",
       "3         3    4124.747207         32   среднее             1   \n",
       "4         0  340266.072047         53   среднее             1   \n",
       "5         0     926.185831         27    высшее             0   \n",
       "6         0    2879.202052         43    высшее             0   \n",
       "7         0     152.779569         50   среднее             1   \n",
       "8         2    6929.865299         35    высшее             0   \n",
       "9         0    2188.756445         41   среднее             1   \n",
       "\n",
       "      family_status  family_status_id gender income_type  debt  total_income  \\\n",
       "0   женат / замужем                 0      F   сотрудник     0        253875   \n",
       "1   женат / замужем                 0      F   сотрудник     0        112080   \n",
       "2   женат / замужем                 0      M   сотрудник     0        145885   \n",
       "3   женат / замужем                 0      M   сотрудник     0        267628   \n",
       "4  гражданский брак                 1      F   пенсионер     0        158616   \n",
       "5  гражданский брак                 1      M   компаньон     0        255763   \n",
       "6   женат / замужем                 0      F   компаньон     0        240525   \n",
       "7   женат / замужем                 0      M   сотрудник     0        135823   \n",
       "8  гражданский брак                 1      F   сотрудник     0         95856   \n",
       "9   женат / замужем                 0      M   сотрудник     0        144425   \n",
       "\n",
       "                      purpose total_income_category  \n",
       "0               покупка жилья                     B  \n",
       "1     приобретение автомобиля                     C  \n",
       "2               покупка жилья                     C  \n",
       "3  дополнительное образование                     B  \n",
       "4             сыграть свадьбу                     C  \n",
       "5               покупка жилья                     B  \n",
       "6           операции с жильем                     B  \n",
       "7                 образование                     C  \n",
       "8       на проведение свадьбы                     C  \n",
       "9     покупка жилья для семьи                     C  "
      ]
     },
     "execution_count": 33,
     "metadata": {},
     "output_type": "execute_result"
    }
   ],
   "source": [
    "data['total_income_category'] = data.apply(categorize_income, axis=1) # примените функцию методом apply()\n",
    "data.head(10)"
   ]
  },
  {
   "cell_type": "markdown",
   "id": "2cfc35f3",
   "metadata": {
    "deletable": false,
    "editable": false,
    "id": "dde49b5c",
    "tags": [
     "start_task"
    ]
   },
   "source": [
    "**Задание 17. Выведите на экран перечень уникальных целей взятия кредита из столбца `purpose`.**"
   ]
  },
  {
   "cell_type": "code",
   "execution_count": 34,
   "id": "524fd583",
   "metadata": {
    "id": "f67ce9b3"
   },
   "outputs": [
    {
     "data": {
      "text/plain": [
       "array(['покупка жилья', 'приобретение автомобиля',\n",
       "       'дополнительное образование', 'сыграть свадьбу',\n",
       "       'операции с жильем', 'образование', 'на проведение свадьбы',\n",
       "       'покупка жилья для семьи', 'покупка недвижимости',\n",
       "       'покупка коммерческой недвижимости', 'покупка жилой недвижимости',\n",
       "       'строительство собственной недвижимости', 'недвижимость',\n",
       "       'строительство недвижимости', 'на покупку подержанного автомобиля',\n",
       "       'на покупку своего автомобиля',\n",
       "       'операции с коммерческой недвижимостью',\n",
       "       'строительство жилой недвижимости', 'жилье',\n",
       "       'операции со своей недвижимостью', 'автомобили',\n",
       "       'заняться образованием', 'сделка с подержанным автомобилем',\n",
       "       'получение образования', 'автомобиль', 'свадьба',\n",
       "       'получение дополнительного образования', 'покупка своего жилья',\n",
       "       'операции с недвижимостью', 'получение высшего образования',\n",
       "       'свой автомобиль', 'сделка с автомобилем',\n",
       "       'профильное образование', 'высшее образование',\n",
       "       'покупка жилья для сдачи', 'на покупку автомобиля', 'ремонт жилью',\n",
       "       'заняться высшим образованием'], dtype=object)"
      ]
     },
     "execution_count": 34,
     "metadata": {},
     "output_type": "execute_result"
    }
   ],
   "source": [
    "data['purpose'].unique() # ваш код здесь"
   ]
  },
  {
   "cell_type": "markdown",
   "id": "105a6ea1",
   "metadata": {
    "deletable": false,
    "editable": false,
    "id": "85d0aef0",
    "tags": [
     "start_task"
    ]
   },
   "source": [
    "**Задание 18. Создайте функцию, которая на основании данных из столбца `purpose` сформирует новый столбец `purpose_category`, в который войдут следующие категории:**\n",
    "\n",
    "- `'операции с автомобилем'`,\n",
    "- `'операции с недвижимостью'`,\n",
    "- `'проведение свадьбы'`,\n",
    "- `'получение образования'`.\n",
    "\n",
    "**Например, если в столбце `purpose` находится подстрока `'на покупку автомобиля'`, то в столбце `purpose_category` должна появиться строка `'операции с автомобилем'`.**\n",
    "\n",
    "**Используйте собственную функцию с именем `categorize_purpose()` и метод `apply()`. Изучите данные в столбце `purpose` и определите, какие подстроки помогут вам правильно определить категорию.**"
   ]
  },
  {
   "cell_type": "code",
   "execution_count": 41,
   "id": "f50dcf7e",
   "metadata": {
    "id": "e149fab4"
   },
   "outputs": [],
   "source": [
    "def categorize_purpose(row): # создайте функцию categorize_purpose():\n",
    "    if \"автомобил\" in str(row['purpose']):\n",
    "        return \"операции с автомобилем\"\n",
    "    \n",
    "    car_words = [\"жиль\", \"недвиж\"]\n",
    "    for word in car_words:\n",
    "        if word in str(row['purpose']):\n",
    "            return \"операции с недвижимостью\"\n",
    "    \n",
    "    if \"свадьб\" in str(row['purpose']):\n",
    "        return \"проведение свадьбы\"\n",
    "    \n",
    "    if \"образов\" in str(row['purpose']):\n",
    "        return \"получение образования\""
   ]
  },
  {
   "cell_type": "code",
   "execution_count": 42,
   "id": "6cdbf810",
   "metadata": {
    "id": "bf36e69b"
   },
   "outputs": [],
   "source": [
    "data['purpose_category'] = data.apply(categorize_purpose, axis=1) # примените функцию методом apply()"
   ]
  },
  {
   "cell_type": "code",
   "execution_count": null,
   "id": "c89a1635",
   "metadata": {},
   "outputs": [],
   "source": []
  }
 ],
 "metadata": {
  "ExecuteTimeLog": [
   {
    "duration": 374,
    "start_time": "2022-06-30T17:29:22.595Z"
   },
   {
    "duration": 79,
    "start_time": "2022-06-30T17:29:41.090Z"
   },
   {
    "duration": 309,
    "start_time": "2022-06-30T17:29:52.137Z"
   },
   {
    "duration": 20,
    "start_time": "2022-06-30T17:30:01.560Z"
   },
   {
    "duration": 16,
    "start_time": "2022-06-30T17:30:16.993Z"
   },
   {
    "duration": 9,
    "start_time": "2022-06-30T17:30:40.269Z"
   },
   {
    "duration": 67,
    "start_time": "2022-06-30T17:37:07.165Z"
   },
   {
    "duration": 8,
    "start_time": "2022-06-30T17:37:18.978Z"
   },
   {
    "duration": 6,
    "start_time": "2022-06-30T17:37:25.164Z"
   },
   {
    "duration": 6,
    "start_time": "2022-06-30T17:37:47.466Z"
   },
   {
    "duration": 5,
    "start_time": "2022-06-30T17:38:28.273Z"
   },
   {
    "duration": 7,
    "start_time": "2022-06-30T17:38:33.861Z"
   },
   {
    "duration": 5,
    "start_time": "2022-06-30T17:39:11.184Z"
   },
   {
    "duration": 6,
    "start_time": "2022-06-30T17:39:15.521Z"
   },
   {
    "duration": 1202,
    "start_time": "2022-06-30T17:39:31.369Z"
   },
   {
    "duration": 7,
    "start_time": "2022-06-30T17:41:15.560Z"
   },
   {
    "duration": 8,
    "start_time": "2022-06-30T17:47:13.446Z"
   },
   {
    "duration": 5,
    "start_time": "2022-06-30T17:47:24.652Z"
   },
   {
    "duration": 10,
    "start_time": "2022-06-30T17:49:55.423Z"
   },
   {
    "duration": 8,
    "start_time": "2022-06-30T17:50:02.585Z"
   },
   {
    "duration": 7,
    "start_time": "2022-06-30T17:51:12.585Z"
   },
   {
    "duration": 9,
    "start_time": "2022-06-30T17:51:23.950Z"
   },
   {
    "duration": 11,
    "start_time": "2022-06-30T17:51:54.547Z"
   },
   {
    "duration": 9,
    "start_time": "2022-06-30T17:52:08.093Z"
   },
   {
    "duration": 14,
    "start_time": "2022-06-30T17:52:16.923Z"
   },
   {
    "duration": 16,
    "start_time": "2022-06-30T17:52:24.094Z"
   },
   {
    "duration": 14,
    "start_time": "2022-06-30T17:52:28.762Z"
   },
   {
    "duration": 10,
    "start_time": "2022-06-30T17:52:54.593Z"
   },
   {
    "duration": 1238,
    "start_time": "2022-06-30T17:53:41.217Z"
   },
   {
    "duration": 96,
    "start_time": "2022-06-30T17:55:49.837Z"
   },
   {
    "duration": 4,
    "start_time": "2022-06-30T17:55:55.200Z"
   },
   {
    "duration": 1324,
    "start_time": "2022-06-30T17:56:03.005Z"
   },
   {
    "duration": 1117,
    "start_time": "2022-06-30T17:56:19.028Z"
   },
   {
    "duration": 23,
    "start_time": "2022-06-30T17:56:43.588Z"
   },
   {
    "duration": 1273,
    "start_time": "2022-06-30T17:56:51.220Z"
   },
   {
    "duration": 1118,
    "start_time": "2022-06-30T18:03:16.844Z"
   },
   {
    "duration": 10,
    "start_time": "2022-06-30T18:03:25.319Z"
   },
   {
    "duration": 1287,
    "start_time": "2022-06-30T18:03:59.556Z"
   },
   {
    "duration": 1110,
    "start_time": "2022-06-30T18:04:18.123Z"
   },
   {
    "duration": 1106,
    "start_time": "2022-06-30T18:04:27.264Z"
   },
   {
    "duration": 9,
    "start_time": "2022-06-30T18:04:40.585Z"
   },
   {
    "duration": 10,
    "start_time": "2022-06-30T18:04:45.269Z"
   },
   {
    "duration": 10,
    "start_time": "2022-06-30T18:05:54.409Z"
   },
   {
    "duration": 10,
    "start_time": "2022-06-30T18:06:15.102Z"
   },
   {
    "duration": 19,
    "start_time": "2022-06-30T18:08:05.487Z"
   },
   {
    "duration": 9,
    "start_time": "2022-06-30T18:08:23.191Z"
   },
   {
    "duration": 13,
    "start_time": "2022-06-30T18:08:26.211Z"
   },
   {
    "duration": 19,
    "start_time": "2022-06-30T18:09:05.250Z"
   },
   {
    "duration": 9,
    "start_time": "2022-06-30T18:09:12.668Z"
   },
   {
    "duration": 13,
    "start_time": "2022-06-30T18:09:18.929Z"
   },
   {
    "duration": 66,
    "start_time": "2022-06-30T18:09:23.081Z"
   },
   {
    "duration": 17,
    "start_time": "2022-06-30T18:09:25.748Z"
   },
   {
    "duration": 9,
    "start_time": "2022-06-30T18:09:28.561Z"
   },
   {
    "duration": 13,
    "start_time": "2022-06-30T18:10:30.083Z"
   },
   {
    "duration": 4,
    "start_time": "2022-06-30T18:10:35.492Z"
   },
   {
    "duration": 20,
    "start_time": "2022-06-30T18:10:37.982Z"
   },
   {
    "duration": 11,
    "start_time": "2022-06-30T18:10:43.003Z"
   },
   {
    "duration": 12,
    "start_time": "2022-06-30T18:12:40.016Z"
   },
   {
    "duration": 10,
    "start_time": "2022-06-30T18:12:40.684Z"
   },
   {
    "duration": 74,
    "start_time": "2022-06-30T18:12:40.831Z"
   },
   {
    "duration": 71,
    "start_time": "2022-06-30T18:12:42.968Z"
   },
   {
    "duration": 19,
    "start_time": "2022-06-30T18:12:47.712Z"
   },
   {
    "duration": 1182,
    "start_time": "2022-06-30T18:13:30.540Z"
   },
   {
    "duration": 16,
    "start_time": "2022-06-30T18:13:59.920Z"
   },
   {
    "duration": 22,
    "start_time": "2022-06-30T18:14:17.887Z"
   },
   {
    "duration": 8,
    "start_time": "2022-06-30T18:14:21.788Z"
   },
   {
    "duration": 24,
    "start_time": "2022-06-30T18:14:30.180Z"
   },
   {
    "duration": 19,
    "start_time": "2022-06-30T18:14:40.869Z"
   },
   {
    "duration": 18,
    "start_time": "2022-06-30T18:15:52.980Z"
   },
   {
    "duration": 10,
    "start_time": "2022-06-30T18:15:55.459Z"
   },
   {
    "duration": 4,
    "start_time": "2022-06-30T18:17:04.688Z"
   },
   {
    "duration": 8,
    "start_time": "2022-06-30T18:18:26.542Z"
   },
   {
    "duration": 13,
    "start_time": "2022-06-30T18:19:58.411Z"
   },
   {
    "duration": 19,
    "start_time": "2022-06-30T18:20:41.988Z"
   },
   {
    "duration": 8,
    "start_time": "2022-06-30T18:21:20.458Z"
   },
   {
    "duration": 4,
    "start_time": "2022-06-30T18:21:41.182Z"
   },
   {
    "duration": 70,
    "start_time": "2022-06-30T18:24:36.447Z"
   },
   {
    "duration": 77,
    "start_time": "2022-06-30T18:24:53.101Z"
   },
   {
    "duration": 7,
    "start_time": "2022-06-30T18:26:17.681Z"
   },
   {
    "duration": 10,
    "start_time": "2022-06-30T18:26:21.641Z"
   },
   {
    "duration": 4,
    "start_time": "2022-06-30T18:26:35.824Z"
   },
   {
    "duration": 20,
    "start_time": "2022-06-30T18:28:34.283Z"
   },
   {
    "duration": 17,
    "start_time": "2022-06-30T18:28:57.225Z"
   },
   {
    "duration": 3,
    "start_time": "2022-07-01T00:31:58.377Z"
   },
   {
    "duration": 3,
    "start_time": "2022-07-01T00:32:10.789Z"
   },
   {
    "duration": 4,
    "start_time": "2022-07-01T00:32:23.309Z"
   },
   {
    "duration": 19,
    "start_time": "2022-07-01T00:32:43.771Z"
   },
   {
    "duration": 27,
    "start_time": "2022-07-01T00:32:50.981Z"
   },
   {
    "duration": 18,
    "start_time": "2022-07-01T00:32:53.796Z"
   },
   {
    "duration": 5,
    "start_time": "2022-07-01T00:33:19.366Z"
   },
   {
    "duration": 4,
    "start_time": "2022-07-01T00:33:29.781Z"
   },
   {
    "duration": 9,
    "start_time": "2022-07-01T00:33:45.590Z"
   },
   {
    "duration": 865,
    "start_time": "2022-07-01T00:34:17.164Z"
   },
   {
    "duration": 3,
    "start_time": "2022-07-01T00:34:37.371Z"
   },
   {
    "duration": 62,
    "start_time": "2022-07-01T00:34:38.066Z"
   },
   {
    "duration": 14,
    "start_time": "2022-07-01T00:34:40.550Z"
   },
   {
    "duration": 10,
    "start_time": "2022-07-01T00:34:44.298Z"
   },
   {
    "duration": 27,
    "start_time": "2022-07-01T00:34:46.025Z"
   },
   {
    "duration": 3,
    "start_time": "2022-07-01T00:34:47.866Z"
   },
   {
    "duration": 8,
    "start_time": "2022-07-01T00:34:49.472Z"
   },
   {
    "duration": 4,
    "start_time": "2022-07-01T00:34:51.407Z"
   },
   {
    "duration": 8,
    "start_time": "2022-07-01T00:34:52.261Z"
   },
   {
    "duration": 20,
    "start_time": "2022-07-01T00:34:54.564Z"
   },
   {
    "duration": 9,
    "start_time": "2022-07-01T00:34:55.895Z"
   },
   {
    "duration": 4,
    "start_time": "2022-07-01T00:34:58.044Z"
   },
   {
    "duration": 16,
    "start_time": "2022-07-01T00:34:59.872Z"
   },
   {
    "duration": 17,
    "start_time": "2022-07-01T00:35:00.419Z"
   },
   {
    "duration": 12,
    "start_time": "2022-07-01T00:35:02.328Z"
   },
   {
    "duration": 3,
    "start_time": "2022-07-01T00:37:58.912Z"
   },
   {
    "duration": 289,
    "start_time": "2022-07-01T00:39:18.191Z"
   },
   {
    "duration": 3,
    "start_time": "2022-07-01T00:39:40.329Z"
   },
   {
    "duration": 307,
    "start_time": "2022-07-01T00:39:41.907Z"
   },
   {
    "duration": 3,
    "start_time": "2022-07-01T00:39:48.562Z"
   },
   {
    "duration": 7,
    "start_time": "2022-07-01T00:39:52.529Z"
   },
   {
    "duration": 886,
    "start_time": "2022-07-01T00:39:55.860Z"
   },
   {
    "duration": 3,
    "start_time": "2022-07-01T00:41:34.471Z"
   },
   {
    "duration": 291,
    "start_time": "2022-07-01T00:41:35.184Z"
   },
   {
    "duration": 330,
    "start_time": "2022-07-01T00:42:02.184Z"
   },
   {
    "duration": 8,
    "start_time": "2022-07-01T00:42:05.148Z"
   },
   {
    "duration": 3,
    "start_time": "2022-07-01T00:42:13.476Z"
   },
   {
    "duration": 9,
    "start_time": "2022-07-01T00:42:15.462Z"
   },
   {
    "duration": 6,
    "start_time": "2022-07-01T00:42:56.697Z"
   },
   {
    "duration": 3,
    "start_time": "2022-07-01T00:42:58.115Z"
   },
   {
    "duration": 6,
    "start_time": "2022-07-01T00:42:58.507Z"
   },
   {
    "duration": 3,
    "start_time": "2022-07-01T00:43:02.167Z"
   },
   {
    "duration": 9,
    "start_time": "2022-07-01T00:43:02.611Z"
   },
   {
    "duration": 9,
    "start_time": "2022-07-01T00:43:12.333Z"
   },
   {
    "duration": 249,
    "start_time": "2022-07-01T00:43:18.395Z"
   },
   {
    "duration": 240,
    "start_time": "2022-07-01T00:43:31.263Z"
   },
   {
    "duration": 2,
    "start_time": "2022-07-01T00:43:47.335Z"
   },
   {
    "duration": 65,
    "start_time": "2022-07-01T00:43:47.600Z"
   },
   {
    "duration": 14,
    "start_time": "2022-07-01T00:43:48.514Z"
   },
   {
    "duration": 13,
    "start_time": "2022-07-01T00:43:49.483Z"
   },
   {
    "duration": 9,
    "start_time": "2022-07-01T00:43:50.325Z"
   },
   {
    "duration": 21,
    "start_time": "2022-07-01T00:43:50.402Z"
   },
   {
    "duration": 3,
    "start_time": "2022-07-01T00:43:50.497Z"
   },
   {
    "duration": 7,
    "start_time": "2022-07-01T00:43:50.955Z"
   },
   {
    "duration": 4,
    "start_time": "2022-07-01T00:43:51.381Z"
   },
   {
    "duration": 8,
    "start_time": "2022-07-01T00:43:51.854Z"
   },
   {
    "duration": 4,
    "start_time": "2022-07-01T00:43:52.145Z"
   },
   {
    "duration": 19,
    "start_time": "2022-07-01T00:43:52.854Z"
   },
   {
    "duration": 12,
    "start_time": "2022-07-01T00:43:53.170Z"
   },
   {
    "duration": 4,
    "start_time": "2022-07-01T00:43:53.746Z"
   },
   {
    "duration": 16,
    "start_time": "2022-07-01T00:43:53.838Z"
   },
   {
    "duration": 16,
    "start_time": "2022-07-01T00:43:53.868Z"
   },
   {
    "duration": 9,
    "start_time": "2022-07-01T00:43:54.147Z"
   },
   {
    "duration": 3,
    "start_time": "2022-07-01T00:44:05.069Z"
   },
   {
    "duration": 252,
    "start_time": "2022-07-01T00:44:05.686Z"
   },
   {
    "duration": 2,
    "start_time": "2022-07-01T00:44:28.725Z"
   },
   {
    "duration": 66,
    "start_time": "2022-07-01T00:44:29.001Z"
   },
   {
    "duration": 13,
    "start_time": "2022-07-01T00:44:29.768Z"
   },
   {
    "duration": 14,
    "start_time": "2022-07-01T00:44:30.361Z"
   },
   {
    "duration": 9,
    "start_time": "2022-07-01T00:44:30.978Z"
   },
   {
    "duration": 18,
    "start_time": "2022-07-01T00:44:31.269Z"
   },
   {
    "duration": 3,
    "start_time": "2022-07-01T00:44:31.727Z"
   },
   {
    "duration": 7,
    "start_time": "2022-07-01T00:44:32.048Z"
   },
   {
    "duration": 4,
    "start_time": "2022-07-01T00:44:32.503Z"
   },
   {
    "duration": 8,
    "start_time": "2022-07-01T00:44:32.997Z"
   },
   {
    "duration": 4,
    "start_time": "2022-07-01T00:44:33.489Z"
   },
   {
    "duration": 19,
    "start_time": "2022-07-01T00:44:34.726Z"
   },
   {
    "duration": 10,
    "start_time": "2022-07-01T00:44:35.409Z"
   },
   {
    "duration": 3,
    "start_time": "2022-07-01T00:44:37.795Z"
   },
   {
    "duration": 15,
    "start_time": "2022-07-01T00:44:38.923Z"
   },
   {
    "duration": 17,
    "start_time": "2022-07-01T00:44:40.078Z"
   },
   {
    "duration": 10,
    "start_time": "2022-07-01T00:44:41.921Z"
   },
   {
    "duration": 11,
    "start_time": "2022-07-01T00:45:07.378Z"
   },
   {
    "duration": 3,
    "start_time": "2022-07-01T00:45:08.128Z"
   },
   {
    "duration": 240,
    "start_time": "2022-07-01T00:45:08.834Z"
   },
   {
    "duration": 2,
    "start_time": "2022-07-01T00:47:44.174Z"
   },
   {
    "duration": 71,
    "start_time": "2022-07-01T00:47:44.469Z"
   },
   {
    "duration": 15,
    "start_time": "2022-07-01T00:47:54.028Z"
   },
   {
    "duration": 12,
    "start_time": "2022-07-01T00:47:55.363Z"
   },
   {
    "duration": 8,
    "start_time": "2022-07-01T00:47:56.135Z"
   },
   {
    "duration": 20,
    "start_time": "2022-07-01T00:47:56.826Z"
   },
   {
    "duration": 4,
    "start_time": "2022-07-01T00:47:57.594Z"
   },
   {
    "duration": 8,
    "start_time": "2022-07-01T00:47:58.511Z"
   },
   {
    "duration": 4,
    "start_time": "2022-07-01T00:48:00.906Z"
   },
   {
    "duration": 7,
    "start_time": "2022-07-01T00:48:01.643Z"
   },
   {
    "duration": 4,
    "start_time": "2022-07-01T00:48:01.727Z"
   },
   {
    "duration": 19,
    "start_time": "2022-07-01T00:48:02.153Z"
   },
   {
    "duration": 8,
    "start_time": "2022-07-01T00:48:03.029Z"
   },
   {
    "duration": 4,
    "start_time": "2022-07-01T00:48:07.481Z"
   },
   {
    "duration": 20,
    "start_time": "2022-07-01T00:48:13.607Z"
   },
   {
    "duration": 17,
    "start_time": "2022-07-01T00:48:13.753Z"
   },
   {
    "duration": 10,
    "start_time": "2022-07-01T00:48:21.339Z"
   },
   {
    "duration": 3,
    "start_time": "2022-07-01T00:48:45.306Z"
   },
   {
    "duration": 233,
    "start_time": "2022-07-01T00:48:47.941Z"
   },
   {
    "duration": 6,
    "start_time": "2022-07-01T00:49:45.492Z"
   },
   {
    "duration": 232,
    "start_time": "2022-07-01T00:51:39.973Z"
   },
   {
    "duration": 333,
    "start_time": "2022-07-01T00:56:23.166Z"
   },
   {
    "duration": 71,
    "start_time": "2022-07-01T00:56:23.501Z"
   },
   {
    "duration": 23,
    "start_time": "2022-07-01T00:56:23.573Z"
   },
   {
    "duration": 20,
    "start_time": "2022-07-01T00:56:23.597Z"
   },
   {
    "duration": 8,
    "start_time": "2022-07-01T00:56:23.630Z"
   },
   {
    "duration": 29,
    "start_time": "2022-07-01T00:56:23.640Z"
   },
   {
    "duration": 4,
    "start_time": "2022-07-01T00:56:23.671Z"
   },
   {
    "duration": 13,
    "start_time": "2022-07-01T00:56:23.677Z"
   },
   {
    "duration": 5,
    "start_time": "2022-07-01T00:56:23.691Z"
   },
   {
    "duration": 32,
    "start_time": "2022-07-01T00:56:23.698Z"
   },
   {
    "duration": 5,
    "start_time": "2022-07-01T00:56:23.732Z"
   },
   {
    "duration": 25,
    "start_time": "2022-07-01T00:56:23.738Z"
   },
   {
    "duration": 9,
    "start_time": "2022-07-01T00:56:23.764Z"
   },
   {
    "duration": 3,
    "start_time": "2022-07-01T00:56:23.776Z"
   },
   {
    "duration": 23,
    "start_time": "2022-07-01T00:56:23.781Z"
   },
   {
    "duration": 39,
    "start_time": "2022-07-01T00:56:23.805Z"
   },
   {
    "duration": 11,
    "start_time": "2022-07-01T00:56:23.846Z"
   },
   {
    "duration": 5,
    "start_time": "2022-07-01T00:56:23.859Z"
   },
   {
    "duration": 280,
    "start_time": "2022-07-01T00:56:23.866Z"
   },
   {
    "duration": 6,
    "start_time": "2022-07-01T00:56:24.147Z"
   },
   {
    "duration": 96,
    "start_time": "2022-07-01T00:56:24.155Z"
   },
   {
    "duration": 0,
    "start_time": "2022-07-01T00:56:24.253Z"
   },
   {
    "duration": 4,
    "start_time": "2022-07-01T00:57:03.106Z"
   },
   {
    "duration": 264,
    "start_time": "2022-07-01T00:57:03.835Z"
   },
   {
    "duration": 73,
    "start_time": "2022-07-01T00:57:44.841Z"
   },
   {
    "duration": 4,
    "start_time": "2022-07-01T00:57:55.447Z"
   },
   {
    "duration": 228,
    "start_time": "2022-07-01T00:57:57.162Z"
   },
   {
    "duration": 3,
    "start_time": "2022-07-01T00:58:13.946Z"
   },
   {
    "duration": 233,
    "start_time": "2022-07-01T00:58:14.401Z"
   },
   {
    "duration": 88,
    "start_time": "2022-07-01T00:58:22.459Z"
   },
   {
    "duration": 4,
    "start_time": "2022-07-01T00:58:26.531Z"
   },
   {
    "duration": 229,
    "start_time": "2022-07-01T00:58:28.077Z"
   },
   {
    "duration": 3,
    "start_time": "2022-07-01T00:59:56.114Z"
   },
   {
    "duration": 229,
    "start_time": "2022-07-01T00:59:56.964Z"
   },
   {
    "duration": 5,
    "start_time": "2022-07-01T01:00:48.892Z"
   },
   {
    "duration": 3,
    "start_time": "2022-07-01T01:05:50.647Z"
   },
   {
    "duration": 355,
    "start_time": "2022-07-01T01:06:36.190Z"
   },
   {
    "duration": 17,
    "start_time": "2022-07-01T01:07:08.917Z"
   },
   {
    "duration": 3,
    "start_time": "2022-07-01T01:07:50.384Z"
   },
   {
    "duration": 17,
    "start_time": "2022-07-01T01:07:52.482Z"
   },
   {
    "duration": 97,
    "start_time": "2022-07-01T01:09:04.433Z"
   },
   {
    "duration": 4,
    "start_time": "2022-07-01T01:09:24.236Z"
   },
   {
    "duration": 212,
    "start_time": "2022-07-01T01:09:26.286Z"
   }
  ],
  "colab": {
   "name": "dpp_template_part1.ipynb",
   "provenance": []
  },
  "kernelspec": {
   "display_name": "Python 3 (ipykernel)",
   "language": "python",
   "name": "python3"
  },
  "language_info": {
   "codemirror_mode": {
    "name": "ipython",
    "version": 3
   },
   "file_extension": ".py",
   "mimetype": "text/x-python",
   "name": "python",
   "nbconvert_exporter": "python",
   "pygments_lexer": "ipython3",
   "version": "3.9.5"
  },
  "toc": {
   "base_numbering": 1,
   "nav_menu": {},
   "number_sections": true,
   "sideBar": true,
   "skip_h1_title": true,
   "title_cell": "Table of Contents",
   "title_sidebar": "Contents",
   "toc_cell": false,
   "toc_position": {},
   "toc_section_display": true,
   "toc_window_display": false
  }
 },
 "nbformat": 4,
 "nbformat_minor": 5
}
